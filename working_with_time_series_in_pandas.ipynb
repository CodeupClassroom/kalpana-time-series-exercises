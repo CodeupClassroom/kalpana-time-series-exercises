{
 "cells": [
  {
   "cell_type": "markdown",
   "id": "8b4e6250-df6b-4055-9009-639e3ccef009",
   "metadata": {},
   "source": [
    "# Working With Time Series in Pandas\n",
    "\n",
    "## Imports"
   ]
  },
  {
   "cell_type": "code",
   "execution_count": null,
   "id": "92e9de37-1d72-4281-ab93-3a806a0a0846",
   "metadata": {},
   "outputs": [],
   "source": [
    "import pandas as pd\n",
    "\n",
    "import matplotlib.pyplot as plt\n",
    "plt.rcParams[\"figure.figsize\"] = (16,9)\n",
    "plt.rcParams[\"font.size\"] = 20\n",
    "\n",
    "import warnings\n",
    "warnings.filterwarnings('ignore')"
   ]
  },
  {
   "cell_type": "markdown",
   "id": "d632b3f6-a0f4-41b4-aa62-16e582851bdc",
   "metadata": {},
   "source": [
    "## Converting to DateTime Type"
   ]
  },
  {
   "cell_type": "markdown",
   "id": "120c4501-0225-4c30-96b9-a37fcd0a80a1",
   "metadata": {},
   "source": [
    "![I have a Date!](https://media2.giphy.com/media/W2heDDJSLC0thGO7Ld/giphy.gif?cid=ecf05e472da7nf00vbh7xp4lqxyszvszjojoc2qw3uthsz4s&rid=giphy.gif&ct=g)\n",
    "\n",
    "### But how do I get pandas to understand it and work with it"
   ]
  },
  {
   "cell_type": "code",
   "execution_count": null,
   "id": "f86d0308-0168-42b9-929f-31eb3e9755a3",
   "metadata": {},
   "outputs": [],
   "source": [
    "pd.to_datetime('Jan 1 1970')"
   ]
  },
  {
   "cell_type": "markdown",
   "id": "a076c573-c575-42cc-99f9-a43508ad08d7",
   "metadata": {},
   "source": [
    "### But sometime pandas isn't able to infer the format of our date"
   ]
  },
  {
   "cell_type": "code",
   "execution_count": null,
   "id": "2db61eb9-f51d-44a0-b796-663f27db5f48",
   "metadata": {},
   "outputs": [],
   "source": [
    "try:\n",
    "    pd.to_datetime('Jan:1:1970')\n",
    "except ValueError as e:\n",
    "    print('ValueError', e)"
   ]
  },
  {
   "cell_type": "markdown",
   "id": "3f95283c-8235-4dac-b200-97d307aba4c0",
   "metadata": {},
   "source": [
    "### So we need to tell pandas what the foramt is"
   ]
  },
  {
   "cell_type": "code",
   "execution_count": null,
   "id": "341f67db-90b9-427d-93a8-e69be9dd9a74",
   "metadata": {},
   "outputs": [],
   "source": [
    "pd.to_datetime('Jan:1:1970', format='%b:%d:%Y')"
   ]
  },
  {
   "cell_type": "markdown",
   "id": "584a2318-58c4-4c15-b9b4-c963cd3e75a1",
   "metadata": {},
   "source": [
    "#### There are all sorts of format codes and you can find them here: [Python date format codes](https://docs.python.org/3/library/datetime.html#strftime-and-strptime-behavior)"
   ]
  },
  {
   "cell_type": "markdown",
   "id": "6fec5c9f-2e40-4973-b56b-7d64df7a25a1",
   "metadata": {},
   "source": [
    "### Now what about a whole column of dates?"
   ]
  },
  {
   "cell_type": "code",
   "execution_count": null,
   "id": "a4ad16d3-f57a-408c-964e-9a1a71a69306",
   "metadata": {},
   "outputs": [],
   "source": [
    "url = \"https://gist.githubusercontent.com/ryanorsinger/b309f8db19e0ca71b213d4877d835e77/raw/f5841017310e2f4ca070b313529ceec2375336ba/coffee_consumption.csv\"\n",
    "df = pd.read_csv(url)\n",
    "df"
   ]
  },
  {
   "cell_type": "code",
   "execution_count": null,
   "id": "53064412-a94c-4b09-80bd-d6867f913df8",
   "metadata": {},
   "outputs": [],
   "source": [
    "df.dtypes"
   ]
  },
  {
   "cell_type": "code",
   "execution_count": null,
   "id": "fa9095f5-218f-4f65-9a42-72caecaee41c",
   "metadata": {},
   "outputs": [],
   "source": [
    "type(df.iloc[1]['date'])"
   ]
  },
  {
   "cell_type": "code",
   "execution_count": null,
   "id": "97021960-b59d-4bc5-92f2-4f796578ee40",
   "metadata": {},
   "outputs": [],
   "source": [
    "df.date = pd.to_datetime(df.date)\n",
    "df.dtypes"
   ]
  },
  {
   "cell_type": "markdown",
   "id": "4f342a9c-c377-4f16-b7e2-2ea463499d59",
   "metadata": {},
   "source": [
    "## Working with DateTime Series"
   ]
  },
  {
   "cell_type": "code",
   "execution_count": null,
   "id": "ab15b436-4e1b-4a4f-9f70-94e0a3cba5ea",
   "metadata": {},
   "outputs": [],
   "source": [
    "df.date"
   ]
  },
  {
   "cell_type": "markdown",
   "id": "f25359e1-ada3-4974-928e-c4bffd07d162",
   "metadata": {},
   "source": [
    "### `.dt` allows us to extract parts of the date"
   ]
  },
  {
   "cell_type": "code",
   "execution_count": null,
   "id": "c935cb67-c33b-4b9d-9034-bdf675204a82",
   "metadata": {},
   "outputs": [],
   "source": [
    "df.date.dt.year"
   ]
  },
  {
   "cell_type": "code",
   "execution_count": null,
   "id": "53cbfdae-241a-4dbb-b99d-387a561f2b1e",
   "metadata": {},
   "outputs": [],
   "source": [
    "df.date.dt.month"
   ]
  },
  {
   "cell_type": "code",
   "execution_count": null,
   "id": "5bf5fac7-358c-4878-8905-574207da306f",
   "metadata": {},
   "outputs": [],
   "source": [
    "df.date.dt.day"
   ]
  },
  {
   "cell_type": "code",
   "execution_count": null,
   "id": "61855045-5c26-4f28-8d53-b77f1ee1502d",
   "metadata": {},
   "outputs": [],
   "source": [
    "df.date.dt.day_name()"
   ]
  },
  {
   "cell_type": "markdown",
   "id": "0ed55004-8d41-4a0a-b778-7a59598ebb20",
   "metadata": {},
   "source": [
    "### Since they are returned as a Series, we can add them back as columns"
   ]
  },
  {
   "cell_type": "code",
   "execution_count": null,
   "id": "d8567288-d000-4afe-9611-3c098d6ec9d6",
   "metadata": {},
   "outputs": [],
   "source": [
    "df['year'] = df.date.dt.year\n",
    "df"
   ]
  },
  {
   "cell_type": "code",
   "execution_count": null,
   "id": "5f7d72ba-e6d0-4986-b860-7d5a89ddf440",
   "metadata": {},
   "outputs": [],
   "source": [
    "df['month'] = df.date.dt.month\n",
    "df['day'] = df.date.dt.day\n",
    "df['weekday'] = df.date.dt.day_name()\n",
    "df.head()"
   ]
  },
  {
   "cell_type": "markdown",
   "id": "c36c09f8-933e-4e59-b586-9abf3bfbf20b",
   "metadata": {},
   "source": [
    "## Working with more complicated data"
   ]
  },
  {
   "cell_type": "code",
   "execution_count": null,
   "id": "014cd4f5-6821-4dd8-b4d6-3d8aa6ab7151",
   "metadata": {},
   "outputs": [],
   "source": [
    "sheet_url = 'https://docs.google.com/spreadsheets/d/1kTrAFSrr-xP3REs0Lly0TdV4ekrHahBXLg9r5qKxmV8/edit#gid=0'\n",
    "csv_export_url = sheet_url.replace('/edit#gid=', '/export?format=csv&gid=')\n",
    "\n",
    "df = pd.read_csv(csv_export_url)\n",
    "df.columns = df.columns.str.lower()\n",
    "df"
   ]
  },
  {
   "cell_type": "code",
   "execution_count": null,
   "id": "75f16858-1110-4892-b914-dcda62b0a8a9",
   "metadata": {},
   "outputs": [],
   "source": [
    "df.info()"
   ]
  },
  {
   "cell_type": "code",
   "execution_count": null,
   "id": "689e9e97-9abc-4d0e-b2b0-10d7110e886f",
   "metadata": {},
   "outputs": [],
   "source": [
    "df.close.plot()"
   ]
  },
  {
   "cell_type": "markdown",
   "id": "97293d7e-e2d8-4030-afb8-6e63807e292b",
   "metadata": {},
   "source": [
    "### How do we make pandas time aware so we can utilize the built in functionality for time series analysis?\n",
    "\n",
    "#### 3 steps\n",
    "\n",
    "* Convert 'date/time' column to datetime object in Pandas (pd.to_datetime())\n",
    "* Set the datetime column as Index\n",
    "* Sort the datetime index\n",
    "\n",
    "### Convert to datetime"
   ]
  },
  {
   "cell_type": "code",
   "execution_count": null,
   "id": "8634913f-2b7b-490d-af8e-ae0a37c1e853",
   "metadata": {},
   "outputs": [],
   "source": [
    "df.dtypes"
   ]
  },
  {
   "cell_type": "code",
   "execution_count": null,
   "id": "39677f20-a54b-4f8b-b0a1-728cd1057d69",
   "metadata": {},
   "outputs": [],
   "source": [
    "try:\n",
    "    pd.to_datetime(df.date)\n",
    "except ValueError as e:\n",
    "    print('ValueError', e)"
   ]
  },
  {
   "cell_type": "markdown",
   "id": "83f5bdd2-80f5-40b3-bb49-9e054365640d",
   "metadata": {},
   "source": [
    "#### So what is happening?\n",
    "\n",
    "Pandas is telling us it is unable to infer what our date format is.\n",
    "\n",
    "2020-03-13 12-PM is what our date looks like.\n",
    "\n",
    "It is made up of several parts:\n",
    "\n",
    "* a 4 digit year: `%Y`\n",
    "* followed by a hyphen `-`\n",
    "* a two digit month: `%m`\n",
    "* followed by a hyphen `-`\n",
    "* a two digit day: `%d`\n",
    "* a space ` `\n",
    "* a 12-hour clock number: `%I`\n",
    "* a hyphen `-`\n",
    "* an AM/PM `%p`\n",
    "\n",
    "With this info we can now build our format string:\n",
    "\n",
    "`2020-03-13 12-PM`\n",
    "\n",
    "`%Y-%m-%d %I-%p`"
   ]
  },
  {
   "cell_type": "code",
   "execution_count": null,
   "id": "9686c77a-d50c-4402-b618-44dd4f30ac97",
   "metadata": {},
   "outputs": [],
   "source": [
    "pd.to_datetime('2020-03-13 12-PM', format='%Y-%m-%d %I-%p')"
   ]
  },
  {
   "cell_type": "code",
   "execution_count": null,
   "id": "66e80b79-34e6-4972-816e-4c6912d4547f",
   "metadata": {},
   "outputs": [],
   "source": [
    "df.date = pd.to_datetime(df.date, format='%Y-%m-%d %I-%p')"
   ]
  },
  {
   "cell_type": "code",
   "execution_count": null,
   "id": "60970a08-bc12-406b-ac9e-f73e9b41805c",
   "metadata": {},
   "outputs": [],
   "source": [
    "df"
   ]
  },
  {
   "cell_type": "code",
   "execution_count": null,
   "id": "337d2ffd-ee38-4365-bff8-05e41c1f2f33",
   "metadata": {},
   "outputs": [],
   "source": [
    "df.dtypes"
   ]
  },
  {
   "cell_type": "markdown",
   "id": "f7f6e700-02dc-4d0b-8b2e-cf359d984d85",
   "metadata": {},
   "source": [
    "### Now we can set date to the index and sort the index"
   ]
  },
  {
   "cell_type": "code",
   "execution_count": null,
   "id": "791f8d90-8148-41c8-8f37-56f687a1d028",
   "metadata": {},
   "outputs": [],
   "source": [
    "df = df.set_index('date').sort_index()\n",
    "df"
   ]
  },
  {
   "cell_type": "code",
   "execution_count": null,
   "id": "b2125de9-2920-49ae-ab43-e0d934d038eb",
   "metadata": {},
   "outputs": [],
   "source": [
    "df.close.plot()"
   ]
  },
  {
   "cell_type": "markdown",
   "id": "f2c3ac49-98eb-4336-91a2-a55b640801c8",
   "metadata": {},
   "source": [
    "### Let's look at the the mean on each day of the week\n",
    "\n",
    "#### [Pandas datetimeIndex attributes](https://pandas.pydata.org/docs/reference/api/pandas.DatetimeIndex.html)"
   ]
  },
  {
   "cell_type": "code",
   "execution_count": null,
   "id": "ff18ce2e-c580-48d3-9ce3-b9fb0a057b04",
   "metadata": {},
   "outputs": [],
   "source": [
    "df.index.day_name()"
   ]
  },
  {
   "cell_type": "code",
   "execution_count": null,
   "id": "146ad198-4189-4ebb-bad3-d6651ad5c03f",
   "metadata": {},
   "outputs": [],
   "source": [
    "df['weekday_name'] = df.index.day_name()"
   ]
  },
  {
   "cell_type": "code",
   "execution_count": null,
   "id": "168f535d-b983-4335-8b87-4253a8eb9ad6",
   "metadata": {},
   "outputs": [],
   "source": [
    "df"
   ]
  },
  {
   "cell_type": "code",
   "execution_count": null,
   "id": "8f4d87e5-ea41-41bc-a996-7309a53d864b",
   "metadata": {},
   "outputs": [],
   "source": [
    "df.groupby('weekday_name').mean()"
   ]
  },
  {
   "cell_type": "code",
   "execution_count": null,
   "id": "1e6120c2-d1b0-4064-aec2-1917eb5d20d9",
   "metadata": {},
   "outputs": [],
   "source": [
    "df.groupby('weekday_name').mean().close.plot()"
   ]
  },
  {
   "cell_type": "code",
   "execution_count": null,
   "id": "93755fb7-f301-4bbb-8cad-3deb5adf0518",
   "metadata": {},
   "outputs": [],
   "source": [
    "df.groupby('weekday_name').mean().volume.plot()"
   ]
  },
  {
   "cell_type": "markdown",
   "id": "420a0fae-ae26-4f97-82c1-07fd762f07e4",
   "metadata": {},
   "source": [
    "#### The days are out of order so let's fix that"
   ]
  },
  {
   "cell_type": "code",
   "execution_count": null,
   "id": "aa254425-1979-485e-8ca8-57767b52280e",
   "metadata": {},
   "outputs": [],
   "source": [
    "df.index"
   ]
  },
  {
   "cell_type": "code",
   "execution_count": null,
   "id": "8175d561-e051-4bc5-be67-a1f335dc1150",
   "metadata": {},
   "outputs": [],
   "source": [
    "df.index.day_of_week"
   ]
  },
  {
   "cell_type": "code",
   "execution_count": null,
   "id": "a482f292-38c6-476f-89e8-d27dd4e64b79",
   "metadata": {},
   "outputs": [],
   "source": [
    "df['weekday_number'] = df.index.day_of_week\n",
    "df"
   ]
  },
  {
   "cell_type": "code",
   "execution_count": null,
   "id": "c3b9da66-6775-41d3-bbbb-d1f1314ee692",
   "metadata": {},
   "outputs": [],
   "source": [
    "df.groupby('weekday_name').mean()"
   ]
  },
  {
   "cell_type": "code",
   "execution_count": null,
   "id": "dee0feb1-1513-4695-9c3a-facd7f94dd70",
   "metadata": {},
   "outputs": [],
   "source": [
    "df.groupby('weekday_name').mean().sort_values('weekday_number')"
   ]
  },
  {
   "cell_type": "code",
   "execution_count": null,
   "id": "4893af2a-8579-4614-9c01-1fbb638d3581",
   "metadata": {},
   "outputs": [],
   "source": [
    "df.groupby('weekday_name').mean().sort_values('weekday_number').volume.plot()"
   ]
  },
  {
   "cell_type": "code",
   "execution_count": null,
   "id": "d49a9d54-be64-444f-8e19-669c94b33c5f",
   "metadata": {},
   "outputs": [],
   "source": [
    "df.groupby('weekday_name').mean().sort_values('weekday_number').close.plot()"
   ]
  },
  {
   "cell_type": "markdown",
   "id": "00da9e8d-ce8b-4e4e-98a0-c09034884cf9",
   "metadata": {},
   "source": [
    "![Nice gif](https://c.tenor.com/bEBxkuyFiucAAAAC/yes-nice.gif)\n",
    "\n",
    "### How do we get a subset of the dataframe?"
   ]
  },
  {
   "cell_type": "code",
   "execution_count": null,
   "id": "14e9a049-1d4f-4993-9e71-9cd879cd51fd",
   "metadata": {},
   "outputs": [],
   "source": [
    "df.loc['2019-11-19 12:00:00']"
   ]
  },
  {
   "cell_type": "code",
   "execution_count": null,
   "id": "b1875e70-19c3-4cea-9662-3c5d25c52863",
   "metadata": {},
   "outputs": [],
   "source": [
    "df['2018':'2019']"
   ]
  },
  {
   "cell_type": "code",
   "execution_count": null,
   "id": "e2847146-333c-4498-98e4-6ef91170026c",
   "metadata": {},
   "outputs": [],
   "source": [
    "df['2018-11']"
   ]
  },
  {
   "cell_type": "code",
   "execution_count": null,
   "id": "dc892e37-bbcd-471d-8d50-ba880a58c523",
   "metadata": {},
   "outputs": [],
   "source": [
    "df['2018-01-01': '2018-06-30']"
   ]
  },
  {
   "cell_type": "code",
   "execution_count": null,
   "id": "dc1aa350-b8c9-4bc2-a943-a80fdf61454c",
   "metadata": {},
   "outputs": [],
   "source": [
    "df = df.drop(columns=['weekday_name', 'weekday_number'])\n",
    "df"
   ]
  },
  {
   "cell_type": "markdown",
   "id": "1bd65598-8c10-42cd-bbc6-d6f66bac6df9",
   "metadata": {
    "tags": []
   },
   "source": [
    "### How about changing the period of our data?\n",
    "\n",
    "#### Downsampling: Reducing Frequency"
   ]
  },
  {
   "cell_type": "code",
   "execution_count": null,
   "id": "46ad5423-d160-4f6f-a4de-f472e9f0aa35",
   "metadata": {},
   "outputs": [],
   "source": [
    "by_month = df.asfreq('M')\n",
    "by_month.head()"
   ]
  },
  {
   "cell_type": "code",
   "execution_count": null,
   "id": "6bedf06c-443f-4090-95a8-5f8bfcd2c88c",
   "metadata": {},
   "outputs": [],
   "source": [
    "by_month.close.plot()"
   ]
  },
  {
   "cell_type": "markdown",
   "id": "56a889a7-23ad-4fed-b4d6-975cb41c715f",
   "metadata": {},
   "source": [
    "##### What if I want the first day of the month?\n",
    "\n",
    "[Pandas asfreq Offset Aliases](https://pandas.pydata.org/pandas-docs/stable/user_guide/timeseries.html#offset-aliases)\n",
    "\n",
    "[Pandas asfreq Anchored Offsets](https://pandas.pydata.org/pandas-docs/stable/user_guide/timeseries.html#anchored-offsets)"
   ]
  },
  {
   "cell_type": "code",
   "execution_count": null,
   "id": "28b0ab37-21cb-4162-89be-403dfda9a6db",
   "metadata": {},
   "outputs": [],
   "source": [
    "by_month_first_day = df.asfreq('MS')\n",
    "by_month_first_day.head()"
   ]
  },
  {
   "cell_type": "code",
   "execution_count": null,
   "id": "2309cc35-8689-47ca-8ca8-5d4cf5fd0511",
   "metadata": {},
   "outputs": [],
   "source": [
    "by_month.close.plot(label='Last Day of Month Frequency')\n",
    "by_month_first_day.close.plot(label='First Day of Month Frequency')\n",
    "plt.legend()\n",
    "plt.show()"
   ]
  },
  {
   "cell_type": "markdown",
   "id": "3b9c6837-fbe8-45e8-a040-4b633427035d",
   "metadata": {},
   "source": [
    "#### Upsampling: Increasing Frequency"
   ]
  },
  {
   "cell_type": "code",
   "execution_count": null,
   "id": "ddc1ef5e-f33d-4907-b209-f77e3fb51aab",
   "metadata": {},
   "outputs": [],
   "source": [
    "by_half_hour = df.asfreq('30T')\n",
    "by_half_hour.head(10)"
   ]
  },
  {
   "cell_type": "markdown",
   "id": "03ed746d-958f-402f-82e2-60074dcafa8a",
   "metadata": {},
   "source": [
    "#### As freq allows us to fill in the NaNs with two different methods"
   ]
  },
  {
   "cell_type": "code",
   "execution_count": null,
   "id": "16c860f9-23c1-4dc8-856c-b602d36be433",
   "metadata": {},
   "outputs": [],
   "source": [
    "by_half_hour.assign(\n",
    "    ffill=lambda df: df.volume.ffill(),\n",
    "    bfill=lambda df: df.volume.bfill()\n",
    ").head()"
   ]
  },
  {
   "cell_type": "code",
   "execution_count": null,
   "id": "1153d493-1dad-49d7-9191-8c1f7cf0ba63",
   "metadata": {},
   "outputs": [],
   "source": [
    "by_half_hour = df.asfreq('30T', method='ffill')\n",
    "by_half_hour.head()"
   ]
  },
  {
   "cell_type": "markdown",
   "id": "920e4029-5a14-4155-aa4f-d62d47ad0858",
   "metadata": {},
   "source": [
    "### What about Resampling (Aggregating over time)\n",
    "   \n",
    "    * This is similiar to groupby but for dates"
   ]
  },
  {
   "cell_type": "code",
   "execution_count": null,
   "id": "bcca4f64-208c-49a3-a06a-02ceb89b5229",
   "metadata": {},
   "outputs": [],
   "source": [
    "daily_df = df.resample('D').mean()\n",
    "daily_df"
   ]
  },
  {
   "cell_type": "code",
   "execution_count": null,
   "id": "5e894333-c907-4714-aba9-0aa854e0d76a",
   "metadata": {},
   "outputs": [],
   "source": [
    "daily_df.close.plot(label='Daily')\n",
    "df.resample('W').mean().close.plot(label='Weekly')\n",
    "df.resample('M').mean().close.plot(label='Monthly')\n",
    "df.resample('Y').mean().close.plot(label='Yearly')\n",
    "plt.legend()\n",
    "plt.show()"
   ]
  },
  {
   "cell_type": "markdown",
   "id": "afca605e-f037-4ae1-970a-d296e76fa487",
   "metadata": {},
   "source": [
    "### Rolling Average/Windows"
   ]
  },
  {
   "cell_type": "code",
   "execution_count": null,
   "id": "8cf862a2-8d61-44e9-9c51-9be74d172f06",
   "metadata": {},
   "outputs": [],
   "source": [
    "daily_df.rolling(5).mean().head(10)"
   ]
  },
  {
   "cell_type": "code",
   "execution_count": null,
   "id": "5ce9e049-e43a-43fa-b2b5-a5b14d2c3f4a",
   "metadata": {},
   "outputs": [],
   "source": [
    "df.close.plot(label='Original Granularity')\n",
    "df.resample('W').mean().close.rolling(4).mean().plot(label='4 week average')\n",
    "df.resample('W').mean().close.rolling(12).mean().plot(label='12 week average')\n",
    "plt.legend()\n",
    "plt.show()"
   ]
  },
  {
   "cell_type": "markdown",
   "id": "fa747f5c-6812-4989-a0fc-b916b439e91d",
   "metadata": {},
   "source": [
    "### How about Lagging or Leading the data?\n",
    "\n",
    "* `.shift`: move the data backwards and forwards by a given amount\n",
    "* `.diff`: find the difference with the previous observation (or a specified further back observation)"
   ]
  },
  {
   "cell_type": "code",
   "execution_count": null,
   "id": "1da6242a-6fd1-4bbf-adcc-a23de23d6d17",
   "metadata": {},
   "outputs": [],
   "source": [
    "daily_df = daily_df[['volume', 'close']]\n",
    "daily_df"
   ]
  },
  {
   "cell_type": "code",
   "execution_count": null,
   "id": "832829da-3801-41d8-a8fc-7469cdd136b1",
   "metadata": {},
   "outputs": [],
   "source": [
    "daily_df['shift_by_one'] = daily_df.close.shift(1)\n",
    "daily_df"
   ]
  },
  {
   "cell_type": "code",
   "execution_count": null,
   "id": "98e1f3fd-86b2-4a97-8cf4-84ec6b536d87",
   "metadata": {},
   "outputs": [],
   "source": [
    "daily_df.close.shift(-1)"
   ]
  },
  {
   "cell_type": "code",
   "execution_count": null,
   "id": "4aadd21a-1904-43b7-a5c4-fe33d95cd1e5",
   "metadata": {},
   "outputs": [],
   "source": [
    "daily_df['diff(1)'] = daily_df.close.diff(1)\n",
    "daily_df['other_diff'] = daily_df.close - daily_df['shift_by_one']\n",
    "daily_df"
   ]
  },
  {
   "cell_type": "markdown",
   "id": "2033e0ca-0219-46bc-9ae3-cdd7f189abc0",
   "metadata": {},
   "source": [
    "### Let's use shift to answer a question: What is the yearly rate of return or return on investment (ROI)?\n",
    "\n",
    "### Incoming math warning!\n",
    "\n",
    "![Math gif](https://media4.giphy.com/media/DHqth0hVQoIzS/giphy.gif?cid=ecf05e47ciwxjpj7j3mkqv6dxplynda0k44lru3atznbajs1&rid=giphy.gif&ct=g)\n",
    "\n",
    "#### How do we calculate ROI?\n",
    "\n",
    "`yearly_rate_return` = (`where_we_are_today` - `where_we_were_a_year_ago`  ) / `where_we_were_a_year_ago`"
   ]
  },
  {
   "cell_type": "markdown",
   "id": "b18bc0d2-dc64-49f4-ac8b-20694d05628d",
   "metadata": {},
   "source": [
    "#### Simpler Example\n",
    "\n",
    "If I buy a rubber ducky for 200 dollars and sell it for 100 dollars after one year, what is my ROI?"
   ]
  },
  {
   "cell_type": "code",
   "execution_count": null,
   "id": "98442c34-dbf8-4e9f-a254-f6b33ba9c281",
   "metadata": {},
   "outputs": [],
   "source": [
    "where_we_were_a_year_ago = 200\n",
    "where_we_are_today = 100\n",
    "((where_we_are_today - where_we_were_a_year_ago) / where_we_were_a_year_ago) * 100"
   ]
  },
  {
   "cell_type": "markdown",
   "id": "500ada09-dbc9-49fb-af20-bd2af4f9bc34",
   "metadata": {},
   "source": [
    "#### Let's apply the same process to our data"
   ]
  },
  {
   "cell_type": "code",
   "execution_count": null,
   "id": "731eeb3c",
   "metadata": {},
   "outputs": [],
   "source": [
    "where_we_were_a_year_ago = daily_df.close.shift(365)\n",
    "where_we_were_a_year_ago"
   ]
  },
  {
   "cell_type": "code",
   "execution_count": null,
   "id": "804276c0",
   "metadata": {},
   "outputs": [],
   "source": [
    "daily_df['a_year_ago'] = where_we_were_a_year_ago\n",
    "daily_df"
   ]
  },
  {
   "cell_type": "code",
   "execution_count": null,
   "id": "44313cf2",
   "metadata": {},
   "outputs": [],
   "source": [
    "daily_df.loc['2019-03-14']"
   ]
  },
  {
   "cell_type": "code",
   "execution_count": null,
   "id": "63331abd-821d-41f2-9a44-f1ae79cb06b4",
   "metadata": {},
   "outputs": [],
   "source": [
    "where_we_were_a_year_ago = daily_df.close.shift(365)\n",
    "where_we_are_today = daily_df.close\n",
    "\n",
    "roi_series = ((where_we_are_today - where_we_were_a_year_ago) / where_we_were_a_year_ago) * 100\n",
    "roi_series"
   ]
  },
  {
   "cell_type": "markdown",
   "id": "2bbfc4da-a6e8-43c9-abd0-80a132be3940",
   "metadata": {},
   "source": [
    "#### And now let's graph it out"
   ]
  },
  {
   "cell_type": "code",
   "execution_count": null,
   "id": "4340fed7-09a1-47b0-b4b3-bd021a70ec60",
   "metadata": {},
   "outputs": [],
   "source": [
    "roi_series.dropna().plot()\n",
    "plt.ylabel('% Return on Investment')\n",
    "plt.xlabel('Date')\n",
    "plt.title('1-Year Rate of return on ETH')"
   ]
  },
  {
   "cell_type": "code",
   "execution_count": null,
   "id": "103b9049",
   "metadata": {},
   "outputs": [],
   "source": [
    "daily_df.close.plot()"
   ]
  },
  {
   "cell_type": "markdown",
   "id": "ac160240-29f5-4834-acd0-ac7c9f1563ea",
   "metadata": {},
   "source": [
    "### Time Zones\n",
    "\n",
    "#### Timestamp with no timezone"
   ]
  },
  {
   "cell_type": "code",
   "execution_count": null,
   "id": "574e5167-c222-447c-85eb-2fa3088f3b0f",
   "metadata": {},
   "outputs": [],
   "source": [
    "t = pd.Timestamp('2020-04-14 10:25:25')\n",
    "t"
   ]
  },
  {
   "cell_type": "markdown",
   "id": "7fedb21f-37c7-4a64-bd1c-b173f8114e36",
   "metadata": {},
   "source": [
    "#### Specifying the timezone"
   ]
  },
  {
   "cell_type": "code",
   "execution_count": null,
   "id": "925765ac-fbcd-4819-b5b8-bef2a5c7e018",
   "metadata": {},
   "outputs": [],
   "source": [
    "t1 = pd.Timestamp('2020-04-14 10:25:25', tz='Us/Central')\n",
    "t1"
   ]
  },
  {
   "cell_type": "markdown",
   "id": "e3e9f4be-8db1-484e-9aa3-0f066e0de1e9",
   "metadata": {},
   "source": [
    "#### Convert to a different timezone"
   ]
  },
  {
   "cell_type": "code",
   "execution_count": null,
   "id": "91749708-53ad-4e9b-8bd7-b223ba9fbe2d",
   "metadata": {},
   "outputs": [],
   "source": [
    "t1 = t1.tz_convert(tz='Asia/tokyo')\n",
    "t1"
   ]
  },
  {
   "cell_type": "markdown",
   "id": "75c8ce86-63cb-4757-b372-f11916658408",
   "metadata": {},
   "source": [
    "### Timedelta"
   ]
  },
  {
   "cell_type": "code",
   "execution_count": null,
   "id": "c84da6b7-284d-40e1-b70a-bc7193119f85",
   "metadata": {},
   "outputs": [],
   "source": [
    "t"
   ]
  },
  {
   "cell_type": "code",
   "execution_count": null,
   "id": "a46fbac6",
   "metadata": {},
   "outputs": [],
   "source": [
    "t + pd.Timedelta('1d')"
   ]
  },
  {
   "cell_type": "markdown",
   "id": "93cdd0d9-86e3-4454-9190-a123d3f859c5",
   "metadata": {},
   "source": [
    "#### What if I need the time right `now`?"
   ]
  },
  {
   "cell_type": "code",
   "execution_count": null,
   "id": "7dc8c3d1-c8ae-4292-bd4d-f161b93e1550",
   "metadata": {},
   "outputs": [],
   "source": [
    "now = pd.Timestamp.now()\n",
    "now"
   ]
  },
  {
   "cell_type": "markdown",
   "id": "271522cd-f153-41f8-b291-4afdf23c27ce",
   "metadata": {},
   "source": [
    "#### Now let's to some time math!"
   ]
  },
  {
   "cell_type": "code",
   "execution_count": null,
   "id": "32ffed1f-cfd2-4855-a2d4-451631d89577",
   "metadata": {},
   "outputs": [],
   "source": [
    "time_since_t = now - t\n",
    "time_since_t"
   ]
  },
  {
   "cell_type": "markdown",
   "id": "7a8e364e-4496-440f-af0c-c46c238c2be6",
   "metadata": {},
   "source": [
    "### What if we just want to return the days?"
   ]
  },
  {
   "cell_type": "code",
   "execution_count": null,
   "id": "8bd8bf43-86d7-4887-8af5-93650d2f3572",
   "metadata": {},
   "outputs": [],
   "source": [
    "pd.Timedelta('1d')"
   ]
  },
  {
   "cell_type": "code",
   "execution_count": null,
   "id": "c03a3de4-11e5-4313-80db-f80560781487",
   "metadata": {},
   "outputs": [],
   "source": [
    "time_since_t // pd.Timedelta('1d')"
   ]
  },
  {
   "cell_type": "markdown",
   "id": "63ae00a4-b522-421f-9e27-6fe960bbb79c",
   "metadata": {},
   "source": [
    "#### Simpler way"
   ]
  },
  {
   "cell_type": "code",
   "execution_count": null,
   "id": "bb27e6f5-260b-4cd3-b874-e62bbd420c07",
   "metadata": {},
   "outputs": [],
   "source": [
    "time_since_t.days"
   ]
  },
  {
   "cell_type": "markdown",
   "id": "a1d8f125-369a-4bf7-b8ca-bf46f4940ee2",
   "metadata": {},
   "source": [
    "#### but if we want total seconds then we need to do the math"
   ]
  },
  {
   "cell_type": "code",
   "execution_count": null,
   "id": "e452acd8-541e-4f19-8fbb-8b4d02ae2978",
   "metadata": {},
   "outputs": [],
   "source": [
    "days_in_seconds = time_since_t.days * 24 * 60 * 60\n",
    "\n",
    "seconds_in_timepart = time_since_t.seconds\n",
    "\n",
    "days_in_seconds + seconds_in_timepart"
   ]
  },
  {
   "cell_type": "markdown",
   "id": "6ca191ca-a055-48f4-a2a8-ad6f3314e9d6",
   "metadata": {},
   "source": [
    "#### So know timedelta math becomes the simplier way"
   ]
  },
  {
   "cell_type": "code",
   "execution_count": null,
   "id": "ef5c9184-c430-4854-ad18-f4f4f75ce033",
   "metadata": {},
   "outputs": [],
   "source": [
    "time_since_t // pd.Timedelta('1s')"
   ]
  },
  {
   "cell_type": "markdown",
   "id": "0aefc00d-afe1-428e-a00f-f1a0b828789d",
   "metadata": {},
   "source": [
    "#### Takeaway: Use whichever method gets you answer for you"
   ]
  }
 ],
 "metadata": {
  "kernelspec": {
   "display_name": "Python 3",
   "language": "python",
   "name": "python3"
  },
  "language_info": {
   "codemirror_mode": {
    "name": "ipython",
    "version": 3
   },
   "file_extension": ".py",
   "mimetype": "text/x-python",
   "name": "python",
   "nbconvert_exporter": "python",
   "pygments_lexer": "ipython3",
   "version": "3.8.8"
  }
 },
 "nbformat": 4,
 "nbformat_minor": 5
}
