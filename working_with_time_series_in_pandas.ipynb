{
 "cells": [
  {
   "cell_type": "markdown",
   "id": "8b4e6250-df6b-4055-9009-639e3ccef009",
   "metadata": {},
   "source": [
    "# Working With Time Series in Pandas\n",
    "\n",
    "## Imports"
   ]
  },
  {
   "cell_type": "code",
   "execution_count": 1,
   "id": "92e9de37-1d72-4281-ab93-3a806a0a0846",
   "metadata": {},
   "outputs": [],
   "source": [
    "import pandas as pd\n",
    "\n",
    "import matplotlib.pyplot as plt\n",
    "plt.rcParams[\"figure.figsize\"] = (16,9)\n",
    "plt.rcParams[\"font.size\"] = 20\n",
    "\n",
    "import warnings\n",
    "warnings.filterwarnings('ignore')"
   ]
  },
  {
   "cell_type": "markdown",
   "id": "d632b3f6-a0f4-41b4-aa62-16e582851bdc",
   "metadata": {},
   "source": [
    "## Converting to DateTime Type"
   ]
  },
  {
   "cell_type": "code",
   "execution_count": 2,
   "id": "2eaaa1cf",
   "metadata": {},
   "outputs": [],
   "source": [
    "date = 'Jan 1 1970'"
   ]
  },
  {
   "cell_type": "markdown",
   "id": "120c4501-0225-4c30-96b9-a37fcd0a80a1",
   "metadata": {},
   "source": [
    "![I have a Date!](https://media2.giphy.com/media/W2heDDJSLC0thGO7Ld/giphy.gif?cid=ecf05e472da7nf00vbh7xp4lqxyszvszjojoc2qw3uthsz4s&rid=giphy.gif&ct=g)\n",
    "\n",
    "### But how do I get pandas to understand it and work with it"
   ]
  },
  {
   "cell_type": "code",
   "execution_count": 3,
   "id": "f86d0308-0168-42b9-929f-31eb3e9755a3",
   "metadata": {},
   "outputs": [
    {
     "data": {
      "text/plain": [
       "Timestamp('1970-01-01 00:00:00')"
      ]
     },
     "execution_count": 3,
     "metadata": {},
     "output_type": "execute_result"
    }
   ],
   "source": [
    "pd.to_datetime('Jan 1 1970')"
   ]
  },
  {
   "cell_type": "markdown",
   "id": "a076c573-c575-42cc-99f9-a43508ad08d7",
   "metadata": {},
   "source": [
    "### But sometime pandas isn't able to infer the format of our date"
   ]
  },
  {
   "cell_type": "code",
   "execution_count": 4,
   "id": "2db61eb9-f51d-44a0-b796-663f27db5f48",
   "metadata": {},
   "outputs": [
    {
     "name": "stdout",
     "output_type": "stream",
     "text": [
      "ValueError Unknown string format: Jan:1:1970\n"
     ]
    }
   ],
   "source": [
    "try:\n",
    "    pd.to_datetime('Jan:1:1970')\n",
    "except ValueError as e:\n",
    "    print('ValueError', e)"
   ]
  },
  {
   "cell_type": "markdown",
   "id": "3f95283c-8235-4dac-b200-97d307aba4c0",
   "metadata": {},
   "source": [
    "### So we need to tell pandas what the format is"
   ]
  },
  {
   "cell_type": "code",
   "execution_count": 5,
   "id": "341f67db-90b9-427d-93a8-e69be9dd9a74",
   "metadata": {},
   "outputs": [
    {
     "data": {
      "text/plain": [
       "Timestamp('1970-01-01 00:00:00')"
      ]
     },
     "execution_count": 5,
     "metadata": {},
     "output_type": "execute_result"
    }
   ],
   "source": [
    "pd.to_datetime('Jan:1:1970', format='%b:%d:%Y')"
   ]
  },
  {
   "cell_type": "markdown",
   "id": "584a2318-58c4-4c15-b9b4-c963cd3e75a1",
   "metadata": {},
   "source": [
    "#### There are all sorts of format codes and you can find them here: [Python date format codes](https://docs.python.org/3/library/datetime.html#strftime-and-strptime-behavior)"
   ]
  },
  {
   "cell_type": "markdown",
   "id": "6fec5c9f-2e40-4973-b56b-7d64df7a25a1",
   "metadata": {},
   "source": [
    "### Now what about a whole column of dates?"
   ]
  },
  {
   "cell_type": "code",
   "execution_count": 6,
   "id": "a4ad16d3-f57a-408c-964e-9a1a71a69306",
   "metadata": {},
   "outputs": [
    {
     "data": {
      "text/html": [
       "<div>\n",
       "<style scoped>\n",
       "    .dataframe tbody tr th:only-of-type {\n",
       "        vertical-align: middle;\n",
       "    }\n",
       "\n",
       "    .dataframe tbody tr th {\n",
       "        vertical-align: top;\n",
       "    }\n",
       "\n",
       "    .dataframe thead th {\n",
       "        text-align: right;\n",
       "    }\n",
       "</style>\n",
       "<table border=\"1\" class=\"dataframe\">\n",
       "  <thead>\n",
       "    <tr style=\"text-align: right;\">\n",
       "      <th></th>\n",
       "      <th>date</th>\n",
       "      <th>coffee_consumption</th>\n",
       "    </tr>\n",
       "  </thead>\n",
       "  <tbody>\n",
       "    <tr>\n",
       "      <th>0</th>\n",
       "      <td>2019-01-01</td>\n",
       "      <td>14.301915</td>\n",
       "    </tr>\n",
       "    <tr>\n",
       "      <th>1</th>\n",
       "      <td>2019-01-02</td>\n",
       "      <td>12.905900</td>\n",
       "    </tr>\n",
       "    <tr>\n",
       "      <th>2</th>\n",
       "      <td>2019-01-03</td>\n",
       "      <td>10.046015</td>\n",
       "    </tr>\n",
       "    <tr>\n",
       "      <th>3</th>\n",
       "      <td>2019-01-04</td>\n",
       "      <td>6.354805</td>\n",
       "    </tr>\n",
       "    <tr>\n",
       "      <th>4</th>\n",
       "      <td>2019-01-07</td>\n",
       "      <td>8.545563</td>\n",
       "    </tr>\n",
       "    <tr>\n",
       "      <th>...</th>\n",
       "      <td>...</td>\n",
       "      <td>...</td>\n",
       "    </tr>\n",
       "    <tr>\n",
       "      <th>256</th>\n",
       "      <td>2019-12-25</td>\n",
       "      <td>12.250875</td>\n",
       "    </tr>\n",
       "    <tr>\n",
       "      <th>257</th>\n",
       "      <td>2019-12-26</td>\n",
       "      <td>7.513206</td>\n",
       "    </tr>\n",
       "    <tr>\n",
       "      <th>258</th>\n",
       "      <td>2019-12-27</td>\n",
       "      <td>9.464345</td>\n",
       "    </tr>\n",
       "    <tr>\n",
       "      <th>259</th>\n",
       "      <td>2019-12-30</td>\n",
       "      <td>14.623106</td>\n",
       "    </tr>\n",
       "    <tr>\n",
       "      <th>260</th>\n",
       "      <td>2019-12-31</td>\n",
       "      <td>10.168315</td>\n",
       "    </tr>\n",
       "  </tbody>\n",
       "</table>\n",
       "<p>261 rows × 2 columns</p>\n",
       "</div>"
      ],
      "text/plain": [
       "           date  coffee_consumption\n",
       "0    2019-01-01           14.301915\n",
       "1    2019-01-02           12.905900\n",
       "2    2019-01-03           10.046015\n",
       "3    2019-01-04            6.354805\n",
       "4    2019-01-07            8.545563\n",
       "..          ...                 ...\n",
       "256  2019-12-25           12.250875\n",
       "257  2019-12-26            7.513206\n",
       "258  2019-12-27            9.464345\n",
       "259  2019-12-30           14.623106\n",
       "260  2019-12-31           10.168315\n",
       "\n",
       "[261 rows x 2 columns]"
      ]
     },
     "execution_count": 6,
     "metadata": {},
     "output_type": "execute_result"
    }
   ],
   "source": [
    "url = \"https://gist.githubusercontent.com/ryanorsinger/b309f8db19e0ca71b213d4877d835e77/raw/f5841017310e2f4ca070b313529ceec2375336ba/coffee_consumption.csv\"\n",
    "df = pd.read_csv(url)\n",
    "df"
   ]
  },
  {
   "cell_type": "code",
   "execution_count": 7,
   "id": "53064412-a94c-4b09-80bd-d6867f913df8",
   "metadata": {},
   "outputs": [
    {
     "data": {
      "text/plain": [
       "date                   object\n",
       "coffee_consumption    float64\n",
       "dtype: object"
      ]
     },
     "execution_count": 7,
     "metadata": {},
     "output_type": "execute_result"
    }
   ],
   "source": [
    "df.dtypes"
   ]
  },
  {
   "cell_type": "code",
   "execution_count": 8,
   "id": "fa9095f5-218f-4f65-9a42-72caecaee41c",
   "metadata": {},
   "outputs": [
    {
     "data": {
      "text/plain": [
       "str"
      ]
     },
     "execution_count": 8,
     "metadata": {},
     "output_type": "execute_result"
    }
   ],
   "source": [
    "type(df.iloc[1]['date'])"
   ]
  },
  {
   "cell_type": "code",
   "execution_count": 9,
   "id": "97021960-b59d-4bc5-92f2-4f796578ee40",
   "metadata": {},
   "outputs": [
    {
     "data": {
      "text/plain": [
       "date                  datetime64[ns]\n",
       "coffee_consumption           float64\n",
       "dtype: object"
      ]
     },
     "execution_count": 9,
     "metadata": {},
     "output_type": "execute_result"
    }
   ],
   "source": [
    "df.date = pd.to_datetime(df.date)\n",
    "df.dtypes"
   ]
  },
  {
   "cell_type": "markdown",
   "id": "4f342a9c-c377-4f16-b7e2-2ea463499d59",
   "metadata": {},
   "source": [
    "## Working with DateTime Series"
   ]
  },
  {
   "cell_type": "code",
   "execution_count": 10,
   "id": "ab15b436-4e1b-4a4f-9f70-94e0a3cba5ea",
   "metadata": {},
   "outputs": [
    {
     "data": {
      "text/plain": [
       "0     2019-01-01\n",
       "1     2019-01-02\n",
       "2     2019-01-03\n",
       "3     2019-01-04\n",
       "4     2019-01-07\n",
       "         ...    \n",
       "256   2019-12-25\n",
       "257   2019-12-26\n",
       "258   2019-12-27\n",
       "259   2019-12-30\n",
       "260   2019-12-31\n",
       "Name: date, Length: 261, dtype: datetime64[ns]"
      ]
     },
     "execution_count": 10,
     "metadata": {},
     "output_type": "execute_result"
    }
   ],
   "source": [
    "df.date"
   ]
  },
  {
   "cell_type": "markdown",
   "id": "f25359e1-ada3-4974-928e-c4bffd07d162",
   "metadata": {},
   "source": [
    "### `.dt` allows us to extract parts of the date"
   ]
  },
  {
   "cell_type": "code",
   "execution_count": 11,
   "id": "c935cb67-c33b-4b9d-9034-bdf675204a82",
   "metadata": {},
   "outputs": [
    {
     "data": {
      "text/plain": [
       "0      2019\n",
       "1      2019\n",
       "2      2019\n",
       "3      2019\n",
       "4      2019\n",
       "       ... \n",
       "256    2019\n",
       "257    2019\n",
       "258    2019\n",
       "259    2019\n",
       "260    2019\n",
       "Name: date, Length: 261, dtype: int64"
      ]
     },
     "execution_count": 11,
     "metadata": {},
     "output_type": "execute_result"
    }
   ],
   "source": [
    "df.date.dt.year"
   ]
  },
  {
   "cell_type": "code",
   "execution_count": 12,
   "id": "53cbfdae-241a-4dbb-b99d-387a561f2b1e",
   "metadata": {},
   "outputs": [
    {
     "data": {
      "text/plain": [
       "0       1\n",
       "1       1\n",
       "2       1\n",
       "3       1\n",
       "4       1\n",
       "       ..\n",
       "256    12\n",
       "257    12\n",
       "258    12\n",
       "259    12\n",
       "260    12\n",
       "Name: date, Length: 261, dtype: int64"
      ]
     },
     "execution_count": 12,
     "metadata": {},
     "output_type": "execute_result"
    }
   ],
   "source": [
    "df.date.dt.month"
   ]
  },
  {
   "cell_type": "code",
   "execution_count": 13,
   "id": "5bf5fac7-358c-4878-8905-574207da306f",
   "metadata": {},
   "outputs": [
    {
     "data": {
      "text/plain": [
       "0       1\n",
       "1       2\n",
       "2       3\n",
       "3       4\n",
       "4       7\n",
       "       ..\n",
       "256    25\n",
       "257    26\n",
       "258    27\n",
       "259    30\n",
       "260    31\n",
       "Name: date, Length: 261, dtype: int64"
      ]
     },
     "execution_count": 13,
     "metadata": {},
     "output_type": "execute_result"
    }
   ],
   "source": [
    "df.date.dt.day"
   ]
  },
  {
   "cell_type": "code",
   "execution_count": 14,
   "id": "61855045-5c26-4f28-8d53-b77f1ee1502d",
   "metadata": {},
   "outputs": [
    {
     "data": {
      "text/plain": [
       "0        Tuesday\n",
       "1      Wednesday\n",
       "2       Thursday\n",
       "3         Friday\n",
       "4         Monday\n",
       "         ...    \n",
       "256    Wednesday\n",
       "257     Thursday\n",
       "258       Friday\n",
       "259       Monday\n",
       "260      Tuesday\n",
       "Name: date, Length: 261, dtype: object"
      ]
     },
     "execution_count": 14,
     "metadata": {},
     "output_type": "execute_result"
    }
   ],
   "source": [
    "df.date.dt.day_name()"
   ]
  },
  {
   "cell_type": "markdown",
   "id": "0ed55004-8d41-4a0a-b778-7a59598ebb20",
   "metadata": {},
   "source": [
    "### Since they are returned as a Series, we can add them back as columns"
   ]
  },
  {
   "cell_type": "code",
   "execution_count": 15,
   "id": "d8567288-d000-4afe-9611-3c098d6ec9d6",
   "metadata": {},
   "outputs": [
    {
     "data": {
      "text/html": [
       "<div>\n",
       "<style scoped>\n",
       "    .dataframe tbody tr th:only-of-type {\n",
       "        vertical-align: middle;\n",
       "    }\n",
       "\n",
       "    .dataframe tbody tr th {\n",
       "        vertical-align: top;\n",
       "    }\n",
       "\n",
       "    .dataframe thead th {\n",
       "        text-align: right;\n",
       "    }\n",
       "</style>\n",
       "<table border=\"1\" class=\"dataframe\">\n",
       "  <thead>\n",
       "    <tr style=\"text-align: right;\">\n",
       "      <th></th>\n",
       "      <th>date</th>\n",
       "      <th>coffee_consumption</th>\n",
       "      <th>year</th>\n",
       "    </tr>\n",
       "  </thead>\n",
       "  <tbody>\n",
       "    <tr>\n",
       "      <th>0</th>\n",
       "      <td>2019-01-01</td>\n",
       "      <td>14.301915</td>\n",
       "      <td>2019</td>\n",
       "    </tr>\n",
       "    <tr>\n",
       "      <th>1</th>\n",
       "      <td>2019-01-02</td>\n",
       "      <td>12.905900</td>\n",
       "      <td>2019</td>\n",
       "    </tr>\n",
       "    <tr>\n",
       "      <th>2</th>\n",
       "      <td>2019-01-03</td>\n",
       "      <td>10.046015</td>\n",
       "      <td>2019</td>\n",
       "    </tr>\n",
       "    <tr>\n",
       "      <th>3</th>\n",
       "      <td>2019-01-04</td>\n",
       "      <td>6.354805</td>\n",
       "      <td>2019</td>\n",
       "    </tr>\n",
       "    <tr>\n",
       "      <th>4</th>\n",
       "      <td>2019-01-07</td>\n",
       "      <td>8.545563</td>\n",
       "      <td>2019</td>\n",
       "    </tr>\n",
       "    <tr>\n",
       "      <th>...</th>\n",
       "      <td>...</td>\n",
       "      <td>...</td>\n",
       "      <td>...</td>\n",
       "    </tr>\n",
       "    <tr>\n",
       "      <th>256</th>\n",
       "      <td>2019-12-25</td>\n",
       "      <td>12.250875</td>\n",
       "      <td>2019</td>\n",
       "    </tr>\n",
       "    <tr>\n",
       "      <th>257</th>\n",
       "      <td>2019-12-26</td>\n",
       "      <td>7.513206</td>\n",
       "      <td>2019</td>\n",
       "    </tr>\n",
       "    <tr>\n",
       "      <th>258</th>\n",
       "      <td>2019-12-27</td>\n",
       "      <td>9.464345</td>\n",
       "      <td>2019</td>\n",
       "    </tr>\n",
       "    <tr>\n",
       "      <th>259</th>\n",
       "      <td>2019-12-30</td>\n",
       "      <td>14.623106</td>\n",
       "      <td>2019</td>\n",
       "    </tr>\n",
       "    <tr>\n",
       "      <th>260</th>\n",
       "      <td>2019-12-31</td>\n",
       "      <td>10.168315</td>\n",
       "      <td>2019</td>\n",
       "    </tr>\n",
       "  </tbody>\n",
       "</table>\n",
       "<p>261 rows × 3 columns</p>\n",
       "</div>"
      ],
      "text/plain": [
       "          date  coffee_consumption  year\n",
       "0   2019-01-01           14.301915  2019\n",
       "1   2019-01-02           12.905900  2019\n",
       "2   2019-01-03           10.046015  2019\n",
       "3   2019-01-04            6.354805  2019\n",
       "4   2019-01-07            8.545563  2019\n",
       "..         ...                 ...   ...\n",
       "256 2019-12-25           12.250875  2019\n",
       "257 2019-12-26            7.513206  2019\n",
       "258 2019-12-27            9.464345  2019\n",
       "259 2019-12-30           14.623106  2019\n",
       "260 2019-12-31           10.168315  2019\n",
       "\n",
       "[261 rows x 3 columns]"
      ]
     },
     "execution_count": 15,
     "metadata": {},
     "output_type": "execute_result"
    }
   ],
   "source": [
    "df['year'] = df.date.dt.year\n",
    "df"
   ]
  },
  {
   "cell_type": "code",
   "execution_count": 16,
   "id": "5f7d72ba-e6d0-4986-b860-7d5a89ddf440",
   "metadata": {},
   "outputs": [
    {
     "data": {
      "text/html": [
       "<div>\n",
       "<style scoped>\n",
       "    .dataframe tbody tr th:only-of-type {\n",
       "        vertical-align: middle;\n",
       "    }\n",
       "\n",
       "    .dataframe tbody tr th {\n",
       "        vertical-align: top;\n",
       "    }\n",
       "\n",
       "    .dataframe thead th {\n",
       "        text-align: right;\n",
       "    }\n",
       "</style>\n",
       "<table border=\"1\" class=\"dataframe\">\n",
       "  <thead>\n",
       "    <tr style=\"text-align: right;\">\n",
       "      <th></th>\n",
       "      <th>date</th>\n",
       "      <th>coffee_consumption</th>\n",
       "      <th>year</th>\n",
       "      <th>month</th>\n",
       "      <th>day</th>\n",
       "      <th>weekday</th>\n",
       "    </tr>\n",
       "  </thead>\n",
       "  <tbody>\n",
       "    <tr>\n",
       "      <th>0</th>\n",
       "      <td>2019-01-01</td>\n",
       "      <td>14.301915</td>\n",
       "      <td>2019</td>\n",
       "      <td>1</td>\n",
       "      <td>1</td>\n",
       "      <td>Tuesday</td>\n",
       "    </tr>\n",
       "    <tr>\n",
       "      <th>1</th>\n",
       "      <td>2019-01-02</td>\n",
       "      <td>12.905900</td>\n",
       "      <td>2019</td>\n",
       "      <td>1</td>\n",
       "      <td>2</td>\n",
       "      <td>Wednesday</td>\n",
       "    </tr>\n",
       "    <tr>\n",
       "      <th>2</th>\n",
       "      <td>2019-01-03</td>\n",
       "      <td>10.046015</td>\n",
       "      <td>2019</td>\n",
       "      <td>1</td>\n",
       "      <td>3</td>\n",
       "      <td>Thursday</td>\n",
       "    </tr>\n",
       "    <tr>\n",
       "      <th>3</th>\n",
       "      <td>2019-01-04</td>\n",
       "      <td>6.354805</td>\n",
       "      <td>2019</td>\n",
       "      <td>1</td>\n",
       "      <td>4</td>\n",
       "      <td>Friday</td>\n",
       "    </tr>\n",
       "    <tr>\n",
       "      <th>4</th>\n",
       "      <td>2019-01-07</td>\n",
       "      <td>8.545563</td>\n",
       "      <td>2019</td>\n",
       "      <td>1</td>\n",
       "      <td>7</td>\n",
       "      <td>Monday</td>\n",
       "    </tr>\n",
       "  </tbody>\n",
       "</table>\n",
       "</div>"
      ],
      "text/plain": [
       "        date  coffee_consumption  year  month  day    weekday\n",
       "0 2019-01-01           14.301915  2019      1    1    Tuesday\n",
       "1 2019-01-02           12.905900  2019      1    2  Wednesday\n",
       "2 2019-01-03           10.046015  2019      1    3   Thursday\n",
       "3 2019-01-04            6.354805  2019      1    4     Friday\n",
       "4 2019-01-07            8.545563  2019      1    7     Monday"
      ]
     },
     "execution_count": 16,
     "metadata": {},
     "output_type": "execute_result"
    }
   ],
   "source": [
    "df['month'] = df.date.dt.month\n",
    "df['day'] = df.date.dt.day\n",
    "df['weekday'] = df.date.dt.day_name()\n",
    "df.head()"
   ]
  },
  {
   "cell_type": "markdown",
   "id": "c36c09f8-933e-4e59-b586-9abf3bfbf20b",
   "metadata": {},
   "source": [
    "## Working with more complicated data"
   ]
  },
  {
   "cell_type": "code",
   "execution_count": 17,
   "id": "014cd4f5-6821-4dd8-b4d6-3d8aa6ab7151",
   "metadata": {},
   "outputs": [
    {
     "data": {
      "text/html": [
       "<div>\n",
       "<style scoped>\n",
       "    .dataframe tbody tr th:only-of-type {\n",
       "        vertical-align: middle;\n",
       "    }\n",
       "\n",
       "    .dataframe tbody tr th {\n",
       "        vertical-align: top;\n",
       "    }\n",
       "\n",
       "    .dataframe thead th {\n",
       "        text-align: right;\n",
       "    }\n",
       "</style>\n",
       "<table border=\"1\" class=\"dataframe\">\n",
       "  <thead>\n",
       "    <tr style=\"text-align: right;\">\n",
       "      <th></th>\n",
       "      <th>date</th>\n",
       "      <th>symbol</th>\n",
       "      <th>close</th>\n",
       "      <th>volume</th>\n",
       "    </tr>\n",
       "  </thead>\n",
       "  <tbody>\n",
       "    <tr>\n",
       "      <th>0</th>\n",
       "      <td>2020-03-13 12-PM</td>\n",
       "      <td>ETHUSD</td>\n",
       "      <td>128.71</td>\n",
       "      <td>3906590.52</td>\n",
       "    </tr>\n",
       "    <tr>\n",
       "      <th>1</th>\n",
       "      <td>2020-03-13 12-AM</td>\n",
       "      <td>ETHUSD</td>\n",
       "      <td>129.94</td>\n",
       "      <td>10329663.70</td>\n",
       "    </tr>\n",
       "    <tr>\n",
       "      <th>2</th>\n",
       "      <td>2020-03-13 11-AM</td>\n",
       "      <td>ETHUSD</td>\n",
       "      <td>119.51</td>\n",
       "      <td>3311080.29</td>\n",
       "    </tr>\n",
       "    <tr>\n",
       "      <th>3</th>\n",
       "      <td>2020-03-13 10-AM</td>\n",
       "      <td>ETHUSD</td>\n",
       "      <td>124.47</td>\n",
       "      <td>3483436.48</td>\n",
       "    </tr>\n",
       "    <tr>\n",
       "      <th>4</th>\n",
       "      <td>2020-03-13 09-AM</td>\n",
       "      <td>ETHUSD</td>\n",
       "      <td>124.08</td>\n",
       "      <td>2767584.44</td>\n",
       "    </tr>\n",
       "    <tr>\n",
       "      <th>...</th>\n",
       "      <td>...</td>\n",
       "      <td>...</td>\n",
       "      <td>...</td>\n",
       "      <td>...</td>\n",
       "    </tr>\n",
       "    <tr>\n",
       "      <th>23669</th>\n",
       "      <td>2017-07-01 05-PM</td>\n",
       "      <td>ETHUSD</td>\n",
       "      <td>272.57</td>\n",
       "      <td>1894983.33</td>\n",
       "    </tr>\n",
       "    <tr>\n",
       "      <th>23670</th>\n",
       "      <td>2017-07-01 04-PM</td>\n",
       "      <td>ETHUSD</td>\n",
       "      <td>265.74</td>\n",
       "      <td>1287300.75</td>\n",
       "    </tr>\n",
       "    <tr>\n",
       "      <th>23671</th>\n",
       "      <td>2017-07-01 03-PM</td>\n",
       "      <td>ETHUSD</td>\n",
       "      <td>268.79</td>\n",
       "      <td>1500282.55</td>\n",
       "    </tr>\n",
       "    <tr>\n",
       "      <th>23672</th>\n",
       "      <td>2017-07-01 02-PM</td>\n",
       "      <td>ETHUSD</td>\n",
       "      <td>274.83</td>\n",
       "      <td>1702536.85</td>\n",
       "    </tr>\n",
       "    <tr>\n",
       "      <th>23673</th>\n",
       "      <td>2017-07-01 01-PM</td>\n",
       "      <td>ETHUSD</td>\n",
       "      <td>275.01</td>\n",
       "      <td>3010787.99</td>\n",
       "    </tr>\n",
       "  </tbody>\n",
       "</table>\n",
       "<p>23674 rows × 4 columns</p>\n",
       "</div>"
      ],
      "text/plain": [
       "                   date  symbol   close       volume\n",
       "0      2020-03-13 12-PM  ETHUSD  128.71   3906590.52\n",
       "1      2020-03-13 12-AM  ETHUSD  129.94  10329663.70\n",
       "2      2020-03-13 11-AM  ETHUSD  119.51   3311080.29\n",
       "3      2020-03-13 10-AM  ETHUSD  124.47   3483436.48\n",
       "4      2020-03-13 09-AM  ETHUSD  124.08   2767584.44\n",
       "...                 ...     ...     ...          ...\n",
       "23669  2017-07-01 05-PM  ETHUSD  272.57   1894983.33\n",
       "23670  2017-07-01 04-PM  ETHUSD  265.74   1287300.75\n",
       "23671  2017-07-01 03-PM  ETHUSD  268.79   1500282.55\n",
       "23672  2017-07-01 02-PM  ETHUSD  274.83   1702536.85\n",
       "23673  2017-07-01 01-PM  ETHUSD  275.01   3010787.99\n",
       "\n",
       "[23674 rows x 4 columns]"
      ]
     },
     "execution_count": 17,
     "metadata": {},
     "output_type": "execute_result"
    }
   ],
   "source": [
    "sheet_url = 'https://docs.google.com/spreadsheets/d/1kTrAFSrr-xP3REs0Lly0TdV4ekrHahBXLg9r5qKxmV8/edit#gid=0'\n",
    "csv_export_url = sheet_url.replace('/edit#gid=', '/export?format=csv&gid=')\n",
    "\n",
    "df = pd.read_csv(csv_export_url)\n",
    "df.columns = df.columns.str.lower()\n",
    "df"
   ]
  },
  {
   "cell_type": "code",
   "execution_count": 18,
   "id": "75f16858-1110-4892-b914-dcda62b0a8a9",
   "metadata": {},
   "outputs": [
    {
     "name": "stdout",
     "output_type": "stream",
     "text": [
      "<class 'pandas.core.frame.DataFrame'>\n",
      "RangeIndex: 23674 entries, 0 to 23673\n",
      "Data columns (total 4 columns):\n",
      " #   Column  Non-Null Count  Dtype  \n",
      "---  ------  --------------  -----  \n",
      " 0   date    23674 non-null  object \n",
      " 1   symbol  23674 non-null  object \n",
      " 2   close   23674 non-null  float64\n",
      " 3   volume  23674 non-null  float64\n",
      "dtypes: float64(2), object(2)\n",
      "memory usage: 739.9+ KB\n"
     ]
    }
   ],
   "source": [
    "df.info()"
   ]
  },
  {
   "cell_type": "code",
   "execution_count": 19,
   "id": "689e9e97-9abc-4d0e-b2b0-10d7110e886f",
   "metadata": {},
   "outputs": [
    {
     "data": {
      "text/plain": [
       "<AxesSubplot:>"
      ]
     },
     "execution_count": 19,
     "metadata": {},
     "output_type": "execute_result"
    },
    {
     "data": {
      "image/png": "[encoded data removed]",
      "text/plain": [
       "<Figure size 1152x648 with 1 Axes>"
      ]
     },
     "metadata": {
      "needs_background": "light"
     },
     "output_type": "display_data"
    }
   ],
   "source": [
    "df.close.plot()"
   ]
  },
  {
   "cell_type": "markdown",
   "id": "97293d7e-e2d8-4030-afb8-6e63807e292b",
   "metadata": {},
   "source": [
    "### How do we make pandas time aware so we can utilize the built in functionality for time series analysis?\n",
    "\n",
    "#### 3 steps\n",
    "\n",
    "* Convert 'date/time' column to datetime object in Pandas (pd.to_datetime())\n",
    "* Set the datetime column as Index\n",
    "* Sort the datetime index\n",
    "\n",
    "### Convert to datetime"
   ]
  },
  {
   "cell_type": "code",
   "execution_count": 20,
   "id": "8634913f-2b7b-490d-af8e-ae0a37c1e853",
   "metadata": {},
   "outputs": [
    {
     "data": {
      "text/plain": [
       "date       object\n",
       "symbol     object\n",
       "close     float64\n",
       "volume    float64\n",
       "dtype: object"
      ]
     },
     "execution_count": 20,
     "metadata": {},
     "output_type": "execute_result"
    }
   ],
   "source": [
    "df.dtypes"
   ]
  },
  {
   "cell_type": "code",
   "execution_count": 21,
   "id": "39677f20-a54b-4f8b-b0a1-728cd1057d69",
   "metadata": {},
   "outputs": [
    {
     "name": "stdout",
     "output_type": "stream",
     "text": [
      "ValueError Unknown string format: 2020-03-13 12-PM\n"
     ]
    }
   ],
   "source": [
    "try:\n",
    "    pd.to_datetime(df.date)\n",
    "except ValueError as e:\n",
    "    print('ValueError', e)"
   ]
  },
  {
   "cell_type": "markdown",
   "id": "83f5bdd2-80f5-40b3-bb49-9e054365640d",
   "metadata": {},
   "source": [
    "#### So what is happening?\n",
    "\n",
    "Pandas is telling us it is unable to infer what our date format is.\n",
    "\n",
    "2020-03-13 12-PM is what our date looks like.\n",
    "\n",
    "It is made up of several parts:\n",
    "\n",
    "* a 4 digit year: `%Y`\n",
    "* followed by a hyphen `-`\n",
    "* a two digit month: `%m`\n",
    "* followed by a hyphen `-`\n",
    "* a two digit day: `%d`\n",
    "* a space ` `\n",
    "* a 12-hour clock number: `%I`\n",
    "* a hyphen `-`\n",
    "* an AM/PM `%p`\n",
    "\n",
    "With this info we can now build our format string:\n",
    "\n",
    "`2020-03-13 12-PM`\n",
    "\n",
    "`%Y-%m-%d %I-%p`"
   ]
  },
  {
   "cell_type": "code",
   "execution_count": 22,
   "id": "9686c77a-d50c-4402-b618-44dd4f30ac97",
   "metadata": {},
   "outputs": [
    {
     "data": {
      "text/plain": [
       "Timestamp('2020-03-13 12:00:00')"
      ]
     },
     "execution_count": 22,
     "metadata": {},
     "output_type": "execute_result"
    }
   ],
   "source": [
    "pd.to_datetime('2020-03-13 12-PM', format='%Y-%m-%d %I-%p')"
   ]
  },
  {
   "cell_type": "code",
   "execution_count": 23,
   "id": "66e80b79-34e6-4972-816e-4c6912d4547f",
   "metadata": {},
   "outputs": [],
   "source": [
    "df.date = pd.to_datetime(df.date, format='%Y-%m-%d %I-%p')"
   ]
  },
  {
   "cell_type": "code",
   "execution_count": 24,
   "id": "60970a08-bc12-406b-ac9e-f73e9b41805c",
   "metadata": {},
   "outputs": [
    {
     "data": {
      "text/html": [
       "<div>\n",
       "<style scoped>\n",
       "    .dataframe tbody tr th:only-of-type {\n",
       "        vertical-align: middle;\n",
       "    }\n",
       "\n",
       "    .dataframe tbody tr th {\n",
       "        vertical-align: top;\n",
       "    }\n",
       "\n",
       "    .dataframe thead th {\n",
       "        text-align: right;\n",
       "    }\n",
       "</style>\n",
       "<table border=\"1\" class=\"dataframe\">\n",
       "  <thead>\n",
       "    <tr style=\"text-align: right;\">\n",
       "      <th></th>\n",
       "      <th>date</th>\n",
       "      <th>symbol</th>\n",
       "      <th>close</th>\n",
       "      <th>volume</th>\n",
       "    </tr>\n",
       "  </thead>\n",
       "  <tbody>\n",
       "    <tr>\n",
       "      <th>0</th>\n",
       "      <td>2020-03-13 12:00:00</td>\n",
       "      <td>ETHUSD</td>\n",
       "      <td>128.71</td>\n",
       "      <td>3906590.52</td>\n",
       "    </tr>\n",
       "    <tr>\n",
       "      <th>1</th>\n",
       "      <td>2020-03-13 00:00:00</td>\n",
       "      <td>ETHUSD</td>\n",
       "      <td>129.94</td>\n",
       "      <td>10329663.70</td>\n",
       "    </tr>\n",
       "    <tr>\n",
       "      <th>2</th>\n",
       "      <td>2020-03-13 11:00:00</td>\n",
       "      <td>ETHUSD</td>\n",
       "      <td>119.51</td>\n",
       "      <td>3311080.29</td>\n",
       "    </tr>\n",
       "    <tr>\n",
       "      <th>3</th>\n",
       "      <td>2020-03-13 10:00:00</td>\n",
       "      <td>ETHUSD</td>\n",
       "      <td>124.47</td>\n",
       "      <td>3483436.48</td>\n",
       "    </tr>\n",
       "    <tr>\n",
       "      <th>4</th>\n",
       "      <td>2020-03-13 09:00:00</td>\n",
       "      <td>ETHUSD</td>\n",
       "      <td>124.08</td>\n",
       "      <td>2767584.44</td>\n",
       "    </tr>\n",
       "    <tr>\n",
       "      <th>...</th>\n",
       "      <td>...</td>\n",
       "      <td>...</td>\n",
       "      <td>...</td>\n",
       "      <td>...</td>\n",
       "    </tr>\n",
       "    <tr>\n",
       "      <th>23669</th>\n",
       "      <td>2017-07-01 17:00:00</td>\n",
       "      <td>ETHUSD</td>\n",
       "      <td>272.57</td>\n",
       "      <td>1894983.33</td>\n",
       "    </tr>\n",
       "    <tr>\n",
       "      <th>23670</th>\n",
       "      <td>2017-07-01 16:00:00</td>\n",
       "      <td>ETHUSD</td>\n",
       "      <td>265.74</td>\n",
       "      <td>1287300.75</td>\n",
       "    </tr>\n",
       "    <tr>\n",
       "      <th>23671</th>\n",
       "      <td>2017-07-01 15:00:00</td>\n",
       "      <td>ETHUSD</td>\n",
       "      <td>268.79</td>\n",
       "      <td>1500282.55</td>\n",
       "    </tr>\n",
       "    <tr>\n",
       "      <th>23672</th>\n",
       "      <td>2017-07-01 14:00:00</td>\n",
       "      <td>ETHUSD</td>\n",
       "      <td>274.83</td>\n",
       "      <td>1702536.85</td>\n",
       "    </tr>\n",
       "    <tr>\n",
       "      <th>23673</th>\n",
       "      <td>2017-07-01 13:00:00</td>\n",
       "      <td>ETHUSD</td>\n",
       "      <td>275.01</td>\n",
       "      <td>3010787.99</td>\n",
       "    </tr>\n",
       "  </tbody>\n",
       "</table>\n",
       "<p>23674 rows × 4 columns</p>\n",
       "</div>"
      ],
      "text/plain": [
       "                     date  symbol   close       volume\n",
       "0     2020-03-13 12:00:00  ETHUSD  128.71   3906590.52\n",
       "1     2020-03-13 00:00:00  ETHUSD  129.94  10329663.70\n",
       "2     2020-03-13 11:00:00  ETHUSD  119.51   3311080.29\n",
       "3     2020-03-13 10:00:00  ETHUSD  124.47   3483436.48\n",
       "4     2020-03-13 09:00:00  ETHUSD  124.08   2767584.44\n",
       "...                   ...     ...     ...          ...\n",
       "23669 2017-07-01 17:00:00  ETHUSD  272.57   1894983.33\n",
       "23670 2017-07-01 16:00:00  ETHUSD  265.74   1287300.75\n",
       "23671 2017-07-01 15:00:00  ETHUSD  268.79   1500282.55\n",
       "23672 2017-07-01 14:00:00  ETHUSD  274.83   1702536.85\n",
       "23673 2017-07-01 13:00:00  ETHUSD  275.01   3010787.99\n",
       "\n",
       "[23674 rows x 4 columns]"
      ]
     },
     "execution_count": 24,
     "metadata": {},
     "output_type": "execute_result"
    }
   ],
   "source": [
    "df"
   ]
  },
  {
   "cell_type": "code",
   "execution_count": 25,
   "id": "337d2ffd-ee38-4365-bff8-05e41c1f2f33",
   "metadata": {},
   "outputs": [
    {
     "data": {
      "text/plain": [
       "date      datetime64[ns]\n",
       "symbol            object\n",
       "close            float64\n",
       "volume           float64\n",
       "dtype: object"
      ]
     },
     "execution_count": 25,
     "metadata": {},
     "output_type": "execute_result"
    }
   ],
   "source": [
    "df.dtypes"
   ]
  },
  {
   "cell_type": "markdown",
   "id": "f7f6e700-02dc-4d0b-8b2e-cf359d984d85",
   "metadata": {},
   "source": [
    "### Now we can set date to the index and sort the index"
   ]
  },
  {
   "cell_type": "code",
   "execution_count": 26,
   "id": "791f8d90-8148-41c8-8f37-56f687a1d028",
   "metadata": {},
   "outputs": [
    {
     "data": {
      "text/html": [
       "<div>\n",
       "<style scoped>\n",
       "    .dataframe tbody tr th:only-of-type {\n",
       "        vertical-align: middle;\n",
       "    }\n",
       "\n",
       "    .dataframe tbody tr th {\n",
       "        vertical-align: top;\n",
       "    }\n",
       "\n",
       "    .dataframe thead th {\n",
       "        text-align: right;\n",
       "    }\n",
       "</style>\n",
       "<table border=\"1\" class=\"dataframe\">\n",
       "  <thead>\n",
       "    <tr style=\"text-align: right;\">\n",
       "      <th></th>\n",
       "      <th>symbol</th>\n",
       "      <th>close</th>\n",
       "      <th>volume</th>\n",
       "    </tr>\n",
       "    <tr>\n",
       "      <th>date</th>\n",
       "      <th></th>\n",
       "      <th></th>\n",
       "      <th></th>\n",
       "    </tr>\n",
       "  </thead>\n",
       "  <tbody>\n",
       "    <tr>\n",
       "      <th>2017-07-01 11:00:00</th>\n",
       "      <td>ETHUSD</td>\n",
       "      <td>257.13</td>\n",
       "      <td>679358.87</td>\n",
       "    </tr>\n",
       "    <tr>\n",
       "      <th>2017-07-01 12:00:00</th>\n",
       "      <td>ETHUSD</td>\n",
       "      <td>263.12</td>\n",
       "      <td>824362.87</td>\n",
       "    </tr>\n",
       "    <tr>\n",
       "      <th>2017-07-01 13:00:00</th>\n",
       "      <td>ETHUSD</td>\n",
       "      <td>275.01</td>\n",
       "      <td>3010787.99</td>\n",
       "    </tr>\n",
       "    <tr>\n",
       "      <th>2017-07-01 14:00:00</th>\n",
       "      <td>ETHUSD</td>\n",
       "      <td>274.83</td>\n",
       "      <td>1702536.85</td>\n",
       "    </tr>\n",
       "    <tr>\n",
       "      <th>2017-07-01 15:00:00</th>\n",
       "      <td>ETHUSD</td>\n",
       "      <td>268.79</td>\n",
       "      <td>1500282.55</td>\n",
       "    </tr>\n",
       "    <tr>\n",
       "      <th>...</th>\n",
       "      <td>...</td>\n",
       "      <td>...</td>\n",
       "      <td>...</td>\n",
       "    </tr>\n",
       "    <tr>\n",
       "      <th>2020-03-13 16:00:00</th>\n",
       "      <td>ETHUSD</td>\n",
       "      <td>127.57</td>\n",
       "      <td>4461424.71</td>\n",
       "    </tr>\n",
       "    <tr>\n",
       "      <th>2020-03-13 17:00:00</th>\n",
       "      <td>ETHUSD</td>\n",
       "      <td>133.80</td>\n",
       "      <td>2753450.92</td>\n",
       "    </tr>\n",
       "    <tr>\n",
       "      <th>2020-03-13 18:00:00</th>\n",
       "      <td>ETHUSD</td>\n",
       "      <td>128.93</td>\n",
       "      <td>4898735.81</td>\n",
       "    </tr>\n",
       "    <tr>\n",
       "      <th>2020-03-13 19:00:00</th>\n",
       "      <td>ETHUSD</td>\n",
       "      <td>134.03</td>\n",
       "      <td>7579741.09</td>\n",
       "    </tr>\n",
       "    <tr>\n",
       "      <th>2020-03-13 20:00:00</th>\n",
       "      <td>ETHUSD</td>\n",
       "      <td>124.85</td>\n",
       "      <td>1940673.93</td>\n",
       "    </tr>\n",
       "  </tbody>\n",
       "</table>\n",
       "<p>23674 rows × 3 columns</p>\n",
       "</div>"
      ],
      "text/plain": [
       "                     symbol   close      volume\n",
       "date                                           \n",
       "2017-07-01 11:00:00  ETHUSD  257.13   679358.87\n",
       "2017-07-01 12:00:00  ETHUSD  263.12   824362.87\n",
       "2017-07-01 13:00:00  ETHUSD  275.01  3010787.99\n",
       "2017-07-01 14:00:00  ETHUSD  274.83  1702536.85\n",
       "2017-07-01 15:00:00  ETHUSD  268.79  1500282.55\n",
       "...                     ...     ...         ...\n",
       "2020-03-13 16:00:00  ETHUSD  127.57  4461424.71\n",
       "2020-03-13 17:00:00  ETHUSD  133.80  2753450.92\n",
       "2020-03-13 18:00:00  ETHUSD  128.93  4898735.81\n",
       "2020-03-13 19:00:00  ETHUSD  134.03  7579741.09\n",
       "2020-03-13 20:00:00  ETHUSD  124.85  1940673.93\n",
       "\n",
       "[23674 rows x 3 columns]"
      ]
     },
     "execution_count": 26,
     "metadata": {},
     "output_type": "execute_result"
    }
   ],
   "source": [
    "df = df.set_index('date').sort_index()\n",
    "df"
   ]
  },
  {
   "cell_type": "code",
   "execution_count": 27,
   "id": "b2125de9-2920-49ae-ab43-e0d934d038eb",
   "metadata": {},
   "outputs": [
    {
     "data": {
      "text/plain": [
       "<AxesSubplot:xlabel='date'>"
      ]
     },
     "execution_count": 27,
     "metadata": {},
     "output_type": "execute_result"
    },
    {
     "data": {
      "image/png": "[encoded data removed]",
      "text/plain": [
       "<Figure size 1152x648 with 1 Axes>"
      ]
     },
     "metadata": {
      "needs_background": "light"
     },
     "output_type": "display_data"
    }
   ],
   "source": [
    "df.close.plot()"
   ]
  },
  {
   "cell_type": "markdown",
   "id": "f2c3ac49-98eb-4336-91a2-a55b640801c8",
   "metadata": {},
   "source": [
    "### Let's look at the the mean on each day of the week\n",
    "\n",
    "#### [Pandas datetimeIndex attributes](https://pandas.pydata.org/docs/reference/api/pandas.DatetimeIndex.html)"
   ]
  },
  {
   "cell_type": "code",
   "execution_count": 28,
   "id": "ff18ce2e-c580-48d3-9ce3-b9fb0a057b04",
   "metadata": {},
   "outputs": [
    {
     "data": {
      "text/plain": [
       "Index(['Saturday', 'Saturday', 'Saturday', 'Saturday', 'Saturday', 'Saturday',\n",
       "       'Saturday', 'Saturday', 'Saturday', 'Saturday',\n",
       "       ...\n",
       "       'Friday', 'Friday', 'Friday', 'Friday', 'Friday', 'Friday', 'Friday',\n",
       "       'Friday', 'Friday', 'Friday'],\n",
       "      dtype='object', name='date', length=23674)"
      ]
     },
     "execution_count": 28,
     "metadata": {},
     "output_type": "execute_result"
    }
   ],
   "source": [
    "df.index.day_name()"
   ]
  },
  {
   "cell_type": "code",
   "execution_count": 29,
   "id": "146ad198-4189-4ebb-bad3-d6651ad5c03f",
   "metadata": {},
   "outputs": [],
   "source": [
    "df['weekday_name'] = df.index.day_name()"
   ]
  },
  {
   "cell_type": "code",
   "execution_count": 30,
   "id": "168f535d-b983-4335-8b87-4253a8eb9ad6",
   "metadata": {},
   "outputs": [
    {
     "data": {
      "text/html": [
       "<div>\n",
       "<style scoped>\n",
       "    .dataframe tbody tr th:only-of-type {\n",
       "        vertical-align: middle;\n",
       "    }\n",
       "\n",
       "    .dataframe tbody tr th {\n",
       "        vertical-align: top;\n",
       "    }\n",
       "\n",
       "    .dataframe thead th {\n",
       "        text-align: right;\n",
       "    }\n",
       "</style>\n",
       "<table border=\"1\" class=\"dataframe\">\n",
       "  <thead>\n",
       "    <tr style=\"text-align: right;\">\n",
       "      <th></th>\n",
       "      <th>symbol</th>\n",
       "      <th>close</th>\n",
       "      <th>volume</th>\n",
       "      <th>weekday_name</th>\n",
       "    </tr>\n",
       "    <tr>\n",
       "      <th>date</th>\n",
       "      <th></th>\n",
       "      <th></th>\n",
       "      <th></th>\n",
       "      <th></th>\n",
       "    </tr>\n",
       "  </thead>\n",
       "  <tbody>\n",
       "    <tr>\n",
       "      <th>2017-07-01 11:00:00</th>\n",
       "      <td>ETHUSD</td>\n",
       "      <td>257.13</td>\n",
       "      <td>679358.87</td>\n",
       "      <td>Saturday</td>\n",
       "    </tr>\n",
       "    <tr>\n",
       "      <th>2017-07-01 12:00:00</th>\n",
       "      <td>ETHUSD</td>\n",
       "      <td>263.12</td>\n",
       "      <td>824362.87</td>\n",
       "      <td>Saturday</td>\n",
       "    </tr>\n",
       "    <tr>\n",
       "      <th>2017-07-01 13:00:00</th>\n",
       "      <td>ETHUSD</td>\n",
       "      <td>275.01</td>\n",
       "      <td>3010787.99</td>\n",
       "      <td>Saturday</td>\n",
       "    </tr>\n",
       "    <tr>\n",
       "      <th>2017-07-01 14:00:00</th>\n",
       "      <td>ETHUSD</td>\n",
       "      <td>274.83</td>\n",
       "      <td>1702536.85</td>\n",
       "      <td>Saturday</td>\n",
       "    </tr>\n",
       "    <tr>\n",
       "      <th>2017-07-01 15:00:00</th>\n",
       "      <td>ETHUSD</td>\n",
       "      <td>268.79</td>\n",
       "      <td>1500282.55</td>\n",
       "      <td>Saturday</td>\n",
       "    </tr>\n",
       "    <tr>\n",
       "      <th>...</th>\n",
       "      <td>...</td>\n",
       "      <td>...</td>\n",
       "      <td>...</td>\n",
       "      <td>...</td>\n",
       "    </tr>\n",
       "    <tr>\n",
       "      <th>2020-03-13 16:00:00</th>\n",
       "      <td>ETHUSD</td>\n",
       "      <td>127.57</td>\n",
       "      <td>4461424.71</td>\n",
       "      <td>Friday</td>\n",
       "    </tr>\n",
       "    <tr>\n",
       "      <th>2020-03-13 17:00:00</th>\n",
       "      <td>ETHUSD</td>\n",
       "      <td>133.80</td>\n",
       "      <td>2753450.92</td>\n",
       "      <td>Friday</td>\n",
       "    </tr>\n",
       "    <tr>\n",
       "      <th>2020-03-13 18:00:00</th>\n",
       "      <td>ETHUSD</td>\n",
       "      <td>128.93</td>\n",
       "      <td>4898735.81</td>\n",
       "      <td>Friday</td>\n",
       "    </tr>\n",
       "    <tr>\n",
       "      <th>2020-03-13 19:00:00</th>\n",
       "      <td>ETHUSD</td>\n",
       "      <td>134.03</td>\n",
       "      <td>7579741.09</td>\n",
       "      <td>Friday</td>\n",
       "    </tr>\n",
       "    <tr>\n",
       "      <th>2020-03-13 20:00:00</th>\n",
       "      <td>ETHUSD</td>\n",
       "      <td>124.85</td>\n",
       "      <td>1940673.93</td>\n",
       "      <td>Friday</td>\n",
       "    </tr>\n",
       "  </tbody>\n",
       "</table>\n",
       "<p>23674 rows × 4 columns</p>\n",
       "</div>"
      ],
      "text/plain": [
       "                     symbol   close      volume weekday_name\n",
       "date                                                        \n",
       "2017-07-01 11:00:00  ETHUSD  257.13   679358.87     Saturday\n",
       "2017-07-01 12:00:00  ETHUSD  263.12   824362.87     Saturday\n",
       "2017-07-01 13:00:00  ETHUSD  275.01  3010787.99     Saturday\n",
       "2017-07-01 14:00:00  ETHUSD  274.83  1702536.85     Saturday\n",
       "2017-07-01 15:00:00  ETHUSD  268.79  1500282.55     Saturday\n",
       "...                     ...     ...         ...          ...\n",
       "2020-03-13 16:00:00  ETHUSD  127.57  4461424.71       Friday\n",
       "2020-03-13 17:00:00  ETHUSD  133.80  2753450.92       Friday\n",
       "2020-03-13 18:00:00  ETHUSD  128.93  4898735.81       Friday\n",
       "2020-03-13 19:00:00  ETHUSD  134.03  7579741.09       Friday\n",
       "2020-03-13 20:00:00  ETHUSD  124.85  1940673.93       Friday\n",
       "\n",
       "[23674 rows x 4 columns]"
      ]
     },
     "execution_count": 30,
     "metadata": {},
     "output_type": "execute_result"
    }
   ],
   "source": [
    "df"
   ]
  },
  {
   "cell_type": "code",
   "execution_count": 31,
   "id": "8f4d87e5-ea41-41bc-a996-7309a53d864b",
   "metadata": {},
   "outputs": [
    {
     "data": {
      "text/html": [
       "<div>\n",
       "<style scoped>\n",
       "    .dataframe tbody tr th:only-of-type {\n",
       "        vertical-align: middle;\n",
       "    }\n",
       "\n",
       "    .dataframe tbody tr th {\n",
       "        vertical-align: top;\n",
       "    }\n",
       "\n",
       "    .dataframe thead th {\n",
       "        text-align: right;\n",
       "    }\n",
       "</style>\n",
       "<table border=\"1\" class=\"dataframe\">\n",
       "  <thead>\n",
       "    <tr style=\"text-align: right;\">\n",
       "      <th></th>\n",
       "      <th>close</th>\n",
       "      <th>volume</th>\n",
       "    </tr>\n",
       "    <tr>\n",
       "      <th>weekday_name</th>\n",
       "      <th></th>\n",
       "      <th></th>\n",
       "    </tr>\n",
       "  </thead>\n",
       "  <tbody>\n",
       "    <tr>\n",
       "      <th>Friday</th>\n",
       "      <td>321.134596</td>\n",
       "      <td>2.135718e+06</td>\n",
       "    </tr>\n",
       "    <tr>\n",
       "      <th>Monday</th>\n",
       "      <td>326.186823</td>\n",
       "      <td>1.913387e+06</td>\n",
       "    </tr>\n",
       "    <tr>\n",
       "      <th>Saturday</th>\n",
       "      <td>327.707441</td>\n",
       "      <td>1.455576e+06</td>\n",
       "    </tr>\n",
       "    <tr>\n",
       "      <th>Sunday</th>\n",
       "      <td>326.316418</td>\n",
       "      <td>1.453492e+06</td>\n",
       "    </tr>\n",
       "    <tr>\n",
       "      <th>Thursday</th>\n",
       "      <td>323.334524</td>\n",
       "      <td>2.250669e+06</td>\n",
       "    </tr>\n",
       "    <tr>\n",
       "      <th>Tuesday</th>\n",
       "      <td>325.189722</td>\n",
       "      <td>2.355955e+06</td>\n",
       "    </tr>\n",
       "    <tr>\n",
       "      <th>Wednesday</th>\n",
       "      <td>324.622361</td>\n",
       "      <td>2.510756e+06</td>\n",
       "    </tr>\n",
       "  </tbody>\n",
       "</table>\n",
       "</div>"
      ],
      "text/plain": [
       "                   close        volume\n",
       "weekday_name                          \n",
       "Friday        321.134596  2.135718e+06\n",
       "Monday        326.186823  1.913387e+06\n",
       "Saturday      327.707441  1.455576e+06\n",
       "Sunday        326.316418  1.453492e+06\n",
       "Thursday      323.334524  2.250669e+06\n",
       "Tuesday       325.189722  2.355955e+06\n",
       "Wednesday     324.622361  2.510756e+06"
      ]
     },
     "execution_count": 31,
     "metadata": {},
     "output_type": "execute_result"
    }
   ],
   "source": [
    "df.groupby('weekday_name').mean()"
   ]
  },
  {
   "cell_type": "code",
   "execution_count": 32,
   "id": "1e6120c2-d1b0-4064-aec2-1917eb5d20d9",
   "metadata": {},
   "outputs": [
    {
     "data": {
      "text/plain": [
       "<AxesSubplot:xlabel='weekday_name'>"
      ]
     },
     "execution_count": 32,
     "metadata": {},
     "output_type": "execute_result"
    },
    {
     "data": {
      "image/png": "[encoded data removed]",
      "text/plain": [
       "<Figure size 1152x648 with 1 Axes>"
      ]
     },
     "metadata": {
      "needs_background": "light"
     },
     "output_type": "display_data"
    }
   ],
   "source": [
    "df.groupby('weekday_name').mean().close.plot()"
   ]
  },
  {
   "cell_type": "code",
   "execution_count": 33,
   "id": "93755fb7-f301-4bbb-8cad-3deb5adf0518",
   "metadata": {},
   "outputs": [
    {
     "data": {
      "text/plain": [
       "<AxesSubplot:xlabel='weekday_name'>"
      ]
     },
     "execution_count": 33,
     "metadata": {},
     "output_type": "execute_result"
    },
    {
     "data": {
      "image/png": "[encoded data removed]",
      "text/plain": [
       "<Figure size 1152x648 with 1 Axes>"
      ]
     },
     "metadata": {
      "needs_background": "light"
     },
     "output_type": "display_data"
    }
   ],
   "source": [
    "df.groupby('weekday_name').mean().volume.plot()"
   ]
  },
  {
   "cell_type": "markdown",
   "id": "420a0fae-ae26-4f97-82c1-07fd762f07e4",
   "metadata": {},
   "source": [
    "#### The days are out of order so let's fix that"
   ]
  },
  {
   "cell_type": "code",
   "execution_count": 34,
   "id": "aa254425-1979-485e-8ca8-57767b52280e",
   "metadata": {},
   "outputs": [
    {
     "data": {
      "text/plain": [
       "DatetimeIndex(['2017-07-01 11:00:00', '2017-07-01 12:00:00',\n",
       "               '2017-07-01 13:00:00', '2017-07-01 14:00:00',\n",
       "               '2017-07-01 15:00:00', '2017-07-01 16:00:00',\n",
       "               '2017-07-01 17:00:00', '2017-07-01 18:00:00',\n",
       "               '2017-07-01 19:00:00', '2017-07-01 20:00:00',\n",
       "               ...\n",
       "               '2020-03-13 11:00:00', '2020-03-13 12:00:00',\n",
       "               '2020-03-13 13:00:00', '2020-03-13 14:00:00',\n",
       "               '2020-03-13 15:00:00', '2020-03-13 16:00:00',\n",
       "               '2020-03-13 17:00:00', '2020-03-13 18:00:00',\n",
       "               '2020-03-13 19:00:00', '2020-03-13 20:00:00'],\n",
       "              dtype='datetime64[ns]', name='date', length=23674, freq=None)"
      ]
     },
     "execution_count": 34,
     "metadata": {},
     "output_type": "execute_result"
    }
   ],
   "source": [
    "df.index"
   ]
  },
  {
   "cell_type": "code",
   "execution_count": 35,
   "id": "8175d561-e051-4bc5-be67-a1f335dc1150",
   "metadata": {},
   "outputs": [
    {
     "data": {
      "text/plain": [
       "Int64Index([5, 5, 5, 5, 5, 5, 5, 5, 5, 5,\n",
       "            ...\n",
       "            4, 4, 4, 4, 4, 4, 4, 4, 4, 4],\n",
       "           dtype='int64', name='date', length=23674)"
      ]
     },
     "execution_count": 35,
     "metadata": {},
     "output_type": "execute_result"
    }
   ],
   "source": [
    "df.index.day_of_week"
   ]
  },
  {
   "cell_type": "code",
   "execution_count": 36,
   "id": "a482f292-38c6-476f-89e8-d27dd4e64b79",
   "metadata": {},
   "outputs": [
    {
     "data": {
      "text/html": [
       "<div>\n",
       "<style scoped>\n",
       "    .dataframe tbody tr th:only-of-type {\n",
       "        vertical-align: middle;\n",
       "    }\n",
       "\n",
       "    .dataframe tbody tr th {\n",
       "        vertical-align: top;\n",
       "    }\n",
       "\n",
       "    .dataframe thead th {\n",
       "        text-align: right;\n",
       "    }\n",
       "</style>\n",
       "<table border=\"1\" class=\"dataframe\">\n",
       "  <thead>\n",
       "    <tr style=\"text-align: right;\">\n",
       "      <th></th>\n",
       "      <th>symbol</th>\n",
       "      <th>close</th>\n",
       "      <th>volume</th>\n",
       "      <th>weekday_name</th>\n",
       "      <th>weekday_number</th>\n",
       "    </tr>\n",
       "    <tr>\n",
       "      <th>date</th>\n",
       "      <th></th>\n",
       "      <th></th>\n",
       "      <th></th>\n",
       "      <th></th>\n",
       "      <th></th>\n",
       "    </tr>\n",
       "  </thead>\n",
       "  <tbody>\n",
       "    <tr>\n",
       "      <th>2017-07-01 11:00:00</th>\n",
       "      <td>ETHUSD</td>\n",
       "      <td>257.13</td>\n",
       "      <td>679358.87</td>\n",
       "      <td>Saturday</td>\n",
       "      <td>5</td>\n",
       "    </tr>\n",
       "    <tr>\n",
       "      <th>2017-07-01 12:00:00</th>\n",
       "      <td>ETHUSD</td>\n",
       "      <td>263.12</td>\n",
       "      <td>824362.87</td>\n",
       "      <td>Saturday</td>\n",
       "      <td>5</td>\n",
       "    </tr>\n",
       "    <tr>\n",
       "      <th>2017-07-01 13:00:00</th>\n",
       "      <td>ETHUSD</td>\n",
       "      <td>275.01</td>\n",
       "      <td>3010787.99</td>\n",
       "      <td>Saturday</td>\n",
       "      <td>5</td>\n",
       "    </tr>\n",
       "    <tr>\n",
       "      <th>2017-07-01 14:00:00</th>\n",
       "      <td>ETHUSD</td>\n",
       "      <td>274.83</td>\n",
       "      <td>1702536.85</td>\n",
       "      <td>Saturday</td>\n",
       "      <td>5</td>\n",
       "    </tr>\n",
       "    <tr>\n",
       "      <th>2017-07-01 15:00:00</th>\n",
       "      <td>ETHUSD</td>\n",
       "      <td>268.79</td>\n",
       "      <td>1500282.55</td>\n",
       "      <td>Saturday</td>\n",
       "      <td>5</td>\n",
       "    </tr>\n",
       "    <tr>\n",
       "      <th>...</th>\n",
       "      <td>...</td>\n",
       "      <td>...</td>\n",
       "      <td>...</td>\n",
       "      <td>...</td>\n",
       "      <td>...</td>\n",
       "    </tr>\n",
       "    <tr>\n",
       "      <th>2020-03-13 16:00:00</th>\n",
       "      <td>ETHUSD</td>\n",
       "      <td>127.57</td>\n",
       "      <td>4461424.71</td>\n",
       "      <td>Friday</td>\n",
       "      <td>4</td>\n",
       "    </tr>\n",
       "    <tr>\n",
       "      <th>2020-03-13 17:00:00</th>\n",
       "      <td>ETHUSD</td>\n",
       "      <td>133.80</td>\n",
       "      <td>2753450.92</td>\n",
       "      <td>Friday</td>\n",
       "      <td>4</td>\n",
       "    </tr>\n",
       "    <tr>\n",
       "      <th>2020-03-13 18:00:00</th>\n",
       "      <td>ETHUSD</td>\n",
       "      <td>128.93</td>\n",
       "      <td>4898735.81</td>\n",
       "      <td>Friday</td>\n",
       "      <td>4</td>\n",
       "    </tr>\n",
       "    <tr>\n",
       "      <th>2020-03-13 19:00:00</th>\n",
       "      <td>ETHUSD</td>\n",
       "      <td>134.03</td>\n",
       "      <td>7579741.09</td>\n",
       "      <td>Friday</td>\n",
       "      <td>4</td>\n",
       "    </tr>\n",
       "    <tr>\n",
       "      <th>2020-03-13 20:00:00</th>\n",
       "      <td>ETHUSD</td>\n",
       "      <td>124.85</td>\n",
       "      <td>1940673.93</td>\n",
       "      <td>Friday</td>\n",
       "      <td>4</td>\n",
       "    </tr>\n",
       "  </tbody>\n",
       "</table>\n",
       "<p>23674 rows × 5 columns</p>\n",
       "</div>"
      ],
      "text/plain": [
       "                     symbol   close      volume weekday_name  weekday_number\n",
       "date                                                                        \n",
       "2017-07-01 11:00:00  ETHUSD  257.13   679358.87     Saturday               5\n",
       "2017-07-01 12:00:00  ETHUSD  263.12   824362.87     Saturday               5\n",
       "2017-07-01 13:00:00  ETHUSD  275.01  3010787.99     Saturday               5\n",
       "2017-07-01 14:00:00  ETHUSD  274.83  1702536.85     Saturday               5\n",
       "2017-07-01 15:00:00  ETHUSD  268.79  1500282.55     Saturday               5\n",
       "...                     ...     ...         ...          ...             ...\n",
       "2020-03-13 16:00:00  ETHUSD  127.57  4461424.71       Friday               4\n",
       "2020-03-13 17:00:00  ETHUSD  133.80  2753450.92       Friday               4\n",
       "2020-03-13 18:00:00  ETHUSD  128.93  4898735.81       Friday               4\n",
       "2020-03-13 19:00:00  ETHUSD  134.03  7579741.09       Friday               4\n",
       "2020-03-13 20:00:00  ETHUSD  124.85  1940673.93       Friday               4\n",
       "\n",
       "[23674 rows x 5 columns]"
      ]
     },
     "execution_count": 36,
     "metadata": {},
     "output_type": "execute_result"
    }
   ],
   "source": [
    "df['weekday_number'] = df.index.day_of_week\n",
    "df"
   ]
  },
  {
   "cell_type": "code",
   "execution_count": 37,
   "id": "c3b9da66-6775-41d3-bbbb-d1f1314ee692",
   "metadata": {},
   "outputs": [
    {
     "data": {
      "text/html": [
       "<div>\n",
       "<style scoped>\n",
       "    .dataframe tbody tr th:only-of-type {\n",
       "        vertical-align: middle;\n",
       "    }\n",
       "\n",
       "    .dataframe tbody tr th {\n",
       "        vertical-align: top;\n",
       "    }\n",
       "\n",
       "    .dataframe thead th {\n",
       "        text-align: right;\n",
       "    }\n",
       "</style>\n",
       "<table border=\"1\" class=\"dataframe\">\n",
       "  <thead>\n",
       "    <tr style=\"text-align: right;\">\n",
       "      <th></th>\n",
       "      <th>close</th>\n",
       "      <th>volume</th>\n",
       "      <th>weekday_number</th>\n",
       "    </tr>\n",
       "    <tr>\n",
       "      <th>weekday_name</th>\n",
       "      <th></th>\n",
       "      <th></th>\n",
       "      <th></th>\n",
       "    </tr>\n",
       "  </thead>\n",
       "  <tbody>\n",
       "    <tr>\n",
       "      <th>Friday</th>\n",
       "      <td>321.134596</td>\n",
       "      <td>2.135718e+06</td>\n",
       "      <td>4</td>\n",
       "    </tr>\n",
       "    <tr>\n",
       "      <th>Monday</th>\n",
       "      <td>326.186823</td>\n",
       "      <td>1.913387e+06</td>\n",
       "      <td>0</td>\n",
       "    </tr>\n",
       "    <tr>\n",
       "      <th>Saturday</th>\n",
       "      <td>327.707441</td>\n",
       "      <td>1.455576e+06</td>\n",
       "      <td>5</td>\n",
       "    </tr>\n",
       "    <tr>\n",
       "      <th>Sunday</th>\n",
       "      <td>326.316418</td>\n",
       "      <td>1.453492e+06</td>\n",
       "      <td>6</td>\n",
       "    </tr>\n",
       "    <tr>\n",
       "      <th>Thursday</th>\n",
       "      <td>323.334524</td>\n",
       "      <td>2.250669e+06</td>\n",
       "      <td>3</td>\n",
       "    </tr>\n",
       "    <tr>\n",
       "      <th>Tuesday</th>\n",
       "      <td>325.189722</td>\n",
       "      <td>2.355955e+06</td>\n",
       "      <td>1</td>\n",
       "    </tr>\n",
       "    <tr>\n",
       "      <th>Wednesday</th>\n",
       "      <td>324.622361</td>\n",
       "      <td>2.510756e+06</td>\n",
       "      <td>2</td>\n",
       "    </tr>\n",
       "  </tbody>\n",
       "</table>\n",
       "</div>"
      ],
      "text/plain": [
       "                   close        volume  weekday_number\n",
       "weekday_name                                          \n",
       "Friday        321.134596  2.135718e+06               4\n",
       "Monday        326.186823  1.913387e+06               0\n",
       "Saturday      327.707441  1.455576e+06               5\n",
       "Sunday        326.316418  1.453492e+06               6\n",
       "Thursday      323.334524  2.250669e+06               3\n",
       "Tuesday       325.189722  2.355955e+06               1\n",
       "Wednesday     324.622361  2.510756e+06               2"
      ]
     },
     "execution_count": 37,
     "metadata": {},
     "output_type": "execute_result"
    }
   ],
   "source": [
    "df.groupby('weekday_name').mean()"
   ]
  },
  {
   "cell_type": "code",
   "execution_count": 38,
   "id": "dee0feb1-1513-4695-9c3a-facd7f94dd70",
   "metadata": {},
   "outputs": [
    {
     "data": {
      "text/html": [
       "<div>\n",
       "<style scoped>\n",
       "    .dataframe tbody tr th:only-of-type {\n",
       "        vertical-align: middle;\n",
       "    }\n",
       "\n",
       "    .dataframe tbody tr th {\n",
       "        vertical-align: top;\n",
       "    }\n",
       "\n",
       "    .dataframe thead th {\n",
       "        text-align: right;\n",
       "    }\n",
       "</style>\n",
       "<table border=\"1\" class=\"dataframe\">\n",
       "  <thead>\n",
       "    <tr style=\"text-align: right;\">\n",
       "      <th></th>\n",
       "      <th>close</th>\n",
       "      <th>volume</th>\n",
       "      <th>weekday_number</th>\n",
       "    </tr>\n",
       "    <tr>\n",
       "      <th>weekday_name</th>\n",
       "      <th></th>\n",
       "      <th></th>\n",
       "      <th></th>\n",
       "    </tr>\n",
       "  </thead>\n",
       "  <tbody>\n",
       "    <tr>\n",
       "      <th>Monday</th>\n",
       "      <td>326.186823</td>\n",
       "      <td>1.913387e+06</td>\n",
       "      <td>0</td>\n",
       "    </tr>\n",
       "    <tr>\n",
       "      <th>Tuesday</th>\n",
       "      <td>325.189722</td>\n",
       "      <td>2.355955e+06</td>\n",
       "      <td>1</td>\n",
       "    </tr>\n",
       "    <tr>\n",
       "      <th>Wednesday</th>\n",
       "      <td>324.622361</td>\n",
       "      <td>2.510756e+06</td>\n",
       "      <td>2</td>\n",
       "    </tr>\n",
       "    <tr>\n",
       "      <th>Thursday</th>\n",
       "      <td>323.334524</td>\n",
       "      <td>2.250669e+06</td>\n",
       "      <td>3</td>\n",
       "    </tr>\n",
       "    <tr>\n",
       "      <th>Friday</th>\n",
       "      <td>321.134596</td>\n",
       "      <td>2.135718e+06</td>\n",
       "      <td>4</td>\n",
       "    </tr>\n",
       "    <tr>\n",
       "      <th>Saturday</th>\n",
       "      <td>327.707441</td>\n",
       "      <td>1.455576e+06</td>\n",
       "      <td>5</td>\n",
       "    </tr>\n",
       "    <tr>\n",
       "      <th>Sunday</th>\n",
       "      <td>326.316418</td>\n",
       "      <td>1.453492e+06</td>\n",
       "      <td>6</td>\n",
       "    </tr>\n",
       "  </tbody>\n",
       "</table>\n",
       "</div>"
      ],
      "text/plain": [
       "                   close        volume  weekday_number\n",
       "weekday_name                                          \n",
       "Monday        326.186823  1.913387e+06               0\n",
       "Tuesday       325.189722  2.355955e+06               1\n",
       "Wednesday     324.622361  2.510756e+06               2\n",
       "Thursday      323.334524  2.250669e+06               3\n",
       "Friday        321.134596  2.135718e+06               4\n",
       "Saturday      327.707441  1.455576e+06               5\n",
       "Sunday        326.316418  1.453492e+06               6"
      ]
     },
     "execution_count": 38,
     "metadata": {},
     "output_type": "execute_result"
    }
   ],
   "source": [
    "df.groupby('weekday_name').mean().sort_values('weekday_number')"
   ]
  },
  {
   "cell_type": "code",
   "execution_count": 39,
   "id": "4893af2a-8579-4614-9c01-1fbb638d3581",
   "metadata": {},
   "outputs": [
    {
     "data": {
      "text/plain": [
       "<AxesSubplot:xlabel='weekday_name'>"
      ]
     },
     "execution_count": 39,
     "metadata": {},
     "output_type": "execute_result"
    },
    {
     "data": {
      "image/png": "[encoded data removed]",
      "text/plain": [
       "<Figure size 1152x648 with 1 Axes>"
      ]
     },
     "metadata": {
      "needs_background": "light"
     },
     "output_type": "display_data"
    }
   ],
   "source": [
    "df.groupby('weekday_name').mean().sort_values('weekday_number').volume.plot()"
   ]
  },
  {
   "cell_type": "code",
   "execution_count": 40,
   "id": "d49a9d54-be64-444f-8e19-669c94b33c5f",
   "metadata": {},
   "outputs": [
    {
     "data": {
      "text/plain": [
       "<AxesSubplot:xlabel='weekday_name'>"
      ]
     },
     "execution_count": 40,
     "metadata": {},
     "output_type": "execute_result"
    },
    {
     "data": {
      "image/png": "[encoded data removed]",
      "text/plain": [
       "<Figure size 1152x648 with 1 Axes>"
      ]
     },
     "metadata": {
      "needs_background": "light"
     },
     "output_type": "display_data"
    }
   ],
   "source": [
    "df.groupby('weekday_name').mean().sort_values('weekday_number').close.plot()"
   ]
  },
  {
   "cell_type": "markdown",
   "id": "00da9e8d-ce8b-4e4e-98a0-c09034884cf9",
   "metadata": {},
   "source": [
    "![Nice gif](https://c.tenor.com/bEBxkuyFiucAAAAC/yes-nice.gif)\n",
    "\n",
    "### How do we get a subset of the dataframe?"
   ]
  },
  {
   "cell_type": "code",
   "execution_count": 41,
   "id": "14e9a049-1d4f-4993-9e71-9cd879cd51fd",
   "metadata": {},
   "outputs": [
    {
     "data": {
      "text/plain": [
       "symbol               ETHUSD\n",
       "close                175.73\n",
       "volume            422881.86\n",
       "weekday_name        Tuesday\n",
       "weekday_number            1\n",
       "Name: 2019-11-19 12:00:00, dtype: object"
      ]
     },
     "execution_count": 41,
     "metadata": {},
     "output_type": "execute_result"
    }
   ],
   "source": [
    "df.loc['2019-11-19 12:00:00']"
   ]
  },
  {
   "cell_type": "code",
   "execution_count": 42,
   "id": "b1875e70-19c3-4cea-9662-3c5d25c52863",
   "metadata": {},
   "outputs": [
    {
     "data": {
      "text/html": [
       "<div>\n",
       "<style scoped>\n",
       "    .dataframe tbody tr th:only-of-type {\n",
       "        vertical-align: middle;\n",
       "    }\n",
       "\n",
       "    .dataframe tbody tr th {\n",
       "        vertical-align: top;\n",
       "    }\n",
       "\n",
       "    .dataframe thead th {\n",
       "        text-align: right;\n",
       "    }\n",
       "</style>\n",
       "<table border=\"1\" class=\"dataframe\">\n",
       "  <thead>\n",
       "    <tr style=\"text-align: right;\">\n",
       "      <th></th>\n",
       "      <th>symbol</th>\n",
       "      <th>close</th>\n",
       "      <th>volume</th>\n",
       "      <th>weekday_name</th>\n",
       "      <th>weekday_number</th>\n",
       "    </tr>\n",
       "    <tr>\n",
       "      <th>date</th>\n",
       "      <th></th>\n",
       "      <th></th>\n",
       "      <th></th>\n",
       "      <th></th>\n",
       "      <th></th>\n",
       "    </tr>\n",
       "  </thead>\n",
       "  <tbody>\n",
       "    <tr>\n",
       "      <th>2018-01-01 00:00:00</th>\n",
       "      <td>ETHUSD</td>\n",
       "      <td>754.42</td>\n",
       "      <td>2697546.48</td>\n",
       "      <td>Monday</td>\n",
       "      <td>0</td>\n",
       "    </tr>\n",
       "    <tr>\n",
       "      <th>2018-01-01 01:00:00</th>\n",
       "      <td>ETHUSD</td>\n",
       "      <td>734.59</td>\n",
       "      <td>1886624.01</td>\n",
       "      <td>Monday</td>\n",
       "      <td>0</td>\n",
       "    </tr>\n",
       "    <tr>\n",
       "      <th>2018-01-01 02:00:00</th>\n",
       "      <td>ETHUSD</td>\n",
       "      <td>730.01</td>\n",
       "      <td>2950627.37</td>\n",
       "      <td>Monday</td>\n",
       "      <td>0</td>\n",
       "    </tr>\n",
       "    <tr>\n",
       "      <th>2018-01-01 03:00:00</th>\n",
       "      <td>ETHUSD</td>\n",
       "      <td>747.90</td>\n",
       "      <td>3461348.11</td>\n",
       "      <td>Monday</td>\n",
       "      <td>0</td>\n",
       "    </tr>\n",
       "    <tr>\n",
       "      <th>2018-01-01 04:00:00</th>\n",
       "      <td>ETHUSD</td>\n",
       "      <td>757.86</td>\n",
       "      <td>3180304.69</td>\n",
       "      <td>Monday</td>\n",
       "      <td>0</td>\n",
       "    </tr>\n",
       "    <tr>\n",
       "      <th>...</th>\n",
       "      <td>...</td>\n",
       "      <td>...</td>\n",
       "      <td>...</td>\n",
       "      <td>...</td>\n",
       "      <td>...</td>\n",
       "    </tr>\n",
       "    <tr>\n",
       "      <th>2019-12-31 19:00:00</th>\n",
       "      <td>ETHUSD</td>\n",
       "      <td>131.10</td>\n",
       "      <td>1169847.84</td>\n",
       "      <td>Tuesday</td>\n",
       "      <td>1</td>\n",
       "    </tr>\n",
       "    <tr>\n",
       "      <th>2019-12-31 20:00:00</th>\n",
       "      <td>ETHUSD</td>\n",
       "      <td>129.29</td>\n",
       "      <td>428183.38</td>\n",
       "      <td>Tuesday</td>\n",
       "      <td>1</td>\n",
       "    </tr>\n",
       "    <tr>\n",
       "      <th>2019-12-31 21:00:00</th>\n",
       "      <td>ETHUSD</td>\n",
       "      <td>128.83</td>\n",
       "      <td>350155.69</td>\n",
       "      <td>Tuesday</td>\n",
       "      <td>1</td>\n",
       "    </tr>\n",
       "    <tr>\n",
       "      <th>2019-12-31 22:00:00</th>\n",
       "      <td>ETHUSD</td>\n",
       "      <td>127.84</td>\n",
       "      <td>554646.02</td>\n",
       "      <td>Tuesday</td>\n",
       "      <td>1</td>\n",
       "    </tr>\n",
       "    <tr>\n",
       "      <th>2019-12-31 23:00:00</th>\n",
       "      <td>ETHUSD</td>\n",
       "      <td>128.38</td>\n",
       "      <td>440678.91</td>\n",
       "      <td>Tuesday</td>\n",
       "      <td>1</td>\n",
       "    </tr>\n",
       "  </tbody>\n",
       "</table>\n",
       "<p>17520 rows × 5 columns</p>\n",
       "</div>"
      ],
      "text/plain": [
       "                     symbol   close      volume weekday_name  weekday_number\n",
       "date                                                                        \n",
       "2018-01-01 00:00:00  ETHUSD  754.42  2697546.48       Monday               0\n",
       "2018-01-01 01:00:00  ETHUSD  734.59  1886624.01       Monday               0\n",
       "2018-01-01 02:00:00  ETHUSD  730.01  2950627.37       Monday               0\n",
       "2018-01-01 03:00:00  ETHUSD  747.90  3461348.11       Monday               0\n",
       "2018-01-01 04:00:00  ETHUSD  757.86  3180304.69       Monday               0\n",
       "...                     ...     ...         ...          ...             ...\n",
       "2019-12-31 19:00:00  ETHUSD  131.10  1169847.84      Tuesday               1\n",
       "2019-12-31 20:00:00  ETHUSD  129.29   428183.38      Tuesday               1\n",
       "2019-12-31 21:00:00  ETHUSD  128.83   350155.69      Tuesday               1\n",
       "2019-12-31 22:00:00  ETHUSD  127.84   554646.02      Tuesday               1\n",
       "2019-12-31 23:00:00  ETHUSD  128.38   440678.91      Tuesday               1\n",
       "\n",
       "[17520 rows x 5 columns]"
      ]
     },
     "execution_count": 42,
     "metadata": {},
     "output_type": "execute_result"
    }
   ],
   "source": [
    "df['2018':'2019']"
   ]
  },
  {
   "cell_type": "code",
   "execution_count": 43,
   "id": "e2847146-333c-4498-98e4-6ef91170026c",
   "metadata": {},
   "outputs": [
    {
     "data": {
      "text/html": [
       "<div>\n",
       "<style scoped>\n",
       "    .dataframe tbody tr th:only-of-type {\n",
       "        vertical-align: middle;\n",
       "    }\n",
       "\n",
       "    .dataframe tbody tr th {\n",
       "        vertical-align: top;\n",
       "    }\n",
       "\n",
       "    .dataframe thead th {\n",
       "        text-align: right;\n",
       "    }\n",
       "</style>\n",
       "<table border=\"1\" class=\"dataframe\">\n",
       "  <thead>\n",
       "    <tr style=\"text-align: right;\">\n",
       "      <th></th>\n",
       "      <th>symbol</th>\n",
       "      <th>close</th>\n",
       "      <th>volume</th>\n",
       "      <th>weekday_name</th>\n",
       "      <th>weekday_number</th>\n",
       "    </tr>\n",
       "    <tr>\n",
       "      <th>date</th>\n",
       "      <th></th>\n",
       "      <th></th>\n",
       "      <th></th>\n",
       "      <th></th>\n",
       "      <th></th>\n",
       "    </tr>\n",
       "  </thead>\n",
       "  <tbody>\n",
       "    <tr>\n",
       "      <th>2018-11-01 00:00:00</th>\n",
       "      <td>ETHUSD</td>\n",
       "      <td>197.77</td>\n",
       "      <td>275748.99</td>\n",
       "      <td>Thursday</td>\n",
       "      <td>3</td>\n",
       "    </tr>\n",
       "    <tr>\n",
       "      <th>2018-11-01 01:00:00</th>\n",
       "      <td>ETHUSD</td>\n",
       "      <td>196.79</td>\n",
       "      <td>296047.25</td>\n",
       "      <td>Thursday</td>\n",
       "      <td>3</td>\n",
       "    </tr>\n",
       "    <tr>\n",
       "      <th>2018-11-01 02:00:00</th>\n",
       "      <td>ETHUSD</td>\n",
       "      <td>196.66</td>\n",
       "      <td>192362.83</td>\n",
       "      <td>Thursday</td>\n",
       "      <td>3</td>\n",
       "    </tr>\n",
       "    <tr>\n",
       "      <th>2018-11-01 03:00:00</th>\n",
       "      <td>ETHUSD</td>\n",
       "      <td>196.65</td>\n",
       "      <td>142273.50</td>\n",
       "      <td>Thursday</td>\n",
       "      <td>3</td>\n",
       "    </tr>\n",
       "    <tr>\n",
       "      <th>2018-11-01 04:00:00</th>\n",
       "      <td>ETHUSD</td>\n",
       "      <td>197.02</td>\n",
       "      <td>138478.13</td>\n",
       "      <td>Thursday</td>\n",
       "      <td>3</td>\n",
       "    </tr>\n",
       "    <tr>\n",
       "      <th>...</th>\n",
       "      <td>...</td>\n",
       "      <td>...</td>\n",
       "      <td>...</td>\n",
       "      <td>...</td>\n",
       "      <td>...</td>\n",
       "    </tr>\n",
       "    <tr>\n",
       "      <th>2018-11-30 19:00:00</th>\n",
       "      <td>ETHUSD</td>\n",
       "      <td>112.55</td>\n",
       "      <td>391218.14</td>\n",
       "      <td>Friday</td>\n",
       "      <td>4</td>\n",
       "    </tr>\n",
       "    <tr>\n",
       "      <th>2018-11-30 20:00:00</th>\n",
       "      <td>ETHUSD</td>\n",
       "      <td>112.27</td>\n",
       "      <td>400806.50</td>\n",
       "      <td>Friday</td>\n",
       "      <td>4</td>\n",
       "    </tr>\n",
       "    <tr>\n",
       "      <th>2018-11-30 21:00:00</th>\n",
       "      <td>ETHUSD</td>\n",
       "      <td>113.31</td>\n",
       "      <td>956181.40</td>\n",
       "      <td>Friday</td>\n",
       "      <td>4</td>\n",
       "    </tr>\n",
       "    <tr>\n",
       "      <th>2018-11-30 22:00:00</th>\n",
       "      <td>ETHUSD</td>\n",
       "      <td>113.07</td>\n",
       "      <td>414201.36</td>\n",
       "      <td>Friday</td>\n",
       "      <td>4</td>\n",
       "    </tr>\n",
       "    <tr>\n",
       "      <th>2018-11-30 23:00:00</th>\n",
       "      <td>ETHUSD</td>\n",
       "      <td>111.55</td>\n",
       "      <td>590385.65</td>\n",
       "      <td>Friday</td>\n",
       "      <td>4</td>\n",
       "    </tr>\n",
       "  </tbody>\n",
       "</table>\n",
       "<p>720 rows × 5 columns</p>\n",
       "</div>"
      ],
      "text/plain": [
       "                     symbol   close     volume weekday_name  weekday_number\n",
       "date                                                                       \n",
       "2018-11-01 00:00:00  ETHUSD  197.77  275748.99     Thursday               3\n",
       "2018-11-01 01:00:00  ETHUSD  196.79  296047.25     Thursday               3\n",
       "2018-11-01 02:00:00  ETHUSD  196.66  192362.83     Thursday               3\n",
       "2018-11-01 03:00:00  ETHUSD  196.65  142273.50     Thursday               3\n",
       "2018-11-01 04:00:00  ETHUSD  197.02  138478.13     Thursday               3\n",
       "...                     ...     ...        ...          ...             ...\n",
       "2018-11-30 19:00:00  ETHUSD  112.55  391218.14       Friday               4\n",
       "2018-11-30 20:00:00  ETHUSD  112.27  400806.50       Friday               4\n",
       "2018-11-30 21:00:00  ETHUSD  113.31  956181.40       Friday               4\n",
       "2018-11-30 22:00:00  ETHUSD  113.07  414201.36       Friday               4\n",
       "2018-11-30 23:00:00  ETHUSD  111.55  590385.65       Friday               4\n",
       "\n",
       "[720 rows x 5 columns]"
      ]
     },
     "execution_count": 43,
     "metadata": {},
     "output_type": "execute_result"
    }
   ],
   "source": [
    "df['2018-11']"
   ]
  },
  {
   "cell_type": "code",
   "execution_count": 44,
   "id": "dc892e37-bbcd-471d-8d50-ba880a58c523",
   "metadata": {},
   "outputs": [
    {
     "data": {
      "text/html": [
       "<div>\n",
       "<style scoped>\n",
       "    .dataframe tbody tr th:only-of-type {\n",
       "        vertical-align: middle;\n",
       "    }\n",
       "\n",
       "    .dataframe tbody tr th {\n",
       "        vertical-align: top;\n",
       "    }\n",
       "\n",
       "    .dataframe thead th {\n",
       "        text-align: right;\n",
       "    }\n",
       "</style>\n",
       "<table border=\"1\" class=\"dataframe\">\n",
       "  <thead>\n",
       "    <tr style=\"text-align: right;\">\n",
       "      <th></th>\n",
       "      <th>symbol</th>\n",
       "      <th>close</th>\n",
       "      <th>volume</th>\n",
       "      <th>weekday_name</th>\n",
       "      <th>weekday_number</th>\n",
       "    </tr>\n",
       "    <tr>\n",
       "      <th>date</th>\n",
       "      <th></th>\n",
       "      <th></th>\n",
       "      <th></th>\n",
       "      <th></th>\n",
       "      <th></th>\n",
       "    </tr>\n",
       "  </thead>\n",
       "  <tbody>\n",
       "    <tr>\n",
       "      <th>2018-01-01 00:00:00</th>\n",
       "      <td>ETHUSD</td>\n",
       "      <td>754.42</td>\n",
       "      <td>2697546.48</td>\n",
       "      <td>Monday</td>\n",
       "      <td>0</td>\n",
       "    </tr>\n",
       "    <tr>\n",
       "      <th>2018-01-01 01:00:00</th>\n",
       "      <td>ETHUSD</td>\n",
       "      <td>734.59</td>\n",
       "      <td>1886624.01</td>\n",
       "      <td>Monday</td>\n",
       "      <td>0</td>\n",
       "    </tr>\n",
       "    <tr>\n",
       "      <th>2018-01-01 02:00:00</th>\n",
       "      <td>ETHUSD</td>\n",
       "      <td>730.01</td>\n",
       "      <td>2950627.37</td>\n",
       "      <td>Monday</td>\n",
       "      <td>0</td>\n",
       "    </tr>\n",
       "    <tr>\n",
       "      <th>2018-01-01 03:00:00</th>\n",
       "      <td>ETHUSD</td>\n",
       "      <td>747.90</td>\n",
       "      <td>3461348.11</td>\n",
       "      <td>Monday</td>\n",
       "      <td>0</td>\n",
       "    </tr>\n",
       "    <tr>\n",
       "      <th>2018-01-01 04:00:00</th>\n",
       "      <td>ETHUSD</td>\n",
       "      <td>757.86</td>\n",
       "      <td>3180304.69</td>\n",
       "      <td>Monday</td>\n",
       "      <td>0</td>\n",
       "    </tr>\n",
       "    <tr>\n",
       "      <th>...</th>\n",
       "      <td>...</td>\n",
       "      <td>...</td>\n",
       "      <td>...</td>\n",
       "      <td>...</td>\n",
       "      <td>...</td>\n",
       "    </tr>\n",
       "    <tr>\n",
       "      <th>2018-06-30 19:00:00</th>\n",
       "      <td>ETHUSD</td>\n",
       "      <td>454.25</td>\n",
       "      <td>715461.94</td>\n",
       "      <td>Saturday</td>\n",
       "      <td>5</td>\n",
       "    </tr>\n",
       "    <tr>\n",
       "      <th>2018-06-30 20:00:00</th>\n",
       "      <td>ETHUSD</td>\n",
       "      <td>447.32</td>\n",
       "      <td>889070.47</td>\n",
       "      <td>Saturday</td>\n",
       "      <td>5</td>\n",
       "    </tr>\n",
       "    <tr>\n",
       "      <th>2018-06-30 21:00:00</th>\n",
       "      <td>ETHUSD</td>\n",
       "      <td>444.99</td>\n",
       "      <td>378183.34</td>\n",
       "      <td>Saturday</td>\n",
       "      <td>5</td>\n",
       "    </tr>\n",
       "    <tr>\n",
       "      <th>2018-06-30 22:00:00</th>\n",
       "      <td>ETHUSD</td>\n",
       "      <td>442.95</td>\n",
       "      <td>374419.99</td>\n",
       "      <td>Saturday</td>\n",
       "      <td>5</td>\n",
       "    </tr>\n",
       "    <tr>\n",
       "      <th>2018-06-30 23:00:00</th>\n",
       "      <td>ETHUSD</td>\n",
       "      <td>445.01</td>\n",
       "      <td>1591743.87</td>\n",
       "      <td>Saturday</td>\n",
       "      <td>5</td>\n",
       "    </tr>\n",
       "  </tbody>\n",
       "</table>\n",
       "<p>4344 rows × 5 columns</p>\n",
       "</div>"
      ],
      "text/plain": [
       "                     symbol   close      volume weekday_name  weekday_number\n",
       "date                                                                        \n",
       "2018-01-01 00:00:00  ETHUSD  754.42  2697546.48       Monday               0\n",
       "2018-01-01 01:00:00  ETHUSD  734.59  1886624.01       Monday               0\n",
       "2018-01-01 02:00:00  ETHUSD  730.01  2950627.37       Monday               0\n",
       "2018-01-01 03:00:00  ETHUSD  747.90  3461348.11       Monday               0\n",
       "2018-01-01 04:00:00  ETHUSD  757.86  3180304.69       Monday               0\n",
       "...                     ...     ...         ...          ...             ...\n",
       "2018-06-30 19:00:00  ETHUSD  454.25   715461.94     Saturday               5\n",
       "2018-06-30 20:00:00  ETHUSD  447.32   889070.47     Saturday               5\n",
       "2018-06-30 21:00:00  ETHUSD  444.99   378183.34     Saturday               5\n",
       "2018-06-30 22:00:00  ETHUSD  442.95   374419.99     Saturday               5\n",
       "2018-06-30 23:00:00  ETHUSD  445.01  1591743.87     Saturday               5\n",
       "\n",
       "[4344 rows x 5 columns]"
      ]
     },
     "execution_count": 44,
     "metadata": {},
     "output_type": "execute_result"
    }
   ],
   "source": [
    "df['2018-01-01': '2018-06-30']"
   ]
  },
  {
   "cell_type": "code",
   "execution_count": 45,
   "id": "dc1aa350-b8c9-4bc2-a943-a80fdf61454c",
   "metadata": {},
   "outputs": [
    {
     "data": {
      "text/html": [
       "<div>\n",
       "<style scoped>\n",
       "    .dataframe tbody tr th:only-of-type {\n",
       "        vertical-align: middle;\n",
       "    }\n",
       "\n",
       "    .dataframe tbody tr th {\n",
       "        vertical-align: top;\n",
       "    }\n",
       "\n",
       "    .dataframe thead th {\n",
       "        text-align: right;\n",
       "    }\n",
       "</style>\n",
       "<table border=\"1\" class=\"dataframe\">\n",
       "  <thead>\n",
       "    <tr style=\"text-align: right;\">\n",
       "      <th></th>\n",
       "      <th>symbol</th>\n",
       "      <th>close</th>\n",
       "      <th>volume</th>\n",
       "    </tr>\n",
       "    <tr>\n",
       "      <th>date</th>\n",
       "      <th></th>\n",
       "      <th></th>\n",
       "      <th></th>\n",
       "    </tr>\n",
       "  </thead>\n",
       "  <tbody>\n",
       "    <tr>\n",
       "      <th>2017-07-01 11:00:00</th>\n",
       "      <td>ETHUSD</td>\n",
       "      <td>257.13</td>\n",
       "      <td>679358.87</td>\n",
       "    </tr>\n",
       "    <tr>\n",
       "      <th>2017-07-01 12:00:00</th>\n",
       "      <td>ETHUSD</td>\n",
       "      <td>263.12</td>\n",
       "      <td>824362.87</td>\n",
       "    </tr>\n",
       "    <tr>\n",
       "      <th>2017-07-01 13:00:00</th>\n",
       "      <td>ETHUSD</td>\n",
       "      <td>275.01</td>\n",
       "      <td>3010787.99</td>\n",
       "    </tr>\n",
       "    <tr>\n",
       "      <th>2017-07-01 14:00:00</th>\n",
       "      <td>ETHUSD</td>\n",
       "      <td>274.83</td>\n",
       "      <td>1702536.85</td>\n",
       "    </tr>\n",
       "    <tr>\n",
       "      <th>2017-07-01 15:00:00</th>\n",
       "      <td>ETHUSD</td>\n",
       "      <td>268.79</td>\n",
       "      <td>1500282.55</td>\n",
       "    </tr>\n",
       "    <tr>\n",
       "      <th>...</th>\n",
       "      <td>...</td>\n",
       "      <td>...</td>\n",
       "      <td>...</td>\n",
       "    </tr>\n",
       "    <tr>\n",
       "      <th>2020-03-13 16:00:00</th>\n",
       "      <td>ETHUSD</td>\n",
       "      <td>127.57</td>\n",
       "      <td>4461424.71</td>\n",
       "    </tr>\n",
       "    <tr>\n",
       "      <th>2020-03-13 17:00:00</th>\n",
       "      <td>ETHUSD</td>\n",
       "      <td>133.80</td>\n",
       "      <td>2753450.92</td>\n",
       "    </tr>\n",
       "    <tr>\n",
       "      <th>2020-03-13 18:00:00</th>\n",
       "      <td>ETHUSD</td>\n",
       "      <td>128.93</td>\n",
       "      <td>4898735.81</td>\n",
       "    </tr>\n",
       "    <tr>\n",
       "      <th>2020-03-13 19:00:00</th>\n",
       "      <td>ETHUSD</td>\n",
       "      <td>134.03</td>\n",
       "      <td>7579741.09</td>\n",
       "    </tr>\n",
       "    <tr>\n",
       "      <th>2020-03-13 20:00:00</th>\n",
       "      <td>ETHUSD</td>\n",
       "      <td>124.85</td>\n",
       "      <td>1940673.93</td>\n",
       "    </tr>\n",
       "  </tbody>\n",
       "</table>\n",
       "<p>23674 rows × 3 columns</p>\n",
       "</div>"
      ],
      "text/plain": [
       "                     symbol   close      volume\n",
       "date                                           \n",
       "2017-07-01 11:00:00  ETHUSD  257.13   679358.87\n",
       "2017-07-01 12:00:00  ETHUSD  263.12   824362.87\n",
       "2017-07-01 13:00:00  ETHUSD  275.01  3010787.99\n",
       "2017-07-01 14:00:00  ETHUSD  274.83  1702536.85\n",
       "2017-07-01 15:00:00  ETHUSD  268.79  1500282.55\n",
       "...                     ...     ...         ...\n",
       "2020-03-13 16:00:00  ETHUSD  127.57  4461424.71\n",
       "2020-03-13 17:00:00  ETHUSD  133.80  2753450.92\n",
       "2020-03-13 18:00:00  ETHUSD  128.93  4898735.81\n",
       "2020-03-13 19:00:00  ETHUSD  134.03  7579741.09\n",
       "2020-03-13 20:00:00  ETHUSD  124.85  1940673.93\n",
       "\n",
       "[23674 rows x 3 columns]"
      ]
     },
     "execution_count": 45,
     "metadata": {},
     "output_type": "execute_result"
    }
   ],
   "source": [
    "df = df.drop(columns=['weekday_name', 'weekday_number'])\n",
    "df"
   ]
  },
  {
   "cell_type": "markdown",
   "id": "1bd65598-8c10-42cd-bbc6-d6f66bac6df9",
   "metadata": {
    "tags": []
   },
   "source": [
    "### How about changing the period of our data?\n",
    "\n",
    "#### Downsampling: Reducing Frequency"
   ]
  },
  {
   "cell_type": "code",
   "execution_count": 46,
   "id": "46ad5423-d160-4f6f-a4de-f472e9f0aa35",
   "metadata": {},
   "outputs": [
    {
     "data": {
      "text/html": [
       "<div>\n",
       "<style scoped>\n",
       "    .dataframe tbody tr th:only-of-type {\n",
       "        vertical-align: middle;\n",
       "    }\n",
       "\n",
       "    .dataframe tbody tr th {\n",
       "        vertical-align: top;\n",
       "    }\n",
       "\n",
       "    .dataframe thead th {\n",
       "        text-align: right;\n",
       "    }\n",
       "</style>\n",
       "<table border=\"1\" class=\"dataframe\">\n",
       "  <thead>\n",
       "    <tr style=\"text-align: right;\">\n",
       "      <th></th>\n",
       "      <th>symbol</th>\n",
       "      <th>close</th>\n",
       "      <th>volume</th>\n",
       "    </tr>\n",
       "    <tr>\n",
       "      <th>date</th>\n",
       "      <th></th>\n",
       "      <th></th>\n",
       "      <th></th>\n",
       "    </tr>\n",
       "  </thead>\n",
       "  <tbody>\n",
       "    <tr>\n",
       "      <th>2017-07-31 11:00:00</th>\n",
       "      <td>ETHUSD</td>\n",
       "      <td>199.96</td>\n",
       "      <td>1058461.41</td>\n",
       "    </tr>\n",
       "    <tr>\n",
       "      <th>2017-08-31 11:00:00</th>\n",
       "      <td>ETHUSD</td>\n",
       "      <td>388.19</td>\n",
       "      <td>1189036.71</td>\n",
       "    </tr>\n",
       "    <tr>\n",
       "      <th>2017-09-30 11:00:00</th>\n",
       "      <td>ETHUSD</td>\n",
       "      <td>300.37</td>\n",
       "      <td>1002416.23</td>\n",
       "    </tr>\n",
       "    <tr>\n",
       "      <th>2017-10-31 11:00:00</th>\n",
       "      <td>ETHUSD</td>\n",
       "      <td>303.45</td>\n",
       "      <td>1014184.66</td>\n",
       "    </tr>\n",
       "    <tr>\n",
       "      <th>2017-11-30 11:00:00</th>\n",
       "      <td>ETHUSD</td>\n",
       "      <td>420.42</td>\n",
       "      <td>3367153.22</td>\n",
       "    </tr>\n",
       "  </tbody>\n",
       "</table>\n",
       "</div>"
      ],
      "text/plain": [
       "                     symbol   close      volume\n",
       "date                                           \n",
       "2017-07-31 11:00:00  ETHUSD  199.96  1058461.41\n",
       "2017-08-31 11:00:00  ETHUSD  388.19  1189036.71\n",
       "2017-09-30 11:00:00  ETHUSD  300.37  1002416.23\n",
       "2017-10-31 11:00:00  ETHUSD  303.45  1014184.66\n",
       "2017-11-30 11:00:00  ETHUSD  420.42  3367153.22"
      ]
     },
     "execution_count": 46,
     "metadata": {},
     "output_type": "execute_result"
    }
   ],
   "source": [
    "by_month = df.asfreq('M')\n",
    "by_month.head()"
   ]
  },
  {
   "cell_type": "code",
   "execution_count": 47,
   "id": "6bedf06c-443f-4090-95a8-5f8bfcd2c88c",
   "metadata": {},
   "outputs": [
    {
     "data": {
      "text/plain": [
       "<AxesSubplot:xlabel='date'>"
      ]
     },
     "execution_count": 47,
     "metadata": {},
     "output_type": "execute_result"
    },
    {
     "data": {
      "image/png": "[encoded data removed]",
      "text/plain": [
       "<Figure size 1152x648 with 1 Axes>"
      ]
     },
     "metadata": {
      "needs_background": "light"
     },
     "output_type": "display_data"
    }
   ],
   "source": [
    "by_month.close.plot()"
   ]
  },
  {
   "cell_type": "markdown",
   "id": "56a889a7-23ad-4fed-b4d6-975cb41c715f",
   "metadata": {},
   "source": [
    "##### What if I want the first day of the month?\n",
    "\n",
    "[Pandas asfreq Offset Aliases](https://pandas.pydata.org/pandas-docs/stable/user_guide/timeseries.html#offset-aliases)\n",
    "\n",
    "[Pandas asfreq Anchored Offsets](https://pandas.pydata.org/pandas-docs/stable/user_guide/timeseries.html#anchored-offsets)"
   ]
  },
  {
   "cell_type": "code",
   "execution_count": 48,
   "id": "28b0ab37-21cb-4162-89be-403dfda9a6db",
   "metadata": {},
   "outputs": [
    {
     "data": {
      "text/html": [
       "<div>\n",
       "<style scoped>\n",
       "    .dataframe tbody tr th:only-of-type {\n",
       "        vertical-align: middle;\n",
       "    }\n",
       "\n",
       "    .dataframe tbody tr th {\n",
       "        vertical-align: top;\n",
       "    }\n",
       "\n",
       "    .dataframe thead th {\n",
       "        text-align: right;\n",
       "    }\n",
       "</style>\n",
       "<table border=\"1\" class=\"dataframe\">\n",
       "  <thead>\n",
       "    <tr style=\"text-align: right;\">\n",
       "      <th></th>\n",
       "      <th>symbol</th>\n",
       "      <th>close</th>\n",
       "      <th>volume</th>\n",
       "    </tr>\n",
       "    <tr>\n",
       "      <th>date</th>\n",
       "      <th></th>\n",
       "      <th></th>\n",
       "      <th></th>\n",
       "    </tr>\n",
       "  </thead>\n",
       "  <tbody>\n",
       "    <tr>\n",
       "      <th>2017-07-01 11:00:00</th>\n",
       "      <td>ETHUSD</td>\n",
       "      <td>257.13</td>\n",
       "      <td>679358.87</td>\n",
       "    </tr>\n",
       "    <tr>\n",
       "      <th>2017-08-01 11:00:00</th>\n",
       "      <td>ETHUSD</td>\n",
       "      <td>228.84</td>\n",
       "      <td>2302367.30</td>\n",
       "    </tr>\n",
       "    <tr>\n",
       "      <th>2017-09-01 11:00:00</th>\n",
       "      <td>ETHUSD</td>\n",
       "      <td>391.83</td>\n",
       "      <td>1649221.80</td>\n",
       "    </tr>\n",
       "    <tr>\n",
       "      <th>2017-10-01 11:00:00</th>\n",
       "      <td>ETHUSD</td>\n",
       "      <td>300.76</td>\n",
       "      <td>502473.87</td>\n",
       "    </tr>\n",
       "    <tr>\n",
       "      <th>2017-11-01 11:00:00</th>\n",
       "      <td>ETHUSD</td>\n",
       "      <td>289.15</td>\n",
       "      <td>1304555.01</td>\n",
       "    </tr>\n",
       "  </tbody>\n",
       "</table>\n",
       "</div>"
      ],
      "text/plain": [
       "                     symbol   close      volume\n",
       "date                                           \n",
       "2017-07-01 11:00:00  ETHUSD  257.13   679358.87\n",
       "2017-08-01 11:00:00  ETHUSD  228.84  2302367.30\n",
       "2017-09-01 11:00:00  ETHUSD  391.83  1649221.80\n",
       "2017-10-01 11:00:00  ETHUSD  300.76   502473.87\n",
       "2017-11-01 11:00:00  ETHUSD  289.15  1304555.01"
      ]
     },
     "execution_count": 48,
     "metadata": {},
     "output_type": "execute_result"
    }
   ],
   "source": [
    "by_month_first_day = df.asfreq('MS')\n",
    "by_month_first_day.head()"
   ]
  },
  {
   "cell_type": "code",
   "execution_count": 49,
   "id": "2309cc35-8689-47ca-8ca8-5d4cf5fd0511",
   "metadata": {},
   "outputs": [
    {
     "data": {
      "image/png": "[encoded data removed]",
      "text/plain": [
       "<Figure size 1152x648 with 1 Axes>"
      ]
     },
     "metadata": {
      "needs_background": "light"
     },
     "output_type": "display_data"
    }
   ],
   "source": [
    "by_month.close.plot(label='Last Day of Month Frequency')\n",
    "by_month_first_day.close.plot(label='First Day of Month Frequency')\n",
    "plt.legend()\n",
    "plt.show()"
   ]
  },
  {
   "cell_type": "markdown",
   "id": "3b9c6837-fbe8-45e8-a040-4b633427035d",
   "metadata": {},
   "source": [
    "#### Upsampling: Increasing Frequency"
   ]
  },
  {
   "cell_type": "code",
   "execution_count": 50,
   "id": "ddc1ef5e-f33d-4907-b209-f77e3fb51aab",
   "metadata": {},
   "outputs": [
    {
     "data": {
      "text/html": [
       "<div>\n",
       "<style scoped>\n",
       "    .dataframe tbody tr th:only-of-type {\n",
       "        vertical-align: middle;\n",
       "    }\n",
       "\n",
       "    .dataframe tbody tr th {\n",
       "        vertical-align: top;\n",
       "    }\n",
       "\n",
       "    .dataframe thead th {\n",
       "        text-align: right;\n",
       "    }\n",
       "</style>\n",
       "<table border=\"1\" class=\"dataframe\">\n",
       "  <thead>\n",
       "    <tr style=\"text-align: right;\">\n",
       "      <th></th>\n",
       "      <th>symbol</th>\n",
       "      <th>close</th>\n",
       "      <th>volume</th>\n",
       "    </tr>\n",
       "    <tr>\n",
       "      <th>date</th>\n",
       "      <th></th>\n",
       "      <th></th>\n",
       "      <th></th>\n",
       "    </tr>\n",
       "  </thead>\n",
       "  <tbody>\n",
       "    <tr>\n",
       "      <th>2017-07-01 11:00:00</th>\n",
       "      <td>ETHUSD</td>\n",
       "      <td>257.13</td>\n",
       "      <td>679358.87</td>\n",
       "    </tr>\n",
       "    <tr>\n",
       "      <th>2017-07-01 11:30:00</th>\n",
       "      <td>NaN</td>\n",
       "      <td>NaN</td>\n",
       "      <td>NaN</td>\n",
       "    </tr>\n",
       "    <tr>\n",
       "      <th>2017-07-01 12:00:00</th>\n",
       "      <td>ETHUSD</td>\n",
       "      <td>263.12</td>\n",
       "      <td>824362.87</td>\n",
       "    </tr>\n",
       "    <tr>\n",
       "      <th>2017-07-01 12:30:00</th>\n",
       "      <td>NaN</td>\n",
       "      <td>NaN</td>\n",
       "      <td>NaN</td>\n",
       "    </tr>\n",
       "    <tr>\n",
       "      <th>2017-07-01 13:00:00</th>\n",
       "      <td>ETHUSD</td>\n",
       "      <td>275.01</td>\n",
       "      <td>3010787.99</td>\n",
       "    </tr>\n",
       "    <tr>\n",
       "      <th>2017-07-01 13:30:00</th>\n",
       "      <td>NaN</td>\n",
       "      <td>NaN</td>\n",
       "      <td>NaN</td>\n",
       "    </tr>\n",
       "    <tr>\n",
       "      <th>2017-07-01 14:00:00</th>\n",
       "      <td>ETHUSD</td>\n",
       "      <td>274.83</td>\n",
       "      <td>1702536.85</td>\n",
       "    </tr>\n",
       "    <tr>\n",
       "      <th>2017-07-01 14:30:00</th>\n",
       "      <td>NaN</td>\n",
       "      <td>NaN</td>\n",
       "      <td>NaN</td>\n",
       "    </tr>\n",
       "    <tr>\n",
       "      <th>2017-07-01 15:00:00</th>\n",
       "      <td>ETHUSD</td>\n",
       "      <td>268.79</td>\n",
       "      <td>1500282.55</td>\n",
       "    </tr>\n",
       "    <tr>\n",
       "      <th>2017-07-01 15:30:00</th>\n",
       "      <td>NaN</td>\n",
       "      <td>NaN</td>\n",
       "      <td>NaN</td>\n",
       "    </tr>\n",
       "  </tbody>\n",
       "</table>\n",
       "</div>"
      ],
      "text/plain": [
       "                     symbol   close      volume\n",
       "date                                           \n",
       "2017-07-01 11:00:00  ETHUSD  257.13   679358.87\n",
       "2017-07-01 11:30:00     NaN     NaN         NaN\n",
       "2017-07-01 12:00:00  ETHUSD  263.12   824362.87\n",
       "2017-07-01 12:30:00     NaN     NaN         NaN\n",
       "2017-07-01 13:00:00  ETHUSD  275.01  3010787.99\n",
       "2017-07-01 13:30:00     NaN     NaN         NaN\n",
       "2017-07-01 14:00:00  ETHUSD  274.83  1702536.85\n",
       "2017-07-01 14:30:00     NaN     NaN         NaN\n",
       "2017-07-01 15:00:00  ETHUSD  268.79  1500282.55\n",
       "2017-07-01 15:30:00     NaN     NaN         NaN"
      ]
     },
     "execution_count": 50,
     "metadata": {},
     "output_type": "execute_result"
    }
   ],
   "source": [
    "by_half_hour = df.asfreq('30T')\n",
    "by_half_hour.head(10)"
   ]
  },
  {
   "cell_type": "markdown",
   "id": "03ed746d-958f-402f-82e2-60074dcafa8a",
   "metadata": {},
   "source": [
    "#### As freq allows us to fill in the NaNs with two different methods"
   ]
  },
  {
   "cell_type": "code",
   "execution_count": 51,
   "id": "16c860f9-23c1-4dc8-856c-b602d36be433",
   "metadata": {},
   "outputs": [
    {
     "data": {
      "text/html": [
       "<div>\n",
       "<style scoped>\n",
       "    .dataframe tbody tr th:only-of-type {\n",
       "        vertical-align: middle;\n",
       "    }\n",
       "\n",
       "    .dataframe tbody tr th {\n",
       "        vertical-align: top;\n",
       "    }\n",
       "\n",
       "    .dataframe thead th {\n",
       "        text-align: right;\n",
       "    }\n",
       "</style>\n",
       "<table border=\"1\" class=\"dataframe\">\n",
       "  <thead>\n",
       "    <tr style=\"text-align: right;\">\n",
       "      <th></th>\n",
       "      <th>symbol</th>\n",
       "      <th>close</th>\n",
       "      <th>volume</th>\n",
       "      <th>ffill</th>\n",
       "      <th>bfill</th>\n",
       "    </tr>\n",
       "    <tr>\n",
       "      <th>date</th>\n",
       "      <th></th>\n",
       "      <th></th>\n",
       "      <th></th>\n",
       "      <th></th>\n",
       "      <th></th>\n",
       "    </tr>\n",
       "  </thead>\n",
       "  <tbody>\n",
       "    <tr>\n",
       "      <th>2017-07-01 11:00:00</th>\n",
       "      <td>ETHUSD</td>\n",
       "      <td>257.13</td>\n",
       "      <td>679358.87</td>\n",
       "      <td>679358.87</td>\n",
       "      <td>679358.87</td>\n",
       "    </tr>\n",
       "    <tr>\n",
       "      <th>2017-07-01 11:30:00</th>\n",
       "      <td>NaN</td>\n",
       "      <td>NaN</td>\n",
       "      <td>NaN</td>\n",
       "      <td>679358.87</td>\n",
       "      <td>824362.87</td>\n",
       "    </tr>\n",
       "    <tr>\n",
       "      <th>2017-07-01 12:00:00</th>\n",
       "      <td>ETHUSD</td>\n",
       "      <td>263.12</td>\n",
       "      <td>824362.87</td>\n",
       "      <td>824362.87</td>\n",
       "      <td>824362.87</td>\n",
       "    </tr>\n",
       "    <tr>\n",
       "      <th>2017-07-01 12:30:00</th>\n",
       "      <td>NaN</td>\n",
       "      <td>NaN</td>\n",
       "      <td>NaN</td>\n",
       "      <td>824362.87</td>\n",
       "      <td>3010787.99</td>\n",
       "    </tr>\n",
       "    <tr>\n",
       "      <th>2017-07-01 13:00:00</th>\n",
       "      <td>ETHUSD</td>\n",
       "      <td>275.01</td>\n",
       "      <td>3010787.99</td>\n",
       "      <td>3010787.99</td>\n",
       "      <td>3010787.99</td>\n",
       "    </tr>\n",
       "  </tbody>\n",
       "</table>\n",
       "</div>"
      ],
      "text/plain": [
       "                     symbol   close      volume       ffill       bfill\n",
       "date                                                                   \n",
       "2017-07-01 11:00:00  ETHUSD  257.13   679358.87   679358.87   679358.87\n",
       "2017-07-01 11:30:00     NaN     NaN         NaN   679358.87   824362.87\n",
       "2017-07-01 12:00:00  ETHUSD  263.12   824362.87   824362.87   824362.87\n",
       "2017-07-01 12:30:00     NaN     NaN         NaN   824362.87  3010787.99\n",
       "2017-07-01 13:00:00  ETHUSD  275.01  3010787.99  3010787.99  3010787.99"
      ]
     },
     "execution_count": 51,
     "metadata": {},
     "output_type": "execute_result"
    }
   ],
   "source": [
    "by_half_hour.assign(\n",
    "    ffill=lambda df: df.volume.ffill(),\n",
    "    bfill=lambda df: df.volume.bfill()\n",
    ").head()"
   ]
  },
  {
   "cell_type": "code",
   "execution_count": 52,
   "id": "1153d493-1dad-49d7-9191-8c1f7cf0ba63",
   "metadata": {},
   "outputs": [
    {
     "data": {
      "text/html": [
       "<div>\n",
       "<style scoped>\n",
       "    .dataframe tbody tr th:only-of-type {\n",
       "        vertical-align: middle;\n",
       "    }\n",
       "\n",
       "    .dataframe tbody tr th {\n",
       "        vertical-align: top;\n",
       "    }\n",
       "\n",
       "    .dataframe thead th {\n",
       "        text-align: right;\n",
       "    }\n",
       "</style>\n",
       "<table border=\"1\" class=\"dataframe\">\n",
       "  <thead>\n",
       "    <tr style=\"text-align: right;\">\n",
       "      <th></th>\n",
       "      <th>symbol</th>\n",
       "      <th>close</th>\n",
       "      <th>volume</th>\n",
       "    </tr>\n",
       "    <tr>\n",
       "      <th>date</th>\n",
       "      <th></th>\n",
       "      <th></th>\n",
       "      <th></th>\n",
       "    </tr>\n",
       "  </thead>\n",
       "  <tbody>\n",
       "    <tr>\n",
       "      <th>2017-07-01 11:00:00</th>\n",
       "      <td>ETHUSD</td>\n",
       "      <td>257.13</td>\n",
       "      <td>679358.87</td>\n",
       "    </tr>\n",
       "    <tr>\n",
       "      <th>2017-07-01 11:30:00</th>\n",
       "      <td>ETHUSD</td>\n",
       "      <td>257.13</td>\n",
       "      <td>679358.87</td>\n",
       "    </tr>\n",
       "    <tr>\n",
       "      <th>2017-07-01 12:00:00</th>\n",
       "      <td>ETHUSD</td>\n",
       "      <td>263.12</td>\n",
       "      <td>824362.87</td>\n",
       "    </tr>\n",
       "    <tr>\n",
       "      <th>2017-07-01 12:30:00</th>\n",
       "      <td>ETHUSD</td>\n",
       "      <td>263.12</td>\n",
       "      <td>824362.87</td>\n",
       "    </tr>\n",
       "    <tr>\n",
       "      <th>2017-07-01 13:00:00</th>\n",
       "      <td>ETHUSD</td>\n",
       "      <td>275.01</td>\n",
       "      <td>3010787.99</td>\n",
       "    </tr>\n",
       "  </tbody>\n",
       "</table>\n",
       "</div>"
      ],
      "text/plain": [
       "                     symbol   close      volume\n",
       "date                                           \n",
       "2017-07-01 11:00:00  ETHUSD  257.13   679358.87\n",
       "2017-07-01 11:30:00  ETHUSD  257.13   679358.87\n",
       "2017-07-01 12:00:00  ETHUSD  263.12   824362.87\n",
       "2017-07-01 12:30:00  ETHUSD  263.12   824362.87\n",
       "2017-07-01 13:00:00  ETHUSD  275.01  3010787.99"
      ]
     },
     "execution_count": 52,
     "metadata": {},
     "output_type": "execute_result"
    }
   ],
   "source": [
    "by_half_hour = df.asfreq('30T', method='ffill')\n",
    "by_half_hour.head()"
   ]
  },
  {
   "cell_type": "markdown",
   "id": "920e4029-5a14-4155-aa4f-d62d47ad0858",
   "metadata": {},
   "source": [
    "### What about Resampling (Aggregating over time)\n",
    "   \n",
    "    * This is similiar to groupby but for dates"
   ]
  },
  {
   "cell_type": "code",
   "execution_count": 53,
   "id": "bcca4f64-208c-49a3-a06a-02ceb89b5229",
   "metadata": {},
   "outputs": [
    {
     "data": {
      "text/html": [
       "<div>\n",
       "<style scoped>\n",
       "    .dataframe tbody tr th:only-of-type {\n",
       "        vertical-align: middle;\n",
       "    }\n",
       "\n",
       "    .dataframe tbody tr th {\n",
       "        vertical-align: top;\n",
       "    }\n",
       "\n",
       "    .dataframe thead th {\n",
       "        text-align: right;\n",
       "    }\n",
       "</style>\n",
       "<table border=\"1\" class=\"dataframe\">\n",
       "  <thead>\n",
       "    <tr style=\"text-align: right;\">\n",
       "      <th></th>\n",
       "      <th>close</th>\n",
       "      <th>volume</th>\n",
       "    </tr>\n",
       "    <tr>\n",
       "      <th>date</th>\n",
       "      <th></th>\n",
       "      <th></th>\n",
       "    </tr>\n",
       "  </thead>\n",
       "  <tbody>\n",
       "    <tr>\n",
       "      <th>2017-07-01</th>\n",
       "      <td>265.284615</td>\n",
       "      <td>2.198771e+06</td>\n",
       "    </tr>\n",
       "    <tr>\n",
       "      <th>2017-07-02</th>\n",
       "      <td>269.782500</td>\n",
       "      <td>2.177595e+06</td>\n",
       "    </tr>\n",
       "    <tr>\n",
       "      <th>2017-07-03</th>\n",
       "      <td>278.882083</td>\n",
       "      <td>1.459015e+06</td>\n",
       "    </tr>\n",
       "    <tr>\n",
       "      <th>2017-07-04</th>\n",
       "      <td>276.743333</td>\n",
       "      <td>1.254579e+06</td>\n",
       "    </tr>\n",
       "    <tr>\n",
       "      <th>2017-07-05</th>\n",
       "      <td>265.025833</td>\n",
       "      <td>1.797923e+06</td>\n",
       "    </tr>\n",
       "    <tr>\n",
       "      <th>...</th>\n",
       "      <td>...</td>\n",
       "      <td>...</td>\n",
       "    </tr>\n",
       "    <tr>\n",
       "      <th>2020-03-09</th>\n",
       "      <td>200.818333</td>\n",
       "      <td>3.804752e+06</td>\n",
       "    </tr>\n",
       "    <tr>\n",
       "      <th>2020-03-10</th>\n",
       "      <td>201.577500</td>\n",
       "      <td>1.553063e+06</td>\n",
       "    </tr>\n",
       "    <tr>\n",
       "      <th>2020-03-11</th>\n",
       "      <td>195.910417</td>\n",
       "      <td>1.894868e+06</td>\n",
       "    </tr>\n",
       "    <tr>\n",
       "      <th>2020-03-12</th>\n",
       "      <td>152.763333</td>\n",
       "      <td>7.503069e+06</td>\n",
       "    </tr>\n",
       "    <tr>\n",
       "      <th>2020-03-13</th>\n",
       "      <td>124.060476</td>\n",
       "      <td>6.869609e+06</td>\n",
       "    </tr>\n",
       "  </tbody>\n",
       "</table>\n",
       "<p>987 rows × 2 columns</p>\n",
       "</div>"
      ],
      "text/plain": [
       "                 close        volume\n",
       "date                                \n",
       "2017-07-01  265.284615  2.198771e+06\n",
       "2017-07-02  269.782500  2.177595e+06\n",
       "2017-07-03  278.882083  1.459015e+06\n",
       "2017-07-04  276.743333  1.254579e+06\n",
       "2017-07-05  265.025833  1.797923e+06\n",
       "...                ...           ...\n",
       "2020-03-09  200.818333  3.804752e+06\n",
       "2020-03-10  201.577500  1.553063e+06\n",
       "2020-03-11  195.910417  1.894868e+06\n",
       "2020-03-12  152.763333  7.503069e+06\n",
       "2020-03-13  124.060476  6.869609e+06\n",
       "\n",
       "[987 rows x 2 columns]"
      ]
     },
     "execution_count": 53,
     "metadata": {},
     "output_type": "execute_result"
    }
   ],
   "source": [
    "daily_df = df.resample('D').mean()\n",
    "daily_df"
   ]
  },
  {
   "cell_type": "code",
   "execution_count": 54,
   "id": "5e894333-c907-4714-aba9-0aa854e0d76a",
   "metadata": {},
   "outputs": [
    {
     "data": {
      "image/png": "[encoded data removed]",
      "text/plain": [
       "<Figure size 1152x648 with 1 Axes>"
      ]
     },
     "metadata": {
      "needs_background": "light"
     },
     "output_type": "display_data"
    }
   ],
   "source": [
    "daily_df.close.plot(label='Daily')\n",
    "df.resample('W').mean().close.plot(label='Weekly')\n",
    "df.resample('M').mean().close.plot(label='Monthly')\n",
    "df.resample('Y').mean().close.plot(label='Yearly')\n",
    "plt.legend()\n",
    "plt.show()"
   ]
  },
  {
   "cell_type": "markdown",
   "id": "afca605e-f037-4ae1-970a-d296e76fa487",
   "metadata": {},
   "source": [
    "### Rolling Average/Windows"
   ]
  },
  {
   "cell_type": "code",
   "execution_count": 55,
   "id": "8cf862a2-8d61-44e9-9c51-9be74d172f06",
   "metadata": {},
   "outputs": [
    {
     "data": {
      "text/html": [
       "<div>\n",
       "<style scoped>\n",
       "    .dataframe tbody tr th:only-of-type {\n",
       "        vertical-align: middle;\n",
       "    }\n",
       "\n",
       "    .dataframe tbody tr th {\n",
       "        vertical-align: top;\n",
       "    }\n",
       "\n",
       "    .dataframe thead th {\n",
       "        text-align: right;\n",
       "    }\n",
       "</style>\n",
       "<table border=\"1\" class=\"dataframe\">\n",
       "  <thead>\n",
       "    <tr style=\"text-align: right;\">\n",
       "      <th></th>\n",
       "      <th>close</th>\n",
       "      <th>volume</th>\n",
       "    </tr>\n",
       "    <tr>\n",
       "      <th>date</th>\n",
       "      <th></th>\n",
       "      <th></th>\n",
       "    </tr>\n",
       "  </thead>\n",
       "  <tbody>\n",
       "    <tr>\n",
       "      <th>2017-07-01</th>\n",
       "      <td>NaN</td>\n",
       "      <td>NaN</td>\n",
       "    </tr>\n",
       "    <tr>\n",
       "      <th>2017-07-02</th>\n",
       "      <td>NaN</td>\n",
       "      <td>NaN</td>\n",
       "    </tr>\n",
       "    <tr>\n",
       "      <th>2017-07-03</th>\n",
       "      <td>NaN</td>\n",
       "      <td>NaN</td>\n",
       "    </tr>\n",
       "    <tr>\n",
       "      <th>2017-07-04</th>\n",
       "      <td>NaN</td>\n",
       "      <td>NaN</td>\n",
       "    </tr>\n",
       "    <tr>\n",
       "      <th>2017-07-05</th>\n",
       "      <td>271.143673</td>\n",
       "      <td>1.777577e+06</td>\n",
       "    </tr>\n",
       "    <tr>\n",
       "      <th>2017-07-06</th>\n",
       "      <td>271.382750</td>\n",
       "      <td>1.530363e+06</td>\n",
       "    </tr>\n",
       "    <tr>\n",
       "      <th>2017-07-07</th>\n",
       "      <td>268.214667</td>\n",
       "      <td>1.455141e+06</td>\n",
       "    </tr>\n",
       "    <tr>\n",
       "      <th>2017-07-08</th>\n",
       "      <td>260.747833</td>\n",
       "      <td>1.434597e+06</td>\n",
       "    </tr>\n",
       "    <tr>\n",
       "      <th>2017-07-09</th>\n",
       "      <td>254.361833</td>\n",
       "      <td>1.329570e+06</td>\n",
       "    </tr>\n",
       "    <tr>\n",
       "      <th>2017-07-10</th>\n",
       "      <td>246.440417</td>\n",
       "      <td>1.666613e+06</td>\n",
       "    </tr>\n",
       "  </tbody>\n",
       "</table>\n",
       "</div>"
      ],
      "text/plain": [
       "                 close        volume\n",
       "date                                \n",
       "2017-07-01         NaN           NaN\n",
       "2017-07-02         NaN           NaN\n",
       "2017-07-03         NaN           NaN\n",
       "2017-07-04         NaN           NaN\n",
       "2017-07-05  271.143673  1.777577e+06\n",
       "2017-07-06  271.382750  1.530363e+06\n",
       "2017-07-07  268.214667  1.455141e+06\n",
       "2017-07-08  260.747833  1.434597e+06\n",
       "2017-07-09  254.361833  1.329570e+06\n",
       "2017-07-10  246.440417  1.666613e+06"
      ]
     },
     "execution_count": 55,
     "metadata": {},
     "output_type": "execute_result"
    }
   ],
   "source": [
    "daily_df.rolling(5).mean().head(10)"
   ]
  },
  {
   "cell_type": "code",
   "execution_count": 56,
   "id": "5ce9e049-e43a-43fa-b2b5-a5b14d2c3f4a",
   "metadata": {},
   "outputs": [
    {
     "data": {
      "image/png": "[encoded data removed]",
      "text/plain": [
       "<Figure size 1152x648 with 1 Axes>"
      ]
     },
     "metadata": {
      "needs_background": "light"
     },
     "output_type": "display_data"
    }
   ],
   "source": [
    "df.close.plot(label='Original Granularity')\n",
    "df.resample('W').mean().close.rolling(4).mean().plot(label='4 week average')\n",
    "df.resample('W').mean().close.rolling(12).mean().plot(label='12 week average')\n",
    "plt.legend()\n",
    "plt.show()"
   ]
  },
  {
   "cell_type": "markdown",
   "id": "fa747f5c-6812-4989-a0fc-b916b439e91d",
   "metadata": {},
   "source": [
    "### How about Lagging or Leading the data?\n",
    "\n",
    "* `.shift`: move the data backwards and forwards by a given amount\n",
    "* `.diff`: find the difference with the previous observation (or a specified further back observation)"
   ]
  },
  {
   "cell_type": "code",
   "execution_count": 57,
   "id": "1da6242a-6fd1-4bbf-adcc-a23de23d6d17",
   "metadata": {},
   "outputs": [
    {
     "data": {
      "text/html": [
       "<div>\n",
       "<style scoped>\n",
       "    .dataframe tbody tr th:only-of-type {\n",
       "        vertical-align: middle;\n",
       "    }\n",
       "\n",
       "    .dataframe tbody tr th {\n",
       "        vertical-align: top;\n",
       "    }\n",
       "\n",
       "    .dataframe thead th {\n",
       "        text-align: right;\n",
       "    }\n",
       "</style>\n",
       "<table border=\"1\" class=\"dataframe\">\n",
       "  <thead>\n",
       "    <tr style=\"text-align: right;\">\n",
       "      <th></th>\n",
       "      <th>volume</th>\n",
       "      <th>close</th>\n",
       "    </tr>\n",
       "    <tr>\n",
       "      <th>date</th>\n",
       "      <th></th>\n",
       "      <th></th>\n",
       "    </tr>\n",
       "  </thead>\n",
       "  <tbody>\n",
       "    <tr>\n",
       "      <th>2017-07-01</th>\n",
       "      <td>2.198771e+06</td>\n",
       "      <td>265.284615</td>\n",
       "    </tr>\n",
       "    <tr>\n",
       "      <th>2017-07-02</th>\n",
       "      <td>2.177595e+06</td>\n",
       "      <td>269.782500</td>\n",
       "    </tr>\n",
       "    <tr>\n",
       "      <th>2017-07-03</th>\n",
       "      <td>1.459015e+06</td>\n",
       "      <td>278.882083</td>\n",
       "    </tr>\n",
       "    <tr>\n",
       "      <th>2017-07-04</th>\n",
       "      <td>1.254579e+06</td>\n",
       "      <td>276.743333</td>\n",
       "    </tr>\n",
       "    <tr>\n",
       "      <th>2017-07-05</th>\n",
       "      <td>1.797923e+06</td>\n",
       "      <td>265.025833</td>\n",
       "    </tr>\n",
       "    <tr>\n",
       "      <th>...</th>\n",
       "      <td>...</td>\n",
       "      <td>...</td>\n",
       "    </tr>\n",
       "    <tr>\n",
       "      <th>2020-03-09</th>\n",
       "      <td>3.804752e+06</td>\n",
       "      <td>200.818333</td>\n",
       "    </tr>\n",
       "    <tr>\n",
       "      <th>2020-03-10</th>\n",
       "      <td>1.553063e+06</td>\n",
       "      <td>201.577500</td>\n",
       "    </tr>\n",
       "    <tr>\n",
       "      <th>2020-03-11</th>\n",
       "      <td>1.894868e+06</td>\n",
       "      <td>195.910417</td>\n",
       "    </tr>\n",
       "    <tr>\n",
       "      <th>2020-03-12</th>\n",
       "      <td>7.503069e+06</td>\n",
       "      <td>152.763333</td>\n",
       "    </tr>\n",
       "    <tr>\n",
       "      <th>2020-03-13</th>\n",
       "      <td>6.869609e+06</td>\n",
       "      <td>124.060476</td>\n",
       "    </tr>\n",
       "  </tbody>\n",
       "</table>\n",
       "<p>987 rows × 2 columns</p>\n",
       "</div>"
      ],
      "text/plain": [
       "                  volume       close\n",
       "date                                \n",
       "2017-07-01  2.198771e+06  265.284615\n",
       "2017-07-02  2.177595e+06  269.782500\n",
       "2017-07-03  1.459015e+06  278.882083\n",
       "2017-07-04  1.254579e+06  276.743333\n",
       "2017-07-05  1.797923e+06  265.025833\n",
       "...                  ...         ...\n",
       "2020-03-09  3.804752e+06  200.818333\n",
       "2020-03-10  1.553063e+06  201.577500\n",
       "2020-03-11  1.894868e+06  195.910417\n",
       "2020-03-12  7.503069e+06  152.763333\n",
       "2020-03-13  6.869609e+06  124.060476\n",
       "\n",
       "[987 rows x 2 columns]"
      ]
     },
     "execution_count": 57,
     "metadata": {},
     "output_type": "execute_result"
    }
   ],
   "source": [
    "daily_df = daily_df[['volume', 'close']]\n",
    "daily_df"
   ]
  },
  {
   "cell_type": "code",
   "execution_count": 58,
   "id": "832829da-3801-41d8-a8fc-7469cdd136b1",
   "metadata": {},
   "outputs": [
    {
     "data": {
      "text/html": [
       "<div>\n",
       "<style scoped>\n",
       "    .dataframe tbody tr th:only-of-type {\n",
       "        vertical-align: middle;\n",
       "    }\n",
       "\n",
       "    .dataframe tbody tr th {\n",
       "        vertical-align: top;\n",
       "    }\n",
       "\n",
       "    .dataframe thead th {\n",
       "        text-align: right;\n",
       "    }\n",
       "</style>\n",
       "<table border=\"1\" class=\"dataframe\">\n",
       "  <thead>\n",
       "    <tr style=\"text-align: right;\">\n",
       "      <th></th>\n",
       "      <th>volume</th>\n",
       "      <th>close</th>\n",
       "      <th>shift_by_one</th>\n",
       "    </tr>\n",
       "    <tr>\n",
       "      <th>date</th>\n",
       "      <th></th>\n",
       "      <th></th>\n",
       "      <th></th>\n",
       "    </tr>\n",
       "  </thead>\n",
       "  <tbody>\n",
       "    <tr>\n",
       "      <th>2017-07-01</th>\n",
       "      <td>2.198771e+06</td>\n",
       "      <td>265.284615</td>\n",
       "      <td>NaN</td>\n",
       "    </tr>\n",
       "    <tr>\n",
       "      <th>2017-07-02</th>\n",
       "      <td>2.177595e+06</td>\n",
       "      <td>269.782500</td>\n",
       "      <td>265.284615</td>\n",
       "    </tr>\n",
       "    <tr>\n",
       "      <th>2017-07-03</th>\n",
       "      <td>1.459015e+06</td>\n",
       "      <td>278.882083</td>\n",
       "      <td>269.782500</td>\n",
       "    </tr>\n",
       "    <tr>\n",
       "      <th>2017-07-04</th>\n",
       "      <td>1.254579e+06</td>\n",
       "      <td>276.743333</td>\n",
       "      <td>278.882083</td>\n",
       "    </tr>\n",
       "    <tr>\n",
       "      <th>2017-07-05</th>\n",
       "      <td>1.797923e+06</td>\n",
       "      <td>265.025833</td>\n",
       "      <td>276.743333</td>\n",
       "    </tr>\n",
       "    <tr>\n",
       "      <th>...</th>\n",
       "      <td>...</td>\n",
       "      <td>...</td>\n",
       "      <td>...</td>\n",
       "    </tr>\n",
       "    <tr>\n",
       "      <th>2020-03-09</th>\n",
       "      <td>3.804752e+06</td>\n",
       "      <td>200.818333</td>\n",
       "      <td>222.555000</td>\n",
       "    </tr>\n",
       "    <tr>\n",
       "      <th>2020-03-10</th>\n",
       "      <td>1.553063e+06</td>\n",
       "      <td>201.577500</td>\n",
       "      <td>200.818333</td>\n",
       "    </tr>\n",
       "    <tr>\n",
       "      <th>2020-03-11</th>\n",
       "      <td>1.894868e+06</td>\n",
       "      <td>195.910417</td>\n",
       "      <td>201.577500</td>\n",
       "    </tr>\n",
       "    <tr>\n",
       "      <th>2020-03-12</th>\n",
       "      <td>7.503069e+06</td>\n",
       "      <td>152.763333</td>\n",
       "      <td>195.910417</td>\n",
       "    </tr>\n",
       "    <tr>\n",
       "      <th>2020-03-13</th>\n",
       "      <td>6.869609e+06</td>\n",
       "      <td>124.060476</td>\n",
       "      <td>152.763333</td>\n",
       "    </tr>\n",
       "  </tbody>\n",
       "</table>\n",
       "<p>987 rows × 3 columns</p>\n",
       "</div>"
      ],
      "text/plain": [
       "                  volume       close  shift_by_one\n",
       "date                                              \n",
       "2017-07-01  2.198771e+06  265.284615           NaN\n",
       "2017-07-02  2.177595e+06  269.782500    265.284615\n",
       "2017-07-03  1.459015e+06  278.882083    269.782500\n",
       "2017-07-04  1.254579e+06  276.743333    278.882083\n",
       "2017-07-05  1.797923e+06  265.025833    276.743333\n",
       "...                  ...         ...           ...\n",
       "2020-03-09  3.804752e+06  200.818333    222.555000\n",
       "2020-03-10  1.553063e+06  201.577500    200.818333\n",
       "2020-03-11  1.894868e+06  195.910417    201.577500\n",
       "2020-03-12  7.503069e+06  152.763333    195.910417\n",
       "2020-03-13  6.869609e+06  124.060476    152.763333\n",
       "\n",
       "[987 rows x 3 columns]"
      ]
     },
     "execution_count": 58,
     "metadata": {},
     "output_type": "execute_result"
    }
   ],
   "source": [
    "daily_df['shift_by_one'] = daily_df.close.shift(1)\n",
    "daily_df"
   ]
  },
  {
   "cell_type": "code",
   "execution_count": 59,
   "id": "98e1f3fd-86b2-4a97-8cf4-84ec6b536d87",
   "metadata": {},
   "outputs": [
    {
     "data": {
      "text/plain": [
       "date\n",
       "2017-07-01    269.782500\n",
       "2017-07-02    278.882083\n",
       "2017-07-03    276.743333\n",
       "2017-07-04    265.025833\n",
       "2017-07-05    266.480000\n",
       "                 ...    \n",
       "2020-03-09    201.577500\n",
       "2020-03-10    195.910417\n",
       "2020-03-11    152.763333\n",
       "2020-03-12    124.060476\n",
       "2020-03-13           NaN\n",
       "Freq: D, Name: close, Length: 987, dtype: float64"
      ]
     },
     "execution_count": 59,
     "metadata": {},
     "output_type": "execute_result"
    }
   ],
   "source": [
    "daily_df.close.shift(-1)"
   ]
  },
  {
   "cell_type": "code",
   "execution_count": 60,
   "id": "4aadd21a-1904-43b7-a5c4-fe33d95cd1e5",
   "metadata": {},
   "outputs": [
    {
     "data": {
      "text/html": [
       "<div>\n",
       "<style scoped>\n",
       "    .dataframe tbody tr th:only-of-type {\n",
       "        vertical-align: middle;\n",
       "    }\n",
       "\n",
       "    .dataframe tbody tr th {\n",
       "        vertical-align: top;\n",
       "    }\n",
       "\n",
       "    .dataframe thead th {\n",
       "        text-align: right;\n",
       "    }\n",
       "</style>\n",
       "<table border=\"1\" class=\"dataframe\">\n",
       "  <thead>\n",
       "    <tr style=\"text-align: right;\">\n",
       "      <th></th>\n",
       "      <th>volume</th>\n",
       "      <th>close</th>\n",
       "      <th>shift_by_one</th>\n",
       "      <th>diff(1)</th>\n",
       "      <th>other_diff</th>\n",
       "    </tr>\n",
       "    <tr>\n",
       "      <th>date</th>\n",
       "      <th></th>\n",
       "      <th></th>\n",
       "      <th></th>\n",
       "      <th></th>\n",
       "      <th></th>\n",
       "    </tr>\n",
       "  </thead>\n",
       "  <tbody>\n",
       "    <tr>\n",
       "      <th>2017-07-01</th>\n",
       "      <td>2.198771e+06</td>\n",
       "      <td>265.284615</td>\n",
       "      <td>NaN</td>\n",
       "      <td>NaN</td>\n",
       "      <td>NaN</td>\n",
       "    </tr>\n",
       "    <tr>\n",
       "      <th>2017-07-02</th>\n",
       "      <td>2.177595e+06</td>\n",
       "      <td>269.782500</td>\n",
       "      <td>265.284615</td>\n",
       "      <td>4.497885</td>\n",
       "      <td>4.497885</td>\n",
       "    </tr>\n",
       "    <tr>\n",
       "      <th>2017-07-03</th>\n",
       "      <td>1.459015e+06</td>\n",
       "      <td>278.882083</td>\n",
       "      <td>269.782500</td>\n",
       "      <td>9.099583</td>\n",
       "      <td>9.099583</td>\n",
       "    </tr>\n",
       "    <tr>\n",
       "      <th>2017-07-04</th>\n",
       "      <td>1.254579e+06</td>\n",
       "      <td>276.743333</td>\n",
       "      <td>278.882083</td>\n",
       "      <td>-2.138750</td>\n",
       "      <td>-2.138750</td>\n",
       "    </tr>\n",
       "    <tr>\n",
       "      <th>2017-07-05</th>\n",
       "      <td>1.797923e+06</td>\n",
       "      <td>265.025833</td>\n",
       "      <td>276.743333</td>\n",
       "      <td>-11.717500</td>\n",
       "      <td>-11.717500</td>\n",
       "    </tr>\n",
       "    <tr>\n",
       "      <th>...</th>\n",
       "      <td>...</td>\n",
       "      <td>...</td>\n",
       "      <td>...</td>\n",
       "      <td>...</td>\n",
       "      <td>...</td>\n",
       "    </tr>\n",
       "    <tr>\n",
       "      <th>2020-03-09</th>\n",
       "      <td>3.804752e+06</td>\n",
       "      <td>200.818333</td>\n",
       "      <td>222.555000</td>\n",
       "      <td>-21.736667</td>\n",
       "      <td>-21.736667</td>\n",
       "    </tr>\n",
       "    <tr>\n",
       "      <th>2020-03-10</th>\n",
       "      <td>1.553063e+06</td>\n",
       "      <td>201.577500</td>\n",
       "      <td>200.818333</td>\n",
       "      <td>0.759167</td>\n",
       "      <td>0.759167</td>\n",
       "    </tr>\n",
       "    <tr>\n",
       "      <th>2020-03-11</th>\n",
       "      <td>1.894868e+06</td>\n",
       "      <td>195.910417</td>\n",
       "      <td>201.577500</td>\n",
       "      <td>-5.667083</td>\n",
       "      <td>-5.667083</td>\n",
       "    </tr>\n",
       "    <tr>\n",
       "      <th>2020-03-12</th>\n",
       "      <td>7.503069e+06</td>\n",
       "      <td>152.763333</td>\n",
       "      <td>195.910417</td>\n",
       "      <td>-43.147083</td>\n",
       "      <td>-43.147083</td>\n",
       "    </tr>\n",
       "    <tr>\n",
       "      <th>2020-03-13</th>\n",
       "      <td>6.869609e+06</td>\n",
       "      <td>124.060476</td>\n",
       "      <td>152.763333</td>\n",
       "      <td>-28.702857</td>\n",
       "      <td>-28.702857</td>\n",
       "    </tr>\n",
       "  </tbody>\n",
       "</table>\n",
       "<p>987 rows × 5 columns</p>\n",
       "</div>"
      ],
      "text/plain": [
       "                  volume       close  shift_by_one    diff(1)  other_diff\n",
       "date                                                                     \n",
       "2017-07-01  2.198771e+06  265.284615           NaN        NaN         NaN\n",
       "2017-07-02  2.177595e+06  269.782500    265.284615   4.497885    4.497885\n",
       "2017-07-03  1.459015e+06  278.882083    269.782500   9.099583    9.099583\n",
       "2017-07-04  1.254579e+06  276.743333    278.882083  -2.138750   -2.138750\n",
       "2017-07-05  1.797923e+06  265.025833    276.743333 -11.717500  -11.717500\n",
       "...                  ...         ...           ...        ...         ...\n",
       "2020-03-09  3.804752e+06  200.818333    222.555000 -21.736667  -21.736667\n",
       "2020-03-10  1.553063e+06  201.577500    200.818333   0.759167    0.759167\n",
       "2020-03-11  1.894868e+06  195.910417    201.577500  -5.667083   -5.667083\n",
       "2020-03-12  7.503069e+06  152.763333    195.910417 -43.147083  -43.147083\n",
       "2020-03-13  6.869609e+06  124.060476    152.763333 -28.702857  -28.702857\n",
       "\n",
       "[987 rows x 5 columns]"
      ]
     },
     "execution_count": 60,
     "metadata": {},
     "output_type": "execute_result"
    }
   ],
   "source": [
    "daily_df['diff(1)'] = daily_df.close.diff(1)\n",
    "daily_df['other_diff'] = daily_df.close - daily_df['shift_by_one']\n",
    "daily_df"
   ]
  },
  {
   "cell_type": "markdown",
   "id": "2033e0ca-0219-46bc-9ae3-cdd7f189abc0",
   "metadata": {},
   "source": [
    "### Let's use shift to answer a question: What is the yearly rate of return or return on investment (ROI)?\n",
    "\n",
    "### Incoming math warning!\n",
    "\n",
    "![Math gif](https://media4.giphy.com/media/DHqth0hVQoIzS/giphy.gif?cid=ecf05e47ciwxjpj7j3mkqv6dxplynda0k44lru3atznbajs1&rid=giphy.gif&ct=g)\n",
    "\n",
    "#### How do we calculate ROI?\n",
    "\n",
    "`yearly_rate_return` = (`where_we_are_today` - `where_we_were_a_year_ago`  ) / `where_we_were_a_year_ago`"
   ]
  },
  {
   "cell_type": "markdown",
   "id": "b18bc0d2-dc64-49f4-ac8b-20694d05628d",
   "metadata": {},
   "source": [
    "#### Simpler Example\n",
    "\n",
    "If I buy a rubber ducky for 200 dollars and sell it for 100 dollars after one year, what is my ROI?"
   ]
  },
  {
   "cell_type": "code",
   "execution_count": 61,
   "id": "98442c34-dbf8-4e9f-a254-f6b33ba9c281",
   "metadata": {},
   "outputs": [
    {
     "data": {
      "text/plain": [
       "-50.0"
      ]
     },
     "execution_count": 61,
     "metadata": {},
     "output_type": "execute_result"
    }
   ],
   "source": [
    "where_we_were_a_year_ago = 200\n",
    "where_we_are_today = 100\n",
    "((where_we_are_today - where_we_were_a_year_ago) / where_we_were_a_year_ago) * 100"
   ]
  },
  {
   "cell_type": "markdown",
   "id": "500ada09-dbc9-49fb-af20-bd2af4f9bc34",
   "metadata": {},
   "source": [
    "#### Let's apply the same process to our data"
   ]
  },
  {
   "cell_type": "code",
   "execution_count": 62,
   "id": "d1dfd685",
   "metadata": {},
   "outputs": [
    {
     "data": {
      "text/plain": [
       "date\n",
       "2017-07-01           NaN\n",
       "2017-07-02           NaN\n",
       "2017-07-03           NaN\n",
       "2017-07-04           NaN\n",
       "2017-07-05           NaN\n",
       "                 ...    \n",
       "2020-03-09    134.920000\n",
       "2020-03-10    132.684167\n",
       "2020-03-11    131.779167\n",
       "2020-03-12    131.479583\n",
       "2020-03-13    131.275417\n",
       "Freq: D, Name: close, Length: 987, dtype: float64"
      ]
     },
     "execution_count": 62,
     "metadata": {},
     "output_type": "execute_result"
    }
   ],
   "source": [
    "where_we_were_a_year_ago = daily_df.close.shift(365)\n",
    "where_we_were_a_year_ago"
   ]
  },
  {
   "cell_type": "code",
   "execution_count": 63,
   "id": "4437ef1c",
   "metadata": {},
   "outputs": [
    {
     "data": {
      "text/html": [
       "<div>\n",
       "<style scoped>\n",
       "    .dataframe tbody tr th:only-of-type {\n",
       "        vertical-align: middle;\n",
       "    }\n",
       "\n",
       "    .dataframe tbody tr th {\n",
       "        vertical-align: top;\n",
       "    }\n",
       "\n",
       "    .dataframe thead th {\n",
       "        text-align: right;\n",
       "    }\n",
       "</style>\n",
       "<table border=\"1\" class=\"dataframe\">\n",
       "  <thead>\n",
       "    <tr style=\"text-align: right;\">\n",
       "      <th></th>\n",
       "      <th>volume</th>\n",
       "      <th>close</th>\n",
       "      <th>shift_by_one</th>\n",
       "      <th>diff(1)</th>\n",
       "      <th>other_diff</th>\n",
       "      <th>a_year_ago</th>\n",
       "    </tr>\n",
       "    <tr>\n",
       "      <th>date</th>\n",
       "      <th></th>\n",
       "      <th></th>\n",
       "      <th></th>\n",
       "      <th></th>\n",
       "      <th></th>\n",
       "      <th></th>\n",
       "    </tr>\n",
       "  </thead>\n",
       "  <tbody>\n",
       "    <tr>\n",
       "      <th>2017-07-01</th>\n",
       "      <td>2.198771e+06</td>\n",
       "      <td>265.284615</td>\n",
       "      <td>NaN</td>\n",
       "      <td>NaN</td>\n",
       "      <td>NaN</td>\n",
       "      <td>NaN</td>\n",
       "    </tr>\n",
       "    <tr>\n",
       "      <th>2017-07-02</th>\n",
       "      <td>2.177595e+06</td>\n",
       "      <td>269.782500</td>\n",
       "      <td>265.284615</td>\n",
       "      <td>4.497885</td>\n",
       "      <td>4.497885</td>\n",
       "      <td>NaN</td>\n",
       "    </tr>\n",
       "    <tr>\n",
       "      <th>2017-07-03</th>\n",
       "      <td>1.459015e+06</td>\n",
       "      <td>278.882083</td>\n",
       "      <td>269.782500</td>\n",
       "      <td>9.099583</td>\n",
       "      <td>9.099583</td>\n",
       "      <td>NaN</td>\n",
       "    </tr>\n",
       "    <tr>\n",
       "      <th>2017-07-04</th>\n",
       "      <td>1.254579e+06</td>\n",
       "      <td>276.743333</td>\n",
       "      <td>278.882083</td>\n",
       "      <td>-2.138750</td>\n",
       "      <td>-2.138750</td>\n",
       "      <td>NaN</td>\n",
       "    </tr>\n",
       "    <tr>\n",
       "      <th>2017-07-05</th>\n",
       "      <td>1.797923e+06</td>\n",
       "      <td>265.025833</td>\n",
       "      <td>276.743333</td>\n",
       "      <td>-11.717500</td>\n",
       "      <td>-11.717500</td>\n",
       "      <td>NaN</td>\n",
       "    </tr>\n",
       "    <tr>\n",
       "      <th>...</th>\n",
       "      <td>...</td>\n",
       "      <td>...</td>\n",
       "      <td>...</td>\n",
       "      <td>...</td>\n",
       "      <td>...</td>\n",
       "      <td>...</td>\n",
       "    </tr>\n",
       "    <tr>\n",
       "      <th>2020-03-09</th>\n",
       "      <td>3.804752e+06</td>\n",
       "      <td>200.818333</td>\n",
       "      <td>222.555000</td>\n",
       "      <td>-21.736667</td>\n",
       "      <td>-21.736667</td>\n",
       "      <td>134.920000</td>\n",
       "    </tr>\n",
       "    <tr>\n",
       "      <th>2020-03-10</th>\n",
       "      <td>1.553063e+06</td>\n",
       "      <td>201.577500</td>\n",
       "      <td>200.818333</td>\n",
       "      <td>0.759167</td>\n",
       "      <td>0.759167</td>\n",
       "      <td>132.684167</td>\n",
       "    </tr>\n",
       "    <tr>\n",
       "      <th>2020-03-11</th>\n",
       "      <td>1.894868e+06</td>\n",
       "      <td>195.910417</td>\n",
       "      <td>201.577500</td>\n",
       "      <td>-5.667083</td>\n",
       "      <td>-5.667083</td>\n",
       "      <td>131.779167</td>\n",
       "    </tr>\n",
       "    <tr>\n",
       "      <th>2020-03-12</th>\n",
       "      <td>7.503069e+06</td>\n",
       "      <td>152.763333</td>\n",
       "      <td>195.910417</td>\n",
       "      <td>-43.147083</td>\n",
       "      <td>-43.147083</td>\n",
       "      <td>131.479583</td>\n",
       "    </tr>\n",
       "    <tr>\n",
       "      <th>2020-03-13</th>\n",
       "      <td>6.869609e+06</td>\n",
       "      <td>124.060476</td>\n",
       "      <td>152.763333</td>\n",
       "      <td>-28.702857</td>\n",
       "      <td>-28.702857</td>\n",
       "      <td>131.275417</td>\n",
       "    </tr>\n",
       "  </tbody>\n",
       "</table>\n",
       "<p>987 rows × 6 columns</p>\n",
       "</div>"
      ],
      "text/plain": [
       "                  volume       close  shift_by_one    diff(1)  other_diff  \\\n",
       "date                                                                        \n",
       "2017-07-01  2.198771e+06  265.284615           NaN        NaN         NaN   \n",
       "2017-07-02  2.177595e+06  269.782500    265.284615   4.497885    4.497885   \n",
       "2017-07-03  1.459015e+06  278.882083    269.782500   9.099583    9.099583   \n",
       "2017-07-04  1.254579e+06  276.743333    278.882083  -2.138750   -2.138750   \n",
       "2017-07-05  1.797923e+06  265.025833    276.743333 -11.717500  -11.717500   \n",
       "...                  ...         ...           ...        ...         ...   \n",
       "2020-03-09  3.804752e+06  200.818333    222.555000 -21.736667  -21.736667   \n",
       "2020-03-10  1.553063e+06  201.577500    200.818333   0.759167    0.759167   \n",
       "2020-03-11  1.894868e+06  195.910417    201.577500  -5.667083   -5.667083   \n",
       "2020-03-12  7.503069e+06  152.763333    195.910417 -43.147083  -43.147083   \n",
       "2020-03-13  6.869609e+06  124.060476    152.763333 -28.702857  -28.702857   \n",
       "\n",
       "            a_year_ago  \n",
       "date                    \n",
       "2017-07-01         NaN  \n",
       "2017-07-02         NaN  \n",
       "2017-07-03         NaN  \n",
       "2017-07-04         NaN  \n",
       "2017-07-05         NaN  \n",
       "...                ...  \n",
       "2020-03-09  134.920000  \n",
       "2020-03-10  132.684167  \n",
       "2020-03-11  131.779167  \n",
       "2020-03-12  131.479583  \n",
       "2020-03-13  131.275417  \n",
       "\n",
       "[987 rows x 6 columns]"
      ]
     },
     "execution_count": 63,
     "metadata": {},
     "output_type": "execute_result"
    }
   ],
   "source": [
    "daily_df['a_year_ago'] = where_we_were_a_year_ago\n",
    "daily_df"
   ]
  },
  {
   "cell_type": "code",
   "execution_count": 64,
   "id": "6753c7d3",
   "metadata": {},
   "outputs": [
    {
     "data": {
      "text/plain": [
       "volume          244101.443333\n",
       "close              131.275417\n",
       "shift_by_one       131.479583\n",
       "diff(1)             -0.204167\n",
       "other_diff          -0.204167\n",
       "a_year_ago         658.033333\n",
       "Name: 2019-03-14 00:00:00, dtype: float64"
      ]
     },
     "execution_count": 64,
     "metadata": {},
     "output_type": "execute_result"
    }
   ],
   "source": [
    "daily_df.loc['2019-03-14']"
   ]
  },
  {
   "cell_type": "code",
   "execution_count": 65,
   "id": "63331abd-821d-41f2-9a44-f1ae79cb06b4",
   "metadata": {},
   "outputs": [
    {
     "data": {
      "text/plain": [
       "date\n",
       "2017-07-01          NaN\n",
       "2017-07-02          NaN\n",
       "2017-07-03          NaN\n",
       "2017-07-04          NaN\n",
       "2017-07-05          NaN\n",
       "                ...    \n",
       "2020-03-09    48.842524\n",
       "2020-03-10    51.922799\n",
       "2020-03-11    48.665697\n",
       "2020-03-12    16.187875\n",
       "2020-03-13    -5.496033\n",
       "Freq: D, Name: close, Length: 987, dtype: float64"
      ]
     },
     "execution_count": 65,
     "metadata": {},
     "output_type": "execute_result"
    }
   ],
   "source": [
    "where_we_were_a_year_ago = daily_df.close.shift(365)\n",
    "where_we_are_today = daily_df.close\n",
    "\n",
    "roi_series = ((where_we_are_today - where_we_were_a_year_ago) / where_we_were_a_year_ago) * 100\n",
    "roi_series"
   ]
  },
  {
   "cell_type": "markdown",
   "id": "2bbfc4da-a6e8-43c9-abd0-80a132be3940",
   "metadata": {},
   "source": [
    "#### And now let's graph it out"
   ]
  },
  {
   "cell_type": "code",
   "execution_count": 66,
   "id": "4340fed7-09a1-47b0-b4b3-bd021a70ec60",
   "metadata": {},
   "outputs": [
    {
     "data": {
      "text/plain": [
       "Text(0.5, 1.0, '1-Year Rate of return on ETH')"
      ]
     },
     "execution_count": 66,
     "metadata": {},
     "output_type": "execute_result"
    },
    {
     "data": {
      "image/png": "[encoded data removed]",
      "text/plain": [
       "<Figure size 1152x648 with 1 Axes>"
      ]
     },
     "metadata": {
      "needs_background": "light"
     },
     "output_type": "display_data"
    }
   ],
   "source": [
    "roi_series.dropna().plot()\n",
    "plt.ylabel('% Return on Investment')\n",
    "plt.xlabel('Date')\n",
    "plt.title('1-Year Rate of return on ETH')"
   ]
  },
  {
   "cell_type": "code",
   "execution_count": 67,
   "id": "77187e28",
   "metadata": {},
   "outputs": [
    {
     "data": {
      "text/plain": [
       "<AxesSubplot:xlabel='date'>"
      ]
     },
     "execution_count": 67,
     "metadata": {},
     "output_type": "execute_result"
    },
    {
     "data": {
      "image/png": "[encoded data removed]",
      "text/plain": [
       "<Figure size 1152x648 with 1 Axes>"
      ]
     },
     "metadata": {
      "needs_background": "light"
     },
     "output_type": "display_data"
    }
   ],
   "source": [
    "daily_df.close.plot()"
   ]
  },
  {
   "cell_type": "markdown",
   "id": "ac160240-29f5-4834-acd0-ac7c9f1563ea",
   "metadata": {},
   "source": [
    "### Time Zones\n",
    "\n",
    "#### Timestamp with no timezone"
   ]
  },
  {
   "cell_type": "code",
   "execution_count": 68,
   "id": "574e5167-c222-447c-85eb-2fa3088f3b0f",
   "metadata": {},
   "outputs": [
    {
     "data": {
      "text/plain": [
       "Timestamp('2020-04-14 10:25:25')"
      ]
     },
     "execution_count": 68,
     "metadata": {},
     "output_type": "execute_result"
    }
   ],
   "source": [
    "t = pd.Timestamp('2020-04-14 10:25:25')\n",
    "t"
   ]
  },
  {
   "cell_type": "markdown",
   "id": "7fedb21f-37c7-4a64-bd1c-b173f8114e36",
   "metadata": {},
   "source": [
    "#### Specifying the timezone"
   ]
  },
  {
   "cell_type": "code",
   "execution_count": 69,
   "id": "925765ac-fbcd-4819-b5b8-bef2a5c7e018",
   "metadata": {},
   "outputs": [
    {
     "data": {
      "text/plain": [
       "Timestamp('2020-04-14 10:25:25-0500', tz='US/Central')"
      ]
     },
     "execution_count": 69,
     "metadata": {},
     "output_type": "execute_result"
    }
   ],
   "source": [
    "t1 = pd.Timestamp('2020-04-14 10:25:25', tz='Us/Central')\n",
    "t1"
   ]
  },
  {
   "cell_type": "markdown",
   "id": "e3e9f4be-8db1-484e-9aa3-0f066e0de1e9",
   "metadata": {},
   "source": [
    "#### Convert to a different timezone"
   ]
  },
  {
   "cell_type": "code",
   "execution_count": 70,
   "id": "91749708-53ad-4e9b-8bd7-b223ba9fbe2d",
   "metadata": {},
   "outputs": [
    {
     "data": {
      "text/plain": [
       "Timestamp('2020-04-15 00:25:25+0900', tz='Asia/Tokyo')"
      ]
     },
     "execution_count": 70,
     "metadata": {},
     "output_type": "execute_result"
    }
   ],
   "source": [
    "t1 = t1.tz_convert(tz='Asia/tokyo')\n",
    "t1"
   ]
  },
  {
   "cell_type": "markdown",
   "id": "75c8ce86-63cb-4757-b372-f11916658408",
   "metadata": {},
   "source": [
    "### Timedelta"
   ]
  },
  {
   "cell_type": "code",
   "execution_count": 71,
   "id": "c84da6b7-284d-40e1-b70a-bc7193119f85",
   "metadata": {},
   "outputs": [
    {
     "data": {
      "text/plain": [
       "Timestamp('2020-04-14 10:25:25')"
      ]
     },
     "execution_count": 71,
     "metadata": {},
     "output_type": "execute_result"
    }
   ],
   "source": [
    "t"
   ]
  },
  {
   "cell_type": "code",
   "execution_count": 72,
   "id": "2aea5891",
   "metadata": {},
   "outputs": [
    {
     "data": {
      "text/plain": [
       "Timestamp('2020-04-15 10:25:25')"
      ]
     },
     "execution_count": 72,
     "metadata": {},
     "output_type": "execute_result"
    }
   ],
   "source": [
    "t + pd.Timedelta('1d')"
   ]
  },
  {
   "cell_type": "markdown",
   "id": "93cdd0d9-86e3-4454-9190-a123d3f859c5",
   "metadata": {},
   "source": [
    "#### What if I need the time right `now`?"
   ]
  },
  {
   "cell_type": "code",
   "execution_count": 73,
   "id": "7dc8c3d1-c8ae-4292-bd4d-f161b93e1550",
   "metadata": {},
   "outputs": [
    {
     "data": {
      "text/plain": [
       "Timestamp('2022-08-10 12:40:22.173406')"
      ]
     },
     "execution_count": 73,
     "metadata": {},
     "output_type": "execute_result"
    }
   ],
   "source": [
    "now = pd.Timestamp.now()\n",
    "now"
   ]
  },
  {
   "cell_type": "markdown",
   "id": "271522cd-f153-41f8-b291-4afdf23c27ce",
   "metadata": {},
   "source": [
    "#### Now let's to some time math!"
   ]
  },
  {
   "cell_type": "code",
   "execution_count": 74,
   "id": "32ffed1f-cfd2-4855-a2d4-451631d89577",
   "metadata": {},
   "outputs": [
    {
     "data": {
      "text/plain": [
       "Timedelta('848 days 02:14:57.173406')"
      ]
     },
     "execution_count": 74,
     "metadata": {},
     "output_type": "execute_result"
    }
   ],
   "source": [
    "time_since_t = now - t\n",
    "time_since_t"
   ]
  },
  {
   "cell_type": "markdown",
   "id": "7a8e364e-4496-440f-af0c-c46c238c2be6",
   "metadata": {},
   "source": [
    "### What if we just want to return the days?"
   ]
  },
  {
   "cell_type": "code",
   "execution_count": 75,
   "id": "8bd8bf43-86d7-4887-8af5-93650d2f3572",
   "metadata": {},
   "outputs": [
    {
     "data": {
      "text/plain": [
       "Timedelta('1 days 00:00:00')"
      ]
     },
     "execution_count": 75,
     "metadata": {},
     "output_type": "execute_result"
    }
   ],
   "source": [
    "pd.Timedelta('1d')"
   ]
  },
  {
   "cell_type": "code",
   "execution_count": 76,
   "id": "c03a3de4-11e5-4313-80db-f80560781487",
   "metadata": {},
   "outputs": [
    {
     "data": {
      "text/plain": [
       "848"
      ]
     },
     "execution_count": 76,
     "metadata": {},
     "output_type": "execute_result"
    }
   ],
   "source": [
    "time_since_t // pd.Timedelta('1d')"
   ]
  },
  {
   "cell_type": "markdown",
   "id": "63ae00a4-b522-421f-9e27-6fe960bbb79c",
   "metadata": {},
   "source": [
    "#### Simpler way"
   ]
  },
  {
   "cell_type": "code",
   "execution_count": 77,
   "id": "bb27e6f5-260b-4cd3-b874-e62bbd420c07",
   "metadata": {},
   "outputs": [
    {
     "data": {
      "text/plain": [
       "848"
      ]
     },
     "execution_count": 77,
     "metadata": {},
     "output_type": "execute_result"
    }
   ],
   "source": [
    "time_since_t.days"
   ]
  },
  {
   "cell_type": "markdown",
   "id": "a1d8f125-369a-4bf7-b8ca-bf46f4940ee2",
   "metadata": {},
   "source": [
    "#### but if we want total seconds then we need to do the math"
   ]
  },
  {
   "cell_type": "code",
   "execution_count": 78,
   "id": "e452acd8-541e-4f19-8fbb-8b4d02ae2978",
   "metadata": {},
   "outputs": [
    {
     "data": {
      "text/plain": [
       "73275297"
      ]
     },
     "execution_count": 78,
     "metadata": {},
     "output_type": "execute_result"
    }
   ],
   "source": [
    "days_in_seconds = time_since_t.days * 24 * 60 * 60\n",
    "\n",
    "seconds_in_timepart = time_since_t.seconds\n",
    "\n",
    "days_in_seconds + seconds_in_timepart"
   ]
  },
  {
   "cell_type": "markdown",
   "id": "6ca191ca-a055-48f4-a2a8-ad6f3314e9d6",
   "metadata": {},
   "source": [
    "#### So know timedelta math becomes the simplier way"
   ]
  },
  {
   "cell_type": "code",
   "execution_count": 79,
   "id": "ef5c9184-c430-4854-ad18-f4f4f75ce033",
   "metadata": {},
   "outputs": [
    {
     "data": {
      "text/plain": [
       "73275297"
      ]
     },
     "execution_count": 79,
     "metadata": {},
     "output_type": "execute_result"
    }
   ],
   "source": [
    "time_since_t // pd.Timedelta('1s')"
   ]
  },
  {
   "cell_type": "markdown",
   "id": "0aefc00d-afe1-428e-a00f-f1a0b828789d",
   "metadata": {},
   "source": [
    "#### Takeaway: Use whichever method gets you answer for you"
   ]
  }
 ],
 "metadata": {
  "kernelspec": {
   "display_name": "Python 3",
   "language": "python",
   "name": "python3"
  },
  "language_info": {
   "codemirror_mode": {
    "name": "ipython",
    "version": 3
   },
   "file_extension": ".py",
   "mimetype": "text/x-python",
   "name": "python",
   "nbconvert_exporter": "python",
   "pygments_lexer": "ipython3",
   "version": "3.8.8"
  }
 },
 "nbformat": 4,
 "nbformat_minor": 5
}
