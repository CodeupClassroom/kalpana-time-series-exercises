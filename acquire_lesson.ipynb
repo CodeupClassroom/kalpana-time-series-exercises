{
 "cells": [
  {
   "cell_type": "markdown",
   "id": "c5cff932-64a8-4062-9bef-d1d0f5516c11",
   "metadata": {},
   "source": [
    "# Data Acquisistion\n",
    "\n",
    "* HTTP (*HyperText Transfer Protocol*): Plain text transportation\n",
    "    * Request\n",
    "    * Response\n",
    "* HTML (*HyperText Markup Language*): Document structure for a webpage\n",
    "* JSON (*JavaScript Object Notation*): Data interchange format based on JavaScript (structure is very similiar to Python dictionaries)\n",
    "* API (*Application Programming Interface*): How things are interacted with programatically\n",
    "* REST (*Representational State Transfer*): A set of rules for application urls\n",
    "\n",
    "| HTTP Method | Endpoint         | Description                |\n",
    "| ---         | ---              | ---                        |\n",
    "| GET         | /{resource}/{id} | Read details of a resource |\n",
    "| GET         | /{resource}      | A listing of resources     |\n",
    "| POST        | /{resource}      | Create a new resource      |\n",
    "| PATCH       | /{resource}/{id} | Update a resource          |\n",
    "| DELETE      | /{resource}/{id} | Delete a resource          |\n",
    "\n",
    "We'll focus on the GET methods as they are the ones that retrieve and let us read information.\n",
    "\n",
    "## Imports"
   ]
  },
  {
   "cell_type": "code",
   "execution_count": null,
   "id": "0f759908-14bc-48b1-ab34-b309b59301e5",
   "metadata": {},
   "outputs": [],
   "source": [
    "import pandas as pd\n",
    "\n",
    "import requests"
   ]
  },
  {
   "cell_type": "markdown",
   "id": "9632f78c-5eae-4ec9-b67a-f66adbbf28bc",
   "metadata": {},
   "source": [
    "Example HTML pages:\n",
    "\n",
    "- http://example.com\n",
    "- https://alumni.codeup.com"
   ]
  },
  {
   "cell_type": "markdown",
   "id": "33990625-cede-4a9a-acbd-cffdf159563f",
   "metadata": {},
   "source": [
    "## Using requests library\n",
    "\n",
    "We get responses from making a requests.\n",
    "\n",
    "### Some things we can get:\n",
    "\n",
    "#### Response Code"
   ]
  },
  {
   "cell_type": "code",
   "execution_count": null,
   "id": "da036d50-27d5-4e2d-b8e8-9185223b8e3b",
   "metadata": {},
   "outputs": [],
   "source": [
    "response = requests.get('http://example.com')\n",
    "response"
   ]
  },
  {
   "cell_type": "markdown",
   "id": "07d29e20-82f9-4930-9932-330a43968179",
   "metadata": {},
   "source": [
    "Http status codes:\n",
    "\n",
    "* 200s: everythings good\n",
    "* 300s: redirecting\n",
    "* 400s: you did something wrong\n",
    "* 500s: something is wrong with the server\n",
    "\n",
    "#### Response Text"
   ]
  },
  {
   "cell_type": "code",
   "execution_count": null,
   "id": "edf5d64e-b5b8-435f-8e2b-1b50522a2f1c",
   "metadata": {},
   "outputs": [],
   "source": [
    "print(response.text)"
   ]
  },
  {
   "cell_type": "markdown",
   "id": "ca1ccb47-d757-4333-9961-5514708626a8",
   "metadata": {},
   "source": [
    "### Example JSON API endpoints:\n",
    "\n",
    "* https://aphorisms.glitch.me\n",
    "* https://jsonplaceholder.typicode.com/posts/1\n",
    "* https://jsonplaceholder.typicode.com/users\n",
    "\n",
    "### Let's start with the quote generator"
   ]
  },
  {
   "cell_type": "code",
   "execution_count": null,
   "id": "de9a75f8-b3e5-4dc7-88c9-aafca0704904",
   "metadata": {},
   "outputs": [],
   "source": [
    "response = requests.get('https://aphorisms.glitch.me')\n",
    "response"
   ]
  },
  {
   "cell_type": "code",
   "execution_count": null,
   "id": "916a7053-8827-4430-a2b9-d46b4f1f06c6",
   "metadata": {},
   "outputs": [],
   "source": [
    "response.text"
   ]
  },
  {
   "cell_type": "code",
   "execution_count": null,
   "id": "79c62401-3600-4e3b-88cf-d96cbeafee88",
   "metadata": {},
   "outputs": [],
   "source": [
    "data = response.json()\n",
    "data"
   ]
  },
  {
   "cell_type": "markdown",
   "id": "e014b8fc-6905-4419-a75c-bfafd442eda4",
   "metadata": {},
   "source": [
    "#### What is the difference between `response.text` and `response.json()`?"
   ]
  },
  {
   "cell_type": "code",
   "execution_count": null,
   "id": "ee22e1b6-6049-4e85-b488-0a7ab4be9fa5",
   "metadata": {},
   "outputs": [],
   "source": [
    "print('response.text type is:', type(response.text))\n",
    "print('response.json() type is:', type(response.json()))"
   ]
  },
  {
   "cell_type": "markdown",
   "id": "72f7883f-14f0-48e8-a75d-d2f5dd8c8846",
   "metadata": {},
   "source": [
    "#### So now we can treat `data` just like a dictionary?"
   ]
  },
  {
   "cell_type": "code",
   "execution_count": null,
   "id": "b450b61e-9158-4e9c-a7d0-472f9339ea4e",
   "metadata": {},
   "outputs": [],
   "source": [
    "data"
   ]
  },
  {
   "cell_type": "code",
   "execution_count": null,
   "id": "be18cf16-5ec7-47b2-90ce-9ca8628e3563",
   "metadata": {},
   "outputs": [],
   "source": [
    "data['quote']"
   ]
  },
  {
   "cell_type": "code",
   "execution_count": null,
   "id": "a021154a-df37-4d56-9edd-cce0e6d45d7d",
   "metadata": {},
   "outputs": [],
   "source": [
    "data['author']"
   ]
  },
  {
   "cell_type": "markdown",
   "id": "95ec17c9-8a2d-4d5b-80bf-8aec691b14c9",
   "metadata": {},
   "source": [
    "## Now let's work with an API storing time series data:"
   ]
  },
  {
   "cell_type": "code",
   "execution_count": null,
   "id": "fb78f55d-9232-434e-a1dd-587ce51f9e6d",
   "metadata": {},
   "outputs": [],
   "source": [
    "url = 'https://python.zgulde.net'\n",
    "response = requests.get(url)\n",
    "response.json()"
   ]
  },
  {
   "cell_type": "markdown",
   "id": "12d88017-6581-4217-8399-a192197af889",
   "metadata": {},
   "source": [
    "#### &#8593; This tells us what we can add to url to get new info\n",
    "\n",
    "#### Let's look at the documentation"
   ]
  },
  {
   "cell_type": "code",
   "execution_count": null,
   "id": "0bf4f0b9-dc89-4e0d-9d69-49a29e717e10",
   "metadata": {},
   "outputs": [],
   "source": [
    "url = 'https://python.zgulde.net' + '/documentation'\n",
    "response = requests.get(url)\n",
    "response.json()"
   ]
  },
  {
   "cell_type": "code",
   "execution_count": null,
   "id": "62428593-d162-4048-9e9f-99f7cd3f1cbb",
   "metadata": {},
   "outputs": [],
   "source": [
    "response.json()['payload']"
   ]
  },
  {
   "cell_type": "code",
   "execution_count": null,
   "id": "c3d6f6f6-5d7c-4ceb-9c11-b4d05a4a8432",
   "metadata": {},
   "outputs": [],
   "source": [
    "print(response.json()['payload'])"
   ]
  },
  {
   "cell_type": "markdown",
   "id": "271c1db4-6b61-4f87-8d10-20a32a21aaf9",
   "metadata": {},
   "source": [
    "#### What's an endpoint?\n",
    "\n",
    "##### * An endpoint are the parts after the main url, called the domain. \n",
    "\n",
    "##### * In this case our endpoints go after .com in the url separated by slashes.\n",
    "\n",
    "   * **Extra**: .com, .gov, .net are known as TLD or *Top Level Domains* in a url\n",
    "\n",
    "#### So with this info we can now start retrieving data from the api\n",
    "\n",
    "#### Let's check out the stores data"
   ]
  },
  {
   "cell_type": "code",
   "execution_count": null,
   "id": "7bf80a81-cf42-42d3-805d-dc88444b2499",
   "metadata": {},
   "outputs": [],
   "source": [
    "url = 'https://python.zgulde.net/api/v1/stores'\n",
    "response = requests.get(url)\n",
    "data = response.json()\n",
    "data"
   ]
  },
  {
   "cell_type": "code",
   "execution_count": null,
   "id": "8840b2fd-9497-409f-a9eb-95017d9b48b2",
   "metadata": {},
   "outputs": [],
   "source": [
    "data.keys()"
   ]
  },
  {
   "cell_type": "code",
   "execution_count": null,
   "id": "20044706-d20f-4ead-9ba8-424a6d166707",
   "metadata": {},
   "outputs": [],
   "source": [
    "data['status']"
   ]
  },
  {
   "cell_type": "code",
   "execution_count": null,
   "id": "3b62c725-0277-434a-9895-cd713f325ecd",
   "metadata": {},
   "outputs": [],
   "source": [
    "data['payload']"
   ]
  },
  {
   "cell_type": "code",
   "execution_count": null,
   "id": "8aa75e2d-d423-4689-93ca-3cc4c48d7033",
   "metadata": {},
   "outputs": [],
   "source": [
    "data['payload'].keys()"
   ]
  },
  {
   "cell_type": "code",
   "execution_count": null,
   "id": "1706cb5a-4e87-452a-b9eb-63ddbb9a60c4",
   "metadata": {},
   "outputs": [],
   "source": [
    "data['payload']['stores']"
   ]
  },
  {
   "cell_type": "code",
   "execution_count": null,
   "id": "feb19160-d862-4ca3-a3a9-13af635f959a",
   "metadata": {},
   "outputs": [],
   "source": [
    "pd.DataFrame(data['payload']['stores'])"
   ]
  },
  {
   "cell_type": "markdown",
   "id": "8e8e1d79-cf9c-4d4b-800c-af98d092923d",
   "metadata": {},
   "source": [
    "#### Let's do the same with items"
   ]
  },
  {
   "cell_type": "code",
   "execution_count": null,
   "id": "80fa23b4-7868-4ab1-bc0f-6a0fd38b6367",
   "metadata": {},
   "outputs": [],
   "source": [
    "url = 'https://python.zgulde.net/api/v1/items'\n",
    "response = requests.get(url)\n",
    "data = response.json()\n",
    "data.keys()"
   ]
  },
  {
   "cell_type": "code",
   "execution_count": null,
   "id": "b0289b58-1c1f-40b9-9acf-2b4bad7b50b9",
   "metadata": {},
   "outputs": [],
   "source": [
    "data['status']"
   ]
  },
  {
   "cell_type": "code",
   "execution_count": null,
   "id": "0071d03d-78b5-4fb8-bdff-5dc8818cb74b",
   "metadata": {},
   "outputs": [],
   "source": [
    "data['payload']"
   ]
  },
  {
   "cell_type": "code",
   "execution_count": null,
   "id": "dfcb74d2-2d1f-40de-8781-c539275fa3a9",
   "metadata": {},
   "outputs": [],
   "source": [
    "data['payload'].keys()"
   ]
  },
  {
   "cell_type": "code",
   "execution_count": null,
   "id": "0c791fc6-867c-4ee0-b061-a3ace409c501",
   "metadata": {},
   "outputs": [],
   "source": [
    "(\n",
    "    data['payload']['page'], \n",
    "    data['payload']['max_page'], \n",
    "    data['payload']['next_page'],\n",
    "    data['payload']['previous_page'],\n",
    ")"
   ]
  },
  {
   "cell_type": "code",
   "execution_count": null,
   "id": "cdd1cea9-e07c-4199-a5dc-4c9012b40b12",
   "metadata": {},
   "outputs": [],
   "source": [
    "pd.DataFrame(data['payload']['items'])"
   ]
  },
  {
   "cell_type": "markdown",
   "id": "a0360c35-a8ac-42d0-a8cc-3d953c88c63b",
   "metadata": {},
   "source": [
    "### Now what to do about the multiple pages?"
   ]
  },
  {
   "cell_type": "code",
   "execution_count": null,
   "id": "f996d754-5496-47da-b0bc-fe4729ee3e39",
   "metadata": {},
   "outputs": [],
   "source": [
    "domain = 'https://python.zgulde.net'\n",
    "endpoint = '/api/v1/items'\n",
    "items = []\n",
    "\n",
    "url = domain + endpoint\n",
    "\n",
    "response = requests.get(url)\n",
    "data = response.json()\n",
    "# .extend adds elemnts from a list to another list\n",
    "items.extend(data['payload']['items'])"
   ]
  },
  {
   "cell_type": "code",
   "execution_count": null,
   "id": "4a9fa2c8-6e03-4c3b-b7ca-802d4a5200d1",
   "metadata": {},
   "outputs": [],
   "source": [
    "data['payload']['next_page']"
   ]
  },
  {
   "cell_type": "code",
   "execution_count": null,
   "id": "c999d893-5015-4d89-b820-3a950966e645",
   "metadata": {},
   "outputs": [],
   "source": [
    "url = domain + data['payload']['next_page']\n",
    "print('Next url:', url)"
   ]
  },
  {
   "cell_type": "code",
   "execution_count": null,
   "id": "4de77c1e-8d5d-4ac9-a0b4-48d6f4c3c659",
   "metadata": {},
   "outputs": [],
   "source": [
    "response = requests.get(url)\n",
    "data = response.json()\n",
    "items.extend(data['payload']['items'])"
   ]
  },
  {
   "cell_type": "code",
   "execution_count": null,
   "id": "a4b03304-be44-4212-a46d-fb7a102d7f46",
   "metadata": {},
   "outputs": [],
   "source": [
    "url = domain + data['payload']['next_page']\n",
    "print('next url:', url)"
   ]
  },
  {
   "cell_type": "code",
   "execution_count": null,
   "id": "61d322c1-aa3f-43b3-845f-ee11a8dd78dd",
   "metadata": {},
   "outputs": [],
   "source": [
    "response = requests.get(url)\n",
    "data = response.json()\n",
    "items.extend(data['payload']['items'])"
   ]
  },
  {
   "cell_type": "code",
   "execution_count": null,
   "id": "520973cb-3f8e-4d39-8a3b-a3ba9e779a4b",
   "metadata": {},
   "outputs": [],
   "source": [
    "# Hint hint: if data['payload']['next_page'] is None:\n",
    "print('next endpoint', data['payload']['next_page'])"
   ]
  },
  {
   "cell_type": "code",
   "execution_count": null,
   "id": "69c40872-9100-424d-a81b-a71e9bcb725c",
   "metadata": {},
   "outputs": [],
   "source": [
    "pd.DataFrame(items)\n",
    "# next steps:\n",
    "# save to a csv or wrap up everything in a function"
   ]
  },
  {
   "cell_type": "code",
   "execution_count": null,
   "id": "f641504c-3025-4cdc-9a67-8a4b268ec211",
   "metadata": {},
   "outputs": [],
   "source": [
    "# setup\n",
    "domain = 'https://python.zgulde.net'\n",
    "endpoint = '/api/v1/items'\n",
    "items = []\n",
    "\n",
    "# For each page -- until next page is None\n",
    "url = domain + endpoint\n",
    "response = requests.get(url)\n",
    "data = response.json()\n",
    "items.extend(data['payload']['items'])\n",
    "# update the endpoint\n",
    "endpoint = data['payload']['next_page']"
   ]
  },
  {
   "cell_type": "markdown",
   "id": "7c250ffd-28e2-4060-aa7a-054d9de769cf",
   "metadata": {},
   "source": [
    "## Guidance for the exercise\n",
    "1. Setup\n",
    "    * url (base + endpoint)\n",
    "    * empty list\n",
    "1. Loop\n",
    "    1. make a request\n",
    "    1. handle the response, add to the list\n",
    "    1. find the next url endpoint\n",
    "        1. if it's None, stop looping\n",
    "        1. if it's a string, use it to construct the next url\n",
    "1. Turn the list into a dataframe\n",
    "\n",
    "### General Tips\n",
    "\n",
    "![Alt Text](https://c.tenor.com/NpDMsR4GdTAAAAAC/salute-captain-america.gif)\n",
    "\n",
    "* solve an easy problem first (the items endpoint), then apply that solution to the larger problem (sales)\n",
    "* informational print statements are helpful as you are developing code, especially inside of a loop to see what changes\n",
    "* Dont' be afraid to command + shift + p (command + shift + c for jupyter lab) \"interrupt the kernel\""
   ]
  },
  {
   "cell_type": "markdown",
   "id": "3fa3a16d",
   "metadata": {},
   "source": [
    "# Exercises\n",
    "\n",
    "Create a new local git repository and remote repository on github named `time-series-exercises`. Save this work for this module in your `time-series-exercises` repo.\n",
    "\n",
    "The end result of this exercise should be a file named `acquire.py`.\n",
    "\n",
    "1. Using the code from the lesson as a guide and the REST API from https://python.zgulde.net/api/v1/items as we did in the lesson, create a dataframe named `items` that has all of the data for items.\n",
    "2. Do the same thing, but for `stores` (https://python.zgulde.net/api/v1/stores)\n",
    "3. Extract the data for `sales` (https://python.zgulde.net/api/v1/sales). There are a lot of pages of data here, so your code will need to be a little more complex. Your code should continue fetching data from the next page until all of the data is extracted.\n",
    "4. Save the data in your files to local csv files so that it will be faster to access in the future.\n",
    "5. Combine the data from your three separate dataframes into one large dataframe.\n",
    "6. Acquire the Open Power Systems Data for Germany, which has been rapidly expanding its renewable energy production in recent years. The data set includes country-wide totals of electricity consumption, wind power production, and solar power production for 2006-2017. You can get the data here: https://raw.githubusercontent.com/jenfly/opsd/master/opsd_germany_daily.csv\n",
    "7. Make sure all the work that you have done above is reproducible. That is, you should put the code above into separate functions in the `acquire.py` file and be able to re-run the functions and get the same data."
   ]
  },
  {
   "cell_type": "code",
   "execution_count": null,
   "id": "bf44c7f2",
   "metadata": {},
   "outputs": [],
   "source": []
  }
 ],
 "metadata": {
  "kernelspec": {
   "display_name": "Python 3",
   "language": "python",
   "name": "python3"
  },
  "language_info": {
   "codemirror_mode": {
    "name": "ipython",
    "version": 3
   },
   "file_extension": ".py",
   "mimetype": "text/x-python",
   "name": "python",
   "nbconvert_exporter": "python",
   "pygments_lexer": "ipython3",
   "version": "3.8.8"
  }
 },
 "nbformat": 4,
 "nbformat_minor": 5
}
