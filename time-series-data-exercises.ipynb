{
 "cells": [
  {
   "cell_type": "markdown",
   "id": "e5b2910f",
   "metadata": {},
   "source": [
    "# Time series data exercises"
   ]
  },
  {
   "cell_type": "code",
   "execution_count": 1,
   "id": "e8ec0b28",
   "metadata": {},
   "outputs": [
    {
     "data": {
      "application/javascript": [
       "IPython.notebook.set_autosave_interval(0)"
      ]
     },
     "metadata": {},
     "output_type": "display_data"
    },
    {
     "name": "stdout",
     "output_type": "stream",
     "text": [
      "Autosave disabled\n"
     ]
    }
   ],
   "source": [
    "#Disable autosave\n",
    "%autosave 0"
   ]
  },
  {
   "cell_type": "code",
   "execution_count": 2,
   "id": "983a128e",
   "metadata": {},
   "outputs": [],
   "source": [
    "#Import dependencies\n",
    "import pandas as pd\n",
    "import numpy as np\n",
    "from vega_datasets import data"
   ]
  },
  {
   "cell_type": "code",
   "execution_count": 3,
   "id": "ac93a4cc",
   "metadata": {},
   "outputs": [],
   "source": [
    "#Read in san francisco data\n",
    "temp_df = data.sf_temps()"
   ]
  },
  {
   "cell_type": "code",
   "execution_count": 4,
   "id": "acdf8e9c",
   "metadata": {},
   "outputs": [
    {
     "data": {
      "text/html": [
       "<div>\n",
       "<style scoped>\n",
       "    .dataframe tbody tr th:only-of-type {\n",
       "        vertical-align: middle;\n",
       "    }\n",
       "\n",
       "    .dataframe tbody tr th {\n",
       "        vertical-align: top;\n",
       "    }\n",
       "\n",
       "    .dataframe thead th {\n",
       "        text-align: right;\n",
       "    }\n",
       "</style>\n",
       "<table border=\"1\" class=\"dataframe\">\n",
       "  <thead>\n",
       "    <tr style=\"text-align: right;\">\n",
       "      <th></th>\n",
       "      <th>temp</th>\n",
       "      <th>date</th>\n",
       "    </tr>\n",
       "  </thead>\n",
       "  <tbody>\n",
       "    <tr>\n",
       "      <th>0</th>\n",
       "      <td>47.8</td>\n",
       "      <td>2010-01-01 00:00:00</td>\n",
       "    </tr>\n",
       "    <tr>\n",
       "      <th>1</th>\n",
       "      <td>47.4</td>\n",
       "      <td>2010-01-01 01:00:00</td>\n",
       "    </tr>\n",
       "    <tr>\n",
       "      <th>2</th>\n",
       "      <td>46.9</td>\n",
       "      <td>2010-01-01 02:00:00</td>\n",
       "    </tr>\n",
       "    <tr>\n",
       "      <th>3</th>\n",
       "      <td>46.5</td>\n",
       "      <td>2010-01-01 03:00:00</td>\n",
       "    </tr>\n",
       "    <tr>\n",
       "      <th>4</th>\n",
       "      <td>46.0</td>\n",
       "      <td>2010-01-01 04:00:00</td>\n",
       "    </tr>\n",
       "  </tbody>\n",
       "</table>\n",
       "</div>"
      ],
      "text/plain": [
       "   temp                date\n",
       "0  47.8 2010-01-01 00:00:00\n",
       "1  47.4 2010-01-01 01:00:00\n",
       "2  46.9 2010-01-01 02:00:00\n",
       "3  46.5 2010-01-01 03:00:00\n",
       "4  46.0 2010-01-01 04:00:00"
      ]
     },
     "execution_count": 4,
     "metadata": {},
     "output_type": "execute_result"
    }
   ],
   "source": [
    "#Check out the dataframe\n",
    "temp_df.head()"
   ]
  },
  {
   "cell_type": "code",
   "execution_count": 5,
   "id": "596e1361",
   "metadata": {},
   "outputs": [
    {
     "name": "stdout",
     "output_type": "stream",
     "text": [
      "<class 'pandas.core.frame.DataFrame'>\n",
      "RangeIndex: 8759 entries, 0 to 8758\n",
      "Data columns (total 2 columns):\n",
      " #   Column  Non-Null Count  Dtype         \n",
      "---  ------  --------------  -----         \n",
      " 0   temp    8759 non-null   float64       \n",
      " 1   date    8759 non-null   datetime64[ns]\n",
      "dtypes: datetime64[ns](1), float64(1)\n",
      "memory usage: 137.0 KB\n"
     ]
    }
   ],
   "source": [
    "#Check the datatype in the date column\n",
    "temp_df.info()"
   ]
  },
  {
   "cell_type": "code",
   "execution_count": 6,
   "id": "266b4f8e",
   "metadata": {},
   "outputs": [],
   "source": [
    "#Set the date as the index\n",
    "temp_df.set_index('date', inplace=True)"
   ]
  },
  {
   "cell_type": "markdown",
   "id": "edbde716",
   "metadata": {},
   "source": [
    "# sf_temps dataset\n",
    "\n",
    "## Question 1\n",
    "\n",
    "Resample by the day and take the average temperature. Visualize the average temperature over time."
   ]
  },
  {
   "cell_type": "code",
   "execution_count": 7,
   "id": "b917f3ce",
   "metadata": {},
   "outputs": [
    {
     "data": {
      "text/plain": [
       "<AxesSubplot:xlabel='date'>"
      ]
     },
     "execution_count": 7,
     "metadata": {},
     "output_type": "execute_result"
    },
    {
     "data": {
      "image/png": "[encoded data removed]",
      "text/plain": [
       "<Figure size 432x288 with 1 Axes>"
      ]
     },
     "metadata": {
      "needs_background": "light"
     },
     "output_type": "display_data"
    }
   ],
   "source": [
    "#Resample by day and plot the average temperature\n",
    "temp_df.resample('D').temp.mean().plot()"
   ]
  },
  {
   "cell_type": "markdown",
   "id": "770ac8de",
   "metadata": {},
   "source": [
    "## Question 2\n",
    "\n",
    "Write the code necessary to visualize the minimum temperature over time."
   ]
  },
  {
   "cell_type": "code",
   "execution_count": 8,
   "id": "c094cb65",
   "metadata": {},
   "outputs": [
    {
     "data": {
      "text/plain": [
       "<AxesSubplot:xlabel='date'>"
      ]
     },
     "execution_count": 8,
     "metadata": {},
     "output_type": "execute_result"
    },
    {
     "data": {
      "image/png": "[encoded data removed]",
      "text/plain": [
       "<Figure size 432x288 with 1 Axes>"
      ]
     },
     "metadata": {
      "needs_background": "light"
     },
     "output_type": "display_data"
    }
   ],
   "source": [
    "#Resample by day and plot the minimum temperature\n",
    "temp_df.resample('D').temp.min().plot()"
   ]
  },
  {
   "cell_type": "markdown",
   "id": "7e9f6514",
   "metadata": {},
   "source": [
    "## Question 3\n",
    "\n",
    "Write the code necessary to visualize the maximum temperature over time."
   ]
  },
  {
   "cell_type": "code",
   "execution_count": 9,
   "id": "c225402f",
   "metadata": {},
   "outputs": [
    {
     "data": {
      "text/plain": [
       "<AxesSubplot:xlabel='date'>"
      ]
     },
     "execution_count": 9,
     "metadata": {},
     "output_type": "execute_result"
    },
    {
     "data": {
      "image/png": "[encoded data removed]",
      "text/plain": [
       "<Figure size 432x288 with 1 Axes>"
      ]
     },
     "metadata": {
      "needs_background": "light"
     },
     "output_type": "display_data"
    }
   ],
   "source": [
    "#Resample by day and plot the maximum temperature\n",
    "temp_df.resample('D').temp.max().plot()"
   ]
  },
  {
   "cell_type": "markdown",
   "id": "978a4cc1",
   "metadata": {},
   "source": [
    "## Questions 4 & 5\n",
    "\n",
    "Which month is the coldest, on average?\n",
    "\n",
    "Which month has the highest average temperature?"
   ]
  },
  {
   "cell_type": "code",
   "execution_count": 10,
   "id": "9760e568",
   "metadata": {},
   "outputs": [
    {
     "data": {
      "text/plain": [
       "date\n",
       "2010-01-31    49.984140\n",
       "2010-02-28    52.243899\n",
       "2010-03-31    53.956528\n",
       "2010-04-30    55.633056\n",
       "2010-05-31    57.970968\n",
       "2010-06-30    60.444722\n",
       "2010-07-31    61.765457\n",
       "2010-08-31    62.405376\n",
       "2010-09-30    62.487083\n",
       "2010-10-31    60.253091\n",
       "2010-11-30    55.185139\n",
       "2010-12-31    50.498253\n",
       "Freq: M, Name: temp, dtype: float64"
      ]
     },
     "execution_count": 10,
     "metadata": {},
     "output_type": "execute_result"
    }
   ],
   "source": [
    "#Resample by month and look at the average temperature\n",
    "temp_df.resample('M').temp.mean()"
   ]
  },
  {
   "cell_type": "code",
   "execution_count": 11,
   "id": "39e9c636",
   "metadata": {},
   "outputs": [
    {
     "data": {
      "text/plain": [
       "<AxesSubplot:xlabel='date'>"
      ]
     },
     "execution_count": 11,
     "metadata": {},
     "output_type": "execute_result"
    },
    {
     "data": {
      "image/png": "[encoded data removed]",
      "text/plain": [
       "<Figure size 432x288 with 1 Axes>"
      ]
     },
     "metadata": {
      "needs_background": "light"
     },
     "output_type": "display_data"
    }
   ],
   "source": [
    "#Plot the average temperature by month\n",
    "temp_df.resample('M').temp.mean().plot()"
   ]
  },
  {
   "cell_type": "code",
   "execution_count": 12,
   "id": "321a79cb",
   "metadata": {},
   "outputs": [
    {
     "data": {
      "text/plain": [
       "Timestamp('2010-01-31 00:00:00', freq='M')"
      ]
     },
     "execution_count": 12,
     "metadata": {},
     "output_type": "execute_result"
    }
   ],
   "source": [
    "#Alternative method to determine the minimum\n",
    "temp_df.resample('M').temp.mean().idxmin()"
   ]
  },
  {
   "cell_type": "code",
   "execution_count": 13,
   "id": "cd18aeb0",
   "metadata": {},
   "outputs": [
    {
     "data": {
      "text/plain": [
       "Timestamp('2010-09-30 00:00:00', freq='M')"
      ]
     },
     "execution_count": 13,
     "metadata": {},
     "output_type": "execute_result"
    }
   ],
   "source": [
    "#Same method applied to determine the maximum\n",
    "temp_df.resample('M').temp.mean().idxmax()"
   ]
  },
  {
   "cell_type": "markdown",
   "id": "07956b37",
   "metadata": {},
   "source": [
    "## Question 6\n",
    "\n",
    "Resample by the day and calculate the min and max temp for the day (Hint: .agg(['min', 'max'])). Use this resampled dataframe to calculate the change in temperature for the day. Which month has the highest daily temperature variability?"
   ]
  },
  {
   "cell_type": "code",
   "execution_count": 14,
   "id": "7c7556e6",
   "metadata": {},
   "outputs": [],
   "source": [
    "#Take the aggregate min and max for daily temperature\n",
    "minmax_df = temp_df.resample('D').temp.agg(['min', 'max'])"
   ]
  },
  {
   "cell_type": "code",
   "execution_count": 15,
   "id": "1515b927",
   "metadata": {},
   "outputs": [
    {
     "data": {
      "text/html": [
       "<div>\n",
       "<style scoped>\n",
       "    .dataframe tbody tr th:only-of-type {\n",
       "        vertical-align: middle;\n",
       "    }\n",
       "\n",
       "    .dataframe tbody tr th {\n",
       "        vertical-align: top;\n",
       "    }\n",
       "\n",
       "    .dataframe thead th {\n",
       "        text-align: right;\n",
       "    }\n",
       "</style>\n",
       "<table border=\"1\" class=\"dataframe\">\n",
       "  <thead>\n",
       "    <tr style=\"text-align: right;\">\n",
       "      <th></th>\n",
       "      <th>min</th>\n",
       "      <th>max</th>\n",
       "      <th>change</th>\n",
       "    </tr>\n",
       "    <tr>\n",
       "      <th>date</th>\n",
       "      <th></th>\n",
       "      <th></th>\n",
       "      <th></th>\n",
       "    </tr>\n",
       "  </thead>\n",
       "  <tbody>\n",
       "    <tr>\n",
       "      <th>2010-01-01</th>\n",
       "      <td>45.8</td>\n",
       "      <td>53.3</td>\n",
       "      <td>7.5</td>\n",
       "    </tr>\n",
       "    <tr>\n",
       "      <th>2010-01-02</th>\n",
       "      <td>46.0</td>\n",
       "      <td>53.4</td>\n",
       "      <td>7.4</td>\n",
       "    </tr>\n",
       "    <tr>\n",
       "      <th>2010-01-03</th>\n",
       "      <td>46.1</td>\n",
       "      <td>53.5</td>\n",
       "      <td>7.4</td>\n",
       "    </tr>\n",
       "    <tr>\n",
       "      <th>2010-01-04</th>\n",
       "      <td>46.1</td>\n",
       "      <td>53.6</td>\n",
       "      <td>7.5</td>\n",
       "    </tr>\n",
       "    <tr>\n",
       "      <th>2010-01-05</th>\n",
       "      <td>46.1</td>\n",
       "      <td>53.8</td>\n",
       "      <td>7.7</td>\n",
       "    </tr>\n",
       "  </tbody>\n",
       "</table>\n",
       "</div>"
      ],
      "text/plain": [
       "             min   max  change\n",
       "date                          \n",
       "2010-01-01  45.8  53.3     7.5\n",
       "2010-01-02  46.0  53.4     7.4\n",
       "2010-01-03  46.1  53.5     7.4\n",
       "2010-01-04  46.1  53.6     7.5\n",
       "2010-01-05  46.1  53.8     7.7"
      ]
     },
     "execution_count": 15,
     "metadata": {},
     "output_type": "execute_result"
    }
   ],
   "source": [
    "#Calculate the change\n",
    "minmax_df['change'] = minmax_df['max'] - minmax_df['min']\n",
    "minmax_df.head()"
   ]
  },
  {
   "cell_type": "code",
   "execution_count": 16,
   "id": "97f2d73f",
   "metadata": {},
   "outputs": [
    {
     "data": {
      "text/plain": [
       "date\n",
       "2010-01-31     8.341935\n",
       "2010-02-28     9.485714\n",
       "2010-03-31    10.854839\n",
       "2010-04-30    12.320000\n",
       "2010-05-31    12.909677\n",
       "2010-06-30    13.950000\n",
       "2010-07-31    13.977419\n",
       "2010-08-31    13.870968\n",
       "2010-09-30    14.403333\n",
       "2010-10-31    13.432258\n",
       "2010-11-30    10.236667\n",
       "2010-12-31     7.925806\n",
       "Freq: M, Name: change, dtype: float64"
      ]
     },
     "execution_count": 16,
     "metadata": {},
     "output_type": "execute_result"
    }
   ],
   "source": [
    "#Look at the average daily change for each month\n",
    "minmax_df.resample('M').change.mean()"
   ]
  },
  {
   "cell_type": "code",
   "execution_count": 17,
   "id": "5e3d4e06",
   "metadata": {},
   "outputs": [
    {
     "data": {
      "text/plain": [
       "Timestamp('2010-09-30 00:00:00', freq='M')"
      ]
     },
     "execution_count": 17,
     "metadata": {},
     "output_type": "execute_result"
    }
   ],
   "source": [
    "#Method to retrieve the specific month\n",
    "minmax_df.resample('M').change.mean().idxmax()"
   ]
  },
  {
   "cell_type": "markdown",
   "id": "4e6fba2b",
   "metadata": {},
   "source": [
    "# seattle_weather dataset\n",
    "\n",
    "## Question 1\n",
    "\n",
    "Which year and month combination has the highest amount of precipitation?"
   ]
  },
  {
   "cell_type": "code",
   "execution_count": 18,
   "id": "ff8c7e7b",
   "metadata": {},
   "outputs": [
    {
     "data": {
      "text/html": [
       "<div>\n",
       "<style scoped>\n",
       "    .dataframe tbody tr th:only-of-type {\n",
       "        vertical-align: middle;\n",
       "    }\n",
       "\n",
       "    .dataframe tbody tr th {\n",
       "        vertical-align: top;\n",
       "    }\n",
       "\n",
       "    .dataframe thead th {\n",
       "        text-align: right;\n",
       "    }\n",
       "</style>\n",
       "<table border=\"1\" class=\"dataframe\">\n",
       "  <thead>\n",
       "    <tr style=\"text-align: right;\">\n",
       "      <th></th>\n",
       "      <th>date</th>\n",
       "      <th>precipitation</th>\n",
       "      <th>temp_max</th>\n",
       "      <th>temp_min</th>\n",
       "      <th>wind</th>\n",
       "      <th>weather</th>\n",
       "    </tr>\n",
       "  </thead>\n",
       "  <tbody>\n",
       "    <tr>\n",
       "      <th>0</th>\n",
       "      <td>2012-01-01</td>\n",
       "      <td>0.0</td>\n",
       "      <td>12.8</td>\n",
       "      <td>5.0</td>\n",
       "      <td>4.7</td>\n",
       "      <td>drizzle</td>\n",
       "    </tr>\n",
       "    <tr>\n",
       "      <th>1</th>\n",
       "      <td>2012-01-02</td>\n",
       "      <td>10.9</td>\n",
       "      <td>10.6</td>\n",
       "      <td>2.8</td>\n",
       "      <td>4.5</td>\n",
       "      <td>rain</td>\n",
       "    </tr>\n",
       "    <tr>\n",
       "      <th>2</th>\n",
       "      <td>2012-01-03</td>\n",
       "      <td>0.8</td>\n",
       "      <td>11.7</td>\n",
       "      <td>7.2</td>\n",
       "      <td>2.3</td>\n",
       "      <td>rain</td>\n",
       "    </tr>\n",
       "    <tr>\n",
       "      <th>3</th>\n",
       "      <td>2012-01-04</td>\n",
       "      <td>20.3</td>\n",
       "      <td>12.2</td>\n",
       "      <td>5.6</td>\n",
       "      <td>4.7</td>\n",
       "      <td>rain</td>\n",
       "    </tr>\n",
       "    <tr>\n",
       "      <th>4</th>\n",
       "      <td>2012-01-05</td>\n",
       "      <td>1.3</td>\n",
       "      <td>8.9</td>\n",
       "      <td>2.8</td>\n",
       "      <td>6.1</td>\n",
       "      <td>rain</td>\n",
       "    </tr>\n",
       "  </tbody>\n",
       "</table>\n",
       "</div>"
      ],
      "text/plain": [
       "        date  precipitation  temp_max  temp_min  wind  weather\n",
       "0 2012-01-01            0.0      12.8       5.0   4.7  drizzle\n",
       "1 2012-01-02           10.9      10.6       2.8   4.5     rain\n",
       "2 2012-01-03            0.8      11.7       7.2   2.3     rain\n",
       "3 2012-01-04           20.3      12.2       5.6   4.7     rain\n",
       "4 2012-01-05            1.3       8.9       2.8   6.1     rain"
      ]
     },
     "execution_count": 18,
     "metadata": {},
     "output_type": "execute_result"
    }
   ],
   "source": [
    "#Read in the seattle weather data\n",
    "seattle_df = data.seattle_weather()\n",
    "seattle_df.head()"
   ]
  },
  {
   "cell_type": "code",
   "execution_count": 19,
   "id": "61a1ae6f",
   "metadata": {},
   "outputs": [
    {
     "name": "stdout",
     "output_type": "stream",
     "text": [
      "<class 'pandas.core.frame.DataFrame'>\n",
      "RangeIndex: 1461 entries, 0 to 1460\n",
      "Data columns (total 6 columns):\n",
      " #   Column         Non-Null Count  Dtype         \n",
      "---  ------         --------------  -----         \n",
      " 0   date           1461 non-null   datetime64[ns]\n",
      " 1   precipitation  1461 non-null   float64       \n",
      " 2   temp_max       1461 non-null   float64       \n",
      " 3   temp_min       1461 non-null   float64       \n",
      " 4   wind           1461 non-null   float64       \n",
      " 5   weather        1461 non-null   object        \n",
      "dtypes: datetime64[ns](1), float64(4), object(1)\n",
      "memory usage: 68.6+ KB\n"
     ]
    }
   ],
   "source": [
    "#Check if the date column is in datetime format\n",
    "seattle_df.info()"
   ]
  },
  {
   "cell_type": "code",
   "execution_count": 20,
   "id": "f114b150",
   "metadata": {},
   "outputs": [
    {
     "data": {
      "text/html": [
       "<div>\n",
       "<style scoped>\n",
       "    .dataframe tbody tr th:only-of-type {\n",
       "        vertical-align: middle;\n",
       "    }\n",
       "\n",
       "    .dataframe tbody tr th {\n",
       "        vertical-align: top;\n",
       "    }\n",
       "\n",
       "    .dataframe thead th {\n",
       "        text-align: right;\n",
       "    }\n",
       "</style>\n",
       "<table border=\"1\" class=\"dataframe\">\n",
       "  <thead>\n",
       "    <tr style=\"text-align: right;\">\n",
       "      <th></th>\n",
       "      <th>precipitation</th>\n",
       "      <th>temp_max</th>\n",
       "      <th>temp_min</th>\n",
       "      <th>wind</th>\n",
       "      <th>weather</th>\n",
       "    </tr>\n",
       "    <tr>\n",
       "      <th>date</th>\n",
       "      <th></th>\n",
       "      <th></th>\n",
       "      <th></th>\n",
       "      <th></th>\n",
       "      <th></th>\n",
       "    </tr>\n",
       "  </thead>\n",
       "  <tbody>\n",
       "    <tr>\n",
       "      <th>2012-01-01</th>\n",
       "      <td>0.0</td>\n",
       "      <td>12.8</td>\n",
       "      <td>5.0</td>\n",
       "      <td>4.7</td>\n",
       "      <td>drizzle</td>\n",
       "    </tr>\n",
       "    <tr>\n",
       "      <th>2012-01-02</th>\n",
       "      <td>10.9</td>\n",
       "      <td>10.6</td>\n",
       "      <td>2.8</td>\n",
       "      <td>4.5</td>\n",
       "      <td>rain</td>\n",
       "    </tr>\n",
       "    <tr>\n",
       "      <th>2012-01-03</th>\n",
       "      <td>0.8</td>\n",
       "      <td>11.7</td>\n",
       "      <td>7.2</td>\n",
       "      <td>2.3</td>\n",
       "      <td>rain</td>\n",
       "    </tr>\n",
       "    <tr>\n",
       "      <th>2012-01-04</th>\n",
       "      <td>20.3</td>\n",
       "      <td>12.2</td>\n",
       "      <td>5.6</td>\n",
       "      <td>4.7</td>\n",
       "      <td>rain</td>\n",
       "    </tr>\n",
       "    <tr>\n",
       "      <th>2012-01-05</th>\n",
       "      <td>1.3</td>\n",
       "      <td>8.9</td>\n",
       "      <td>2.8</td>\n",
       "      <td>6.1</td>\n",
       "      <td>rain</td>\n",
       "    </tr>\n",
       "  </tbody>\n",
       "</table>\n",
       "</div>"
      ],
      "text/plain": [
       "            precipitation  temp_max  temp_min  wind  weather\n",
       "date                                                        \n",
       "2012-01-01            0.0      12.8       5.0   4.7  drizzle\n",
       "2012-01-02           10.9      10.6       2.8   4.5     rain\n",
       "2012-01-03            0.8      11.7       7.2   2.3     rain\n",
       "2012-01-04           20.3      12.2       5.6   4.7     rain\n",
       "2012-01-05            1.3       8.9       2.8   6.1     rain"
      ]
     },
     "execution_count": 20,
     "metadata": {},
     "output_type": "execute_result"
    }
   ],
   "source": [
    "#Set the date as the index\n",
    "seattle_df.set_index('date', inplace=True)\n",
    "seattle_df.head()"
   ]
  },
  {
   "cell_type": "code",
   "execution_count": 21,
   "id": "cd2c756f",
   "metadata": {},
   "outputs": [
    {
     "data": {
      "text/plain": [
       "date\n",
       "2012-01-31    173.3\n",
       "2012-02-29     92.3\n",
       "2012-03-31    183.0\n",
       "2012-04-30     68.1\n",
       "2012-05-31     52.2\n",
       "2012-06-30     75.1\n",
       "2012-07-31     26.3\n",
       "2012-08-31      0.0\n",
       "2012-09-30      0.9\n",
       "2012-10-31    170.3\n",
       "2012-11-30    210.5\n",
       "2012-12-31    174.0\n",
       "2013-01-31    105.7\n",
       "2013-02-28     40.3\n",
       "2013-03-31     69.7\n",
       "2013-04-30    149.6\n",
       "2013-05-31     60.5\n",
       "2013-06-30     33.1\n",
       "2013-07-31      0.0\n",
       "2013-08-31     34.4\n",
       "2013-09-30    156.8\n",
       "2013-10-31     39.2\n",
       "2013-11-30     96.3\n",
       "2013-12-31     42.4\n",
       "2014-01-31     94.0\n",
       "2014-02-28    155.2\n",
       "2014-03-31    240.0\n",
       "2014-04-30    106.1\n",
       "2014-05-31     80.0\n",
       "2014-06-30     18.8\n",
       "2014-07-31     19.6\n",
       "2014-08-31     46.0\n",
       "2014-09-30     56.7\n",
       "2014-10-31    171.5\n",
       "2014-11-30    123.1\n",
       "2014-12-31    121.8\n",
       "2015-01-31     93.0\n",
       "2015-02-28    134.2\n",
       "2015-03-31    113.5\n",
       "2015-04-30     51.6\n",
       "2015-05-31     14.8\n",
       "2015-06-30      5.9\n",
       "2015-07-31      2.3\n",
       "2015-08-31     83.3\n",
       "2015-09-30     21.1\n",
       "2015-10-31    122.4\n",
       "2015-11-30    212.6\n",
       "2015-12-31    284.5\n",
       "Freq: M, Name: precipitation, dtype: float64"
      ]
     },
     "execution_count": 21,
     "metadata": {},
     "output_type": "execute_result"
    }
   ],
   "source": [
    "#Resample by month and sum the precipitation\n",
    "seattle_df.resample('M').precipitation.sum()"
   ]
  },
  {
   "cell_type": "code",
   "execution_count": 22,
   "id": "b95f4c12",
   "metadata": {},
   "outputs": [
    {
     "data": {
      "text/plain": [
       "284.5"
      ]
     },
     "execution_count": 22,
     "metadata": {},
     "output_type": "execute_result"
    }
   ],
   "source": [
    "#What is the maximum amount of precipitation?\n",
    "seattle_df.resample('M').precipitation.sum().max()"
   ]
  },
  {
   "cell_type": "code",
   "execution_count": 23,
   "id": "7b25972a",
   "metadata": {},
   "outputs": [
    {
     "data": {
      "text/plain": [
       "Timestamp('2015-12-31 00:00:00', freq='M')"
      ]
     },
     "execution_count": 23,
     "metadata": {},
     "output_type": "execute_result"
    }
   ],
   "source": [
    "#Take the index of the maximum value to find the month/year combination\n",
    "seattle_df.resample('M').precipitation.sum().idxmax()"
   ]
  },
  {
   "cell_type": "code",
   "execution_count": 24,
   "id": "02b7e5b4",
   "metadata": {},
   "outputs": [
    {
     "data": {
      "text/plain": [
       "'December, 2015'"
      ]
     },
     "execution_count": 24,
     "metadata": {},
     "output_type": "execute_result"
    }
   ],
   "source": [
    "#Use strftime to make the information easier to read\n",
    "seattle_df.resample('M').precipitation.sum().idxmax().strftime('%B, %Y')"
   ]
  },
  {
   "cell_type": "markdown",
   "id": "a3f98d83",
   "metadata": {},
   "source": [
    "## Question 2\n",
    "\n",
    "Visualize the amount of monthly precipitation over time."
   ]
  },
  {
   "cell_type": "code",
   "execution_count": 25,
   "id": "000541c9",
   "metadata": {},
   "outputs": [
    {
     "data": {
      "text/plain": [
       "<AxesSubplot:xlabel='date'>"
      ]
     },
     "execution_count": 25,
     "metadata": {},
     "output_type": "execute_result"
    },
    {
     "data": {
      "image/png": "[encoded data removed]",
      "text/plain": [
       "<Figure size 432x288 with 1 Axes>"
      ]
     },
     "metadata": {
      "needs_background": "light"
     },
     "output_type": "display_data"
    }
   ],
   "source": [
    "#Plot the monthly precipitation\n",
    "seattle_df.resample('M').precipitation.sum().plot()"
   ]
  },
  {
   "cell_type": "markdown",
   "id": "95d322ca",
   "metadata": {},
   "source": [
    "## Question 3\n",
    "\n",
    "Visualize the amount of wind over time. Choose a time interval you think is appropriate."
   ]
  },
  {
   "cell_type": "code",
   "execution_count": 26,
   "id": "890f4b1b",
   "metadata": {},
   "outputs": [
    {
     "data": {
      "text/plain": [
       "<AxesSubplot:xlabel='date'>"
      ]
     },
     "execution_count": 26,
     "metadata": {},
     "output_type": "execute_result"
    },
    {
     "data": {
      "image/png": "[encoded data removed]",
      "text/plain": [
       "<Figure size 432x288 with 1 Axes>"
      ]
     },
     "metadata": {
      "needs_background": "light"
     },
     "output_type": "display_data"
    }
   ],
   "source": [
    "#Amount of wind per month\n",
    "seattle_df.resample('M').wind.sum().plot()"
   ]
  },
  {
   "cell_type": "markdown",
   "id": "7e7184f1",
   "metadata": {},
   "source": [
    "## Question 4\n",
    "\n",
    "Which year-month combination is the windiest?"
   ]
  },
  {
   "cell_type": "code",
   "execution_count": 27,
   "id": "e63789e6",
   "metadata": {},
   "outputs": [
    {
     "data": {
      "text/plain": [
       "date\n",
       "2012-01-31    120.9\n",
       "2012-02-29    113.2\n",
       "2012-03-31    131.7\n",
       "2012-04-30    101.2\n",
       "2012-05-31    104.0\n",
       "2012-06-30     92.5\n",
       "2012-07-31     89.2\n",
       "2012-08-31     87.7\n",
       "2012-09-30     79.4\n",
       "2012-10-31    109.5\n",
       "2012-11-30     96.6\n",
       "2012-12-31    118.8\n",
       "2013-01-31     89.2\n",
       "2013-02-28    101.7\n",
       "2013-03-31    107.3\n",
       "2013-04-30    111.4\n",
       "2013-05-31     97.9\n",
       "2013-06-30     90.1\n",
       "2013-07-31     83.3\n",
       "2013-08-31     78.8\n",
       "2013-09-30     90.4\n",
       "2013-10-31     70.5\n",
       "2013-11-30     95.4\n",
       "2013-12-31     84.8\n",
       "2014-01-31    103.8\n",
       "2014-02-28    126.8\n",
       "2014-03-31    114.0\n",
       "2014-04-30    110.9\n",
       "2014-05-31     97.8\n",
       "2014-06-30     95.7\n",
       "2014-07-31     96.0\n",
       "2014-08-31     76.8\n",
       "2014-09-30     94.3\n",
       "2014-10-31     90.4\n",
       "2014-11-30    119.5\n",
       "2014-12-31    110.5\n",
       "2015-01-31     75.3\n",
       "2015-02-28     86.2\n",
       "2015-03-31     90.9\n",
       "2015-04-30     99.4\n",
       "2015-05-31     87.2\n",
       "2015-06-30     97.4\n",
       "2015-07-31     92.5\n",
       "2015-08-31     97.8\n",
       "2015-09-30     91.5\n",
       "2015-10-31     94.1\n",
       "2015-11-30    106.4\n",
       "2015-12-31    134.6\n",
       "Freq: M, Name: wind, dtype: float64"
      ]
     },
     "execution_count": 27,
     "metadata": {},
     "output_type": "execute_result"
    }
   ],
   "source": [
    "#Resample data by month\n",
    "seattle_df.resample('M').wind.sum()"
   ]
  },
  {
   "cell_type": "code",
   "execution_count": 28,
   "id": "12c402a4",
   "metadata": {},
   "outputs": [
    {
     "data": {
      "text/plain": [
       "Timestamp('2015-12-31 00:00:00', freq='M')"
      ]
     },
     "execution_count": 28,
     "metadata": {},
     "output_type": "execute_result"
    }
   ],
   "source": [
    "#Use idxmax to get the year/month combination\n",
    "seattle_df.resample('M').wind.sum().idxmax()"
   ]
  },
  {
   "cell_type": "code",
   "execution_count": 29,
   "id": "e21bffc5",
   "metadata": {},
   "outputs": [
    {
     "data": {
      "text/plain": [
       "'December, 2015'"
      ]
     },
     "execution_count": 29,
     "metadata": {},
     "output_type": "execute_result"
    }
   ],
   "source": [
    "#Use strftime to extract the relevant information\n",
    "seattle_df.resample('M').wind.sum().idxmax().strftime('%B, %Y')"
   ]
  },
  {
   "cell_type": "markdown",
   "id": "fb4bd8f6",
   "metadata": {},
   "source": [
    "## Question 5\n",
    "\n",
    "What's the sunniest year? (Hint: which year has the highest number of days where weather == sun?)"
   ]
  },
  {
   "cell_type": "code",
   "execution_count": 30,
   "id": "6b7bfa95",
   "metadata": {},
   "outputs": [
    {
     "data": {
      "text/plain": [
       "sun        714\n",
       "fog        411\n",
       "rain       259\n",
       "drizzle     54\n",
       "snow        23\n",
       "Name: weather, dtype: int64"
      ]
     },
     "execution_count": 30,
     "metadata": {},
     "output_type": "execute_result"
    }
   ],
   "source": [
    "#What values are in my weather column?\n",
    "seattle_df.weather.value_counts()"
   ]
  },
  {
   "cell_type": "code",
   "execution_count": 31,
   "id": "86bf5b52",
   "metadata": {},
   "outputs": [
    {
     "data": {
      "text/plain": [
       "date        weather\n",
       "2012-12-31  rain       191\n",
       "            sun        118\n",
       "            drizzle     31\n",
       "            snow        21\n",
       "            fog          5\n",
       "2013-12-31  sun        205\n",
       "            fog         82\n",
       "            rain        60\n",
       "            drizzle     16\n",
       "            snow         2\n",
       "2014-12-31  sun        211\n",
       "            fog        151\n",
       "            rain         3\n",
       "2015-12-31  sun        180\n",
       "            fog        173\n",
       "            drizzle      7\n",
       "            rain         5\n",
       "Name: weather, dtype: int64"
      ]
     },
     "execution_count": 31,
     "metadata": {},
     "output_type": "execute_result"
    }
   ],
   "source": [
    "#Resample by year and take the value counts of weather\n",
    "seattle_df.resample('Y').weather.value_counts()"
   ]
  },
  {
   "cell_type": "markdown",
   "id": "221f181b",
   "metadata": {},
   "source": [
    "## Question 6\n",
    "\n",
    "In which month does it rain the most?"
   ]
  },
  {
   "cell_type": "code",
   "execution_count": 32,
   "id": "3a7f5e08",
   "metadata": {},
   "outputs": [
    {
     "data": {
      "text/plain": [
       "date\n",
       "2012-01-31    173.3\n",
       "2012-02-29     92.3\n",
       "2012-03-31    183.0\n",
       "2012-04-30     68.1\n",
       "2012-05-31     52.2\n",
       "2012-06-30     75.1\n",
       "2012-07-31     26.3\n",
       "2012-08-31      0.0\n",
       "2012-09-30      0.9\n",
       "2012-10-31    170.3\n",
       "2012-11-30    210.5\n",
       "2012-12-31    174.0\n",
       "2013-01-31    105.7\n",
       "2013-02-28     40.3\n",
       "2013-03-31     69.7\n",
       "2013-04-30    149.6\n",
       "2013-05-31     60.5\n",
       "2013-06-30     33.1\n",
       "2013-07-31      0.0\n",
       "2013-08-31     34.4\n",
       "2013-09-30    156.8\n",
       "2013-10-31     39.2\n",
       "2013-11-30     96.3\n",
       "2013-12-31     42.4\n",
       "2014-01-31     94.0\n",
       "2014-02-28    155.2\n",
       "2014-03-31    240.0\n",
       "2014-04-30    106.1\n",
       "2014-05-31     80.0\n",
       "2014-06-30     18.8\n",
       "2014-07-31     19.6\n",
       "2014-08-31     46.0\n",
       "2014-09-30     56.7\n",
       "2014-10-31    171.5\n",
       "2014-11-30    123.1\n",
       "2014-12-31    121.8\n",
       "2015-01-31     93.0\n",
       "2015-02-28    134.2\n",
       "2015-03-31    113.5\n",
       "2015-04-30     51.6\n",
       "2015-05-31     14.8\n",
       "2015-06-30      5.9\n",
       "2015-07-31      2.3\n",
       "2015-08-31     83.3\n",
       "2015-09-30     21.1\n",
       "2015-10-31    122.4\n",
       "2015-11-30    212.6\n",
       "2015-12-31    284.5\n",
       "Freq: M, Name: precipitation, dtype: float64"
      ]
     },
     "execution_count": 32,
     "metadata": {},
     "output_type": "execute_result"
    }
   ],
   "source": [
    "#Resample by month and sum the precipitation\n",
    "seattle_df.resample('M').precipitation.sum()"
   ]
  },
  {
   "cell_type": "code",
   "execution_count": 33,
   "id": "566ff4d2",
   "metadata": {},
   "outputs": [
    {
     "data": {
      "text/html": [
       "<div>\n",
       "<style scoped>\n",
       "    .dataframe tbody tr th:only-of-type {\n",
       "        vertical-align: middle;\n",
       "    }\n",
       "\n",
       "    .dataframe tbody tr th {\n",
       "        vertical-align: top;\n",
       "    }\n",
       "\n",
       "    .dataframe thead th {\n",
       "        text-align: right;\n",
       "    }\n",
       "</style>\n",
       "<table border=\"1\" class=\"dataframe\">\n",
       "  <thead>\n",
       "    <tr style=\"text-align: right;\">\n",
       "      <th></th>\n",
       "      <th>precipitation</th>\n",
       "    </tr>\n",
       "    <tr>\n",
       "      <th>date</th>\n",
       "      <th></th>\n",
       "    </tr>\n",
       "  </thead>\n",
       "  <tbody>\n",
       "    <tr>\n",
       "      <th>2012-01-31</th>\n",
       "      <td>173.3</td>\n",
       "    </tr>\n",
       "    <tr>\n",
       "      <th>2012-02-29</th>\n",
       "      <td>92.3</td>\n",
       "    </tr>\n",
       "    <tr>\n",
       "      <th>2012-03-31</th>\n",
       "      <td>183.0</td>\n",
       "    </tr>\n",
       "    <tr>\n",
       "      <th>2012-04-30</th>\n",
       "      <td>68.1</td>\n",
       "    </tr>\n",
       "    <tr>\n",
       "      <th>2012-05-31</th>\n",
       "      <td>52.2</td>\n",
       "    </tr>\n",
       "  </tbody>\n",
       "</table>\n",
       "</div>"
      ],
      "text/plain": [
       "            precipitation\n",
       "date                     \n",
       "2012-01-31          173.3\n",
       "2012-02-29           92.3\n",
       "2012-03-31          183.0\n",
       "2012-04-30           68.1\n",
       "2012-05-31           52.2"
      ]
     },
     "execution_count": 33,
     "metadata": {},
     "output_type": "execute_result"
    }
   ],
   "source": [
    "#Create a dataframe of this resampling\n",
    "rain_by_month = pd.DataFrame(seattle_df.resample('M').precipitation.sum())\n",
    "rain_by_month.head()"
   ]
  },
  {
   "cell_type": "code",
   "execution_count": 34,
   "id": "cae51241",
   "metadata": {},
   "outputs": [],
   "source": [
    "#Create a new column containing the month\n",
    "rain_by_month['month'] = rain_by_month.index.strftime('%B')"
   ]
  },
  {
   "cell_type": "code",
   "execution_count": 35,
   "id": "eb8c6faf",
   "metadata": {},
   "outputs": [
    {
     "data": {
      "text/html": [
       "<div>\n",
       "<style scoped>\n",
       "    .dataframe tbody tr th:only-of-type {\n",
       "        vertical-align: middle;\n",
       "    }\n",
       "\n",
       "    .dataframe tbody tr th {\n",
       "        vertical-align: top;\n",
       "    }\n",
       "\n",
       "    .dataframe thead th {\n",
       "        text-align: right;\n",
       "    }\n",
       "</style>\n",
       "<table border=\"1\" class=\"dataframe\">\n",
       "  <thead>\n",
       "    <tr style=\"text-align: right;\">\n",
       "      <th></th>\n",
       "      <th>precipitation</th>\n",
       "      <th>month</th>\n",
       "    </tr>\n",
       "    <tr>\n",
       "      <th>date</th>\n",
       "      <th></th>\n",
       "      <th></th>\n",
       "    </tr>\n",
       "  </thead>\n",
       "  <tbody>\n",
       "    <tr>\n",
       "      <th>2012-01-31</th>\n",
       "      <td>173.3</td>\n",
       "      <td>January</td>\n",
       "    </tr>\n",
       "    <tr>\n",
       "      <th>2012-02-29</th>\n",
       "      <td>92.3</td>\n",
       "      <td>February</td>\n",
       "    </tr>\n",
       "    <tr>\n",
       "      <th>2012-03-31</th>\n",
       "      <td>183.0</td>\n",
       "      <td>March</td>\n",
       "    </tr>\n",
       "    <tr>\n",
       "      <th>2012-04-30</th>\n",
       "      <td>68.1</td>\n",
       "      <td>April</td>\n",
       "    </tr>\n",
       "    <tr>\n",
       "      <th>2012-05-31</th>\n",
       "      <td>52.2</td>\n",
       "      <td>May</td>\n",
       "    </tr>\n",
       "  </tbody>\n",
       "</table>\n",
       "</div>"
      ],
      "text/plain": [
       "            precipitation     month\n",
       "date                               \n",
       "2012-01-31          173.3   January\n",
       "2012-02-29           92.3  February\n",
       "2012-03-31          183.0     March\n",
       "2012-04-30           68.1     April\n",
       "2012-05-31           52.2       May"
      ]
     },
     "execution_count": 35,
     "metadata": {},
     "output_type": "execute_result"
    }
   ],
   "source": [
    "#Verify my new column exists\n",
    "rain_by_month.head()"
   ]
  },
  {
   "cell_type": "code",
   "execution_count": 36,
   "id": "a900e340",
   "metadata": {},
   "outputs": [
    {
     "data": {
      "text/plain": [
       "month\n",
       "April         93.850\n",
       "August        40.925\n",
       "December     155.675\n",
       "February     105.500\n",
       "January      116.500\n",
       "July          12.050\n",
       "June          33.225\n",
       "March        151.550\n",
       "May           51.875\n",
       "November     160.625\n",
       "October      125.850\n",
       "September     58.875\n",
       "Name: precipitation, dtype: float64"
      ]
     },
     "execution_count": 36,
     "metadata": {},
     "output_type": "execute_result"
    }
   ],
   "source": [
    "#Group by the month and take the average precipitation\n",
    "rain_by_month.groupby('month').precipitation.mean()"
   ]
  },
  {
   "cell_type": "code",
   "execution_count": 37,
   "id": "1c4e529c",
   "metadata": {},
   "outputs": [
    {
     "data": {
      "text/plain": [
       "'November'"
      ]
     },
     "execution_count": 37,
     "metadata": {},
     "output_type": "execute_result"
    }
   ],
   "source": [
    "#Use idxmax to get the month\n",
    "rain_by_month.groupby('month').precipitation.sum().idxmax()"
   ]
  },
  {
   "cell_type": "markdown",
   "id": "e2d607d7",
   "metadata": {},
   "source": [
    "## Question 7\n",
    "\n",
    "Which month has the most number of days with a non-zero amount of precipitation?"
   ]
  },
  {
   "cell_type": "code",
   "execution_count": 38,
   "id": "ad81bdf6",
   "metadata": {},
   "outputs": [
    {
     "data": {
      "text/html": [
       "<div>\n",
       "<style scoped>\n",
       "    .dataframe tbody tr th:only-of-type {\n",
       "        vertical-align: middle;\n",
       "    }\n",
       "\n",
       "    .dataframe tbody tr th {\n",
       "        vertical-align: top;\n",
       "    }\n",
       "\n",
       "    .dataframe thead th {\n",
       "        text-align: right;\n",
       "    }\n",
       "</style>\n",
       "<table border=\"1\" class=\"dataframe\">\n",
       "  <thead>\n",
       "    <tr style=\"text-align: right;\">\n",
       "      <th></th>\n",
       "      <th>precipitation</th>\n",
       "      <th>temp_max</th>\n",
       "      <th>temp_min</th>\n",
       "      <th>wind</th>\n",
       "      <th>weather</th>\n",
       "      <th>did_rain</th>\n",
       "    </tr>\n",
       "    <tr>\n",
       "      <th>date</th>\n",
       "      <th></th>\n",
       "      <th></th>\n",
       "      <th></th>\n",
       "      <th></th>\n",
       "      <th></th>\n",
       "      <th></th>\n",
       "    </tr>\n",
       "  </thead>\n",
       "  <tbody>\n",
       "    <tr>\n",
       "      <th>2012-01-01</th>\n",
       "      <td>0.0</td>\n",
       "      <td>12.8</td>\n",
       "      <td>5.0</td>\n",
       "      <td>4.7</td>\n",
       "      <td>drizzle</td>\n",
       "      <td>0</td>\n",
       "    </tr>\n",
       "    <tr>\n",
       "      <th>2012-01-02</th>\n",
       "      <td>10.9</td>\n",
       "      <td>10.6</td>\n",
       "      <td>2.8</td>\n",
       "      <td>4.5</td>\n",
       "      <td>rain</td>\n",
       "      <td>1</td>\n",
       "    </tr>\n",
       "    <tr>\n",
       "      <th>2012-01-03</th>\n",
       "      <td>0.8</td>\n",
       "      <td>11.7</td>\n",
       "      <td>7.2</td>\n",
       "      <td>2.3</td>\n",
       "      <td>rain</td>\n",
       "      <td>1</td>\n",
       "    </tr>\n",
       "    <tr>\n",
       "      <th>2012-01-04</th>\n",
       "      <td>20.3</td>\n",
       "      <td>12.2</td>\n",
       "      <td>5.6</td>\n",
       "      <td>4.7</td>\n",
       "      <td>rain</td>\n",
       "      <td>1</td>\n",
       "    </tr>\n",
       "    <tr>\n",
       "      <th>2012-01-05</th>\n",
       "      <td>1.3</td>\n",
       "      <td>8.9</td>\n",
       "      <td>2.8</td>\n",
       "      <td>6.1</td>\n",
       "      <td>rain</td>\n",
       "      <td>1</td>\n",
       "    </tr>\n",
       "  </tbody>\n",
       "</table>\n",
       "</div>"
      ],
      "text/plain": [
       "            precipitation  temp_max  temp_min  wind  weather  did_rain\n",
       "date                                                                  \n",
       "2012-01-01            0.0      12.8       5.0   4.7  drizzle         0\n",
       "2012-01-02           10.9      10.6       2.8   4.5     rain         1\n",
       "2012-01-03            0.8      11.7       7.2   2.3     rain         1\n",
       "2012-01-04           20.3      12.2       5.6   4.7     rain         1\n",
       "2012-01-05            1.3       8.9       2.8   6.1     rain         1"
      ]
     },
     "execution_count": 38,
     "metadata": {},
     "output_type": "execute_result"
    }
   ],
   "source": [
    "#Create a new column that records whether or not it rained at all\n",
    "seattle_df['did_rain'] = np.where(seattle_df['precipitation'] == 0, 0, 1)\n",
    "seattle_df.head()"
   ]
  },
  {
   "cell_type": "code",
   "execution_count": 39,
   "id": "651ef5ba",
   "metadata": {},
   "outputs": [
    {
     "data": {
      "text/plain": [
       "date\n",
       "2012-01-31    22\n",
       "2012-02-29    19\n",
       "2012-03-31    22\n",
       "2012-04-30    17\n",
       "2012-05-31    10\n",
       "2012-06-30    14\n",
       "2012-07-31     7\n",
       "2012-08-31     0\n",
       "2012-09-30     3\n",
       "2012-10-31    16\n",
       "2012-11-30    20\n",
       "2012-12-31    27\n",
       "2013-01-31    17\n",
       "2013-02-28    18\n",
       "2013-03-31    15\n",
       "2013-04-30    16\n",
       "2013-05-31    12\n",
       "2013-06-30    10\n",
       "2013-07-31     0\n",
       "2013-08-31     9\n",
       "2013-09-30    14\n",
       "2013-10-31    12\n",
       "2013-11-30    15\n",
       "2013-12-31    14\n",
       "2014-01-31    13\n",
       "2014-02-28    19\n",
       "2014-03-31    20\n",
       "2014-04-30    13\n",
       "2014-05-31     8\n",
       "2014-06-30     9\n",
       "2014-07-31     2\n",
       "2014-08-31     7\n",
       "2014-09-30     9\n",
       "2014-10-31    19\n",
       "2014-11-30    16\n",
       "2014-12-31    15\n",
       "2015-01-31    14\n",
       "2015-02-28    17\n",
       "2015-03-31    16\n",
       "2015-04-30    13\n",
       "2015-05-31     4\n",
       "2015-06-30     4\n",
       "2015-07-31     2\n",
       "2015-08-31     6\n",
       "2015-09-30     9\n",
       "2015-10-31    14\n",
       "2015-11-30    20\n",
       "2015-12-31    25\n",
       "Freq: M, Name: did_rain, dtype: int64"
      ]
     },
     "execution_count": 39,
     "metadata": {},
     "output_type": "execute_result"
    }
   ],
   "source": [
    "#Resample by month\n",
    "seattle_df.resample('M').did_rain.sum()"
   ]
  },
  {
   "cell_type": "code",
   "execution_count": 40,
   "id": "d29d856e",
   "metadata": {},
   "outputs": [
    {
     "data": {
      "text/plain": [
       "'December, 2012'"
      ]
     },
     "execution_count": 40,
     "metadata": {},
     "output_type": "execute_result"
    }
   ],
   "source": [
    "#Resample by month, look at the sum of did_rain, and extract the month and year\n",
    "seattle_df.resample('M').did_rain.sum().idxmax().strftime('%B, %Y')"
   ]
  },
  {
   "cell_type": "code",
   "execution_count": 41,
   "id": "861c2383",
   "metadata": {},
   "outputs": [
    {
     "data": {
      "text/html": [
       "<div>\n",
       "<style scoped>\n",
       "    .dataframe tbody tr th:only-of-type {\n",
       "        vertical-align: middle;\n",
       "    }\n",
       "\n",
       "    .dataframe tbody tr th {\n",
       "        vertical-align: top;\n",
       "    }\n",
       "\n",
       "    .dataframe thead th {\n",
       "        text-align: right;\n",
       "    }\n",
       "</style>\n",
       "<table border=\"1\" class=\"dataframe\">\n",
       "  <thead>\n",
       "    <tr style=\"text-align: right;\">\n",
       "      <th></th>\n",
       "      <th>did_rain</th>\n",
       "    </tr>\n",
       "    <tr>\n",
       "      <th>date</th>\n",
       "      <th></th>\n",
       "    </tr>\n",
       "  </thead>\n",
       "  <tbody>\n",
       "    <tr>\n",
       "      <th>2012-01-31</th>\n",
       "      <td>22</td>\n",
       "    </tr>\n",
       "    <tr>\n",
       "      <th>2012-02-29</th>\n",
       "      <td>19</td>\n",
       "    </tr>\n",
       "    <tr>\n",
       "      <th>2012-03-31</th>\n",
       "      <td>22</td>\n",
       "    </tr>\n",
       "    <tr>\n",
       "      <th>2012-04-30</th>\n",
       "      <td>17</td>\n",
       "    </tr>\n",
       "    <tr>\n",
       "      <th>2012-05-31</th>\n",
       "      <td>10</td>\n",
       "    </tr>\n",
       "  </tbody>\n",
       "</table>\n",
       "</div>"
      ],
      "text/plain": [
       "            did_rain\n",
       "date                \n",
       "2012-01-31        22\n",
       "2012-02-29        19\n",
       "2012-03-31        22\n",
       "2012-04-30        17\n",
       "2012-05-31        10"
      ]
     },
     "execution_count": 41,
     "metadata": {},
     "output_type": "execute_result"
    }
   ],
   "source": [
    "#Create a new df of the data resampled by month\n",
    "did_rain_df = pd.DataFrame(seattle_df.resample('M').did_rain.sum())\n",
    "did_rain_df.head()"
   ]
  },
  {
   "cell_type": "code",
   "execution_count": 42,
   "id": "773f9212",
   "metadata": {},
   "outputs": [
    {
     "data": {
      "text/html": [
       "<div>\n",
       "<style scoped>\n",
       "    .dataframe tbody tr th:only-of-type {\n",
       "        vertical-align: middle;\n",
       "    }\n",
       "\n",
       "    .dataframe tbody tr th {\n",
       "        vertical-align: top;\n",
       "    }\n",
       "\n",
       "    .dataframe thead th {\n",
       "        text-align: right;\n",
       "    }\n",
       "</style>\n",
       "<table border=\"1\" class=\"dataframe\">\n",
       "  <thead>\n",
       "    <tr style=\"text-align: right;\">\n",
       "      <th></th>\n",
       "      <th>did_rain</th>\n",
       "      <th>month</th>\n",
       "    </tr>\n",
       "    <tr>\n",
       "      <th>date</th>\n",
       "      <th></th>\n",
       "      <th></th>\n",
       "    </tr>\n",
       "  </thead>\n",
       "  <tbody>\n",
       "    <tr>\n",
       "      <th>2012-01-31</th>\n",
       "      <td>22</td>\n",
       "      <td>January</td>\n",
       "    </tr>\n",
       "    <tr>\n",
       "      <th>2012-02-29</th>\n",
       "      <td>19</td>\n",
       "      <td>February</td>\n",
       "    </tr>\n",
       "    <tr>\n",
       "      <th>2012-03-31</th>\n",
       "      <td>22</td>\n",
       "      <td>March</td>\n",
       "    </tr>\n",
       "    <tr>\n",
       "      <th>2012-04-30</th>\n",
       "      <td>17</td>\n",
       "      <td>April</td>\n",
       "    </tr>\n",
       "    <tr>\n",
       "      <th>2012-05-31</th>\n",
       "      <td>10</td>\n",
       "      <td>May</td>\n",
       "    </tr>\n",
       "  </tbody>\n",
       "</table>\n",
       "</div>"
      ],
      "text/plain": [
       "            did_rain     month\n",
       "date                          \n",
       "2012-01-31        22   January\n",
       "2012-02-29        19  February\n",
       "2012-03-31        22     March\n",
       "2012-04-30        17     April\n",
       "2012-05-31        10       May"
      ]
     },
     "execution_count": 42,
     "metadata": {},
     "output_type": "execute_result"
    }
   ],
   "source": [
    "#Create a month column\n",
    "did_rain_df['month'] = did_rain_df.index.strftime('%B')\n",
    "did_rain_df.head()"
   ]
  },
  {
   "cell_type": "code",
   "execution_count": 43,
   "id": "95eff531",
   "metadata": {},
   "outputs": [
    {
     "data": {
      "text/plain": [
       "month\n",
       "April        59\n",
       "August       22\n",
       "December     81\n",
       "February     73\n",
       "January      66\n",
       "July         11\n",
       "June         37\n",
       "March        73\n",
       "May          34\n",
       "November     71\n",
       "October      61\n",
       "September    35\n",
       "Name: did_rain, dtype: int64"
      ]
     },
     "execution_count": 43,
     "metadata": {},
     "output_type": "execute_result"
    }
   ],
   "source": [
    "#Group by month to find the rainiest month\n",
    "did_rain_df.groupby('month').did_rain.sum()"
   ]
  },
  {
   "cell_type": "code",
   "execution_count": 44,
   "id": "125aae11",
   "metadata": {},
   "outputs": [
    {
     "data": {
      "text/plain": [
       "'December'"
      ]
     },
     "execution_count": 44,
     "metadata": {},
     "output_type": "execute_result"
    }
   ],
   "source": [
    "#Use idxmax to return the month\n",
    "did_rain_df.groupby('month').did_rain.sum().idxmax()"
   ]
  },
  {
   "cell_type": "markdown",
   "id": "1a2c5ca4",
   "metadata": {},
   "source": [
    "# flights_20k dataset\n",
    "\n",
    "## Question 1\n",
    "\n",
    "Convert any negative delays to 0."
   ]
  },
  {
   "cell_type": "code",
   "execution_count": 45,
   "id": "6d698ada",
   "metadata": {},
   "outputs": [
    {
     "data": {
      "text/html": [
       "<div>\n",
       "<style scoped>\n",
       "    .dataframe tbody tr th:only-of-type {\n",
       "        vertical-align: middle;\n",
       "    }\n",
       "\n",
       "    .dataframe tbody tr th {\n",
       "        vertical-align: top;\n",
       "    }\n",
       "\n",
       "    .dataframe thead th {\n",
       "        text-align: right;\n",
       "    }\n",
       "</style>\n",
       "<table border=\"1\" class=\"dataframe\">\n",
       "  <thead>\n",
       "    <tr style=\"text-align: right;\">\n",
       "      <th></th>\n",
       "      <th>date</th>\n",
       "      <th>delay</th>\n",
       "      <th>distance</th>\n",
       "      <th>origin</th>\n",
       "      <th>destination</th>\n",
       "    </tr>\n",
       "  </thead>\n",
       "  <tbody>\n",
       "    <tr>\n",
       "      <th>0</th>\n",
       "      <td>2001-01-13 14:56:00</td>\n",
       "      <td>32</td>\n",
       "      <td>417</td>\n",
       "      <td>SAN</td>\n",
       "      <td>SJC</td>\n",
       "    </tr>\n",
       "    <tr>\n",
       "      <th>1</th>\n",
       "      <td>2001-01-31 16:40:00</td>\n",
       "      <td>-5</td>\n",
       "      <td>1093</td>\n",
       "      <td>FLL</td>\n",
       "      <td>ISP</td>\n",
       "    </tr>\n",
       "    <tr>\n",
       "      <th>2</th>\n",
       "      <td>2001-02-11 18:39:00</td>\n",
       "      <td>3</td>\n",
       "      <td>293</td>\n",
       "      <td>LBB</td>\n",
       "      <td>DAL</td>\n",
       "    </tr>\n",
       "    <tr>\n",
       "      <th>3</th>\n",
       "      <td>2001-01-10 21:00:00</td>\n",
       "      <td>-15</td>\n",
       "      <td>550</td>\n",
       "      <td>MSY</td>\n",
       "      <td>MCO</td>\n",
       "    </tr>\n",
       "    <tr>\n",
       "      <th>4</th>\n",
       "      <td>2001-03-30 21:45:00</td>\n",
       "      <td>-2</td>\n",
       "      <td>229</td>\n",
       "      <td>STL</td>\n",
       "      <td>IND</td>\n",
       "    </tr>\n",
       "  </tbody>\n",
       "</table>\n",
       "</div>"
      ],
      "text/plain": [
       "                 date  delay  distance origin destination\n",
       "0 2001-01-13 14:56:00     32       417    SAN         SJC\n",
       "1 2001-01-31 16:40:00     -5      1093    FLL         ISP\n",
       "2 2001-02-11 18:39:00      3       293    LBB         DAL\n",
       "3 2001-01-10 21:00:00    -15       550    MSY         MCO\n",
       "4 2001-03-30 21:45:00     -2       229    STL         IND"
      ]
     },
     "execution_count": 45,
     "metadata": {},
     "output_type": "execute_result"
    }
   ],
   "source": [
    "#Read in the flights dataset\n",
    "flights = data.flights_20k()\n",
    "flights.head()"
   ]
  },
  {
   "cell_type": "code",
   "execution_count": 46,
   "id": "6e83ccce",
   "metadata": {},
   "outputs": [
    {
     "data": {
      "text/html": [
       "<div>\n",
       "<style scoped>\n",
       "    .dataframe tbody tr th:only-of-type {\n",
       "        vertical-align: middle;\n",
       "    }\n",
       "\n",
       "    .dataframe tbody tr th {\n",
       "        vertical-align: top;\n",
       "    }\n",
       "\n",
       "    .dataframe thead th {\n",
       "        text-align: right;\n",
       "    }\n",
       "</style>\n",
       "<table border=\"1\" class=\"dataframe\">\n",
       "  <thead>\n",
       "    <tr style=\"text-align: right;\">\n",
       "      <th></th>\n",
       "      <th>date</th>\n",
       "      <th>delay</th>\n",
       "      <th>distance</th>\n",
       "      <th>origin</th>\n",
       "      <th>destination</th>\n",
       "    </tr>\n",
       "  </thead>\n",
       "  <tbody>\n",
       "    <tr>\n",
       "      <th>0</th>\n",
       "      <td>2001-01-13 14:56:00</td>\n",
       "      <td>32</td>\n",
       "      <td>417</td>\n",
       "      <td>SAN</td>\n",
       "      <td>SJC</td>\n",
       "    </tr>\n",
       "    <tr>\n",
       "      <th>1</th>\n",
       "      <td>2001-01-31 16:40:00</td>\n",
       "      <td>0</td>\n",
       "      <td>1093</td>\n",
       "      <td>FLL</td>\n",
       "      <td>ISP</td>\n",
       "    </tr>\n",
       "    <tr>\n",
       "      <th>2</th>\n",
       "      <td>2001-02-11 18:39:00</td>\n",
       "      <td>3</td>\n",
       "      <td>293</td>\n",
       "      <td>LBB</td>\n",
       "      <td>DAL</td>\n",
       "    </tr>\n",
       "    <tr>\n",
       "      <th>3</th>\n",
       "      <td>2001-01-10 21:00:00</td>\n",
       "      <td>0</td>\n",
       "      <td>550</td>\n",
       "      <td>MSY</td>\n",
       "      <td>MCO</td>\n",
       "    </tr>\n",
       "    <tr>\n",
       "      <th>4</th>\n",
       "      <td>2001-03-30 21:45:00</td>\n",
       "      <td>0</td>\n",
       "      <td>229</td>\n",
       "      <td>STL</td>\n",
       "      <td>IND</td>\n",
       "    </tr>\n",
       "  </tbody>\n",
       "</table>\n",
       "</div>"
      ],
      "text/plain": [
       "                 date  delay  distance origin destination\n",
       "0 2001-01-13 14:56:00     32       417    SAN         SJC\n",
       "1 2001-01-31 16:40:00      0      1093    FLL         ISP\n",
       "2 2001-02-11 18:39:00      3       293    LBB         DAL\n",
       "3 2001-01-10 21:00:00      0       550    MSY         MCO\n",
       "4 2001-03-30 21:45:00      0       229    STL         IND"
      ]
     },
     "execution_count": 46,
     "metadata": {},
     "output_type": "execute_result"
    }
   ],
   "source": [
    "#Correct all negative delays to 0\n",
    "flights['delay'] = np.where(flights['delay'] < 0, 0, flights['delay'])\n",
    "flights.head()"
   ]
  },
  {
   "cell_type": "markdown",
   "id": "85ea0fdd",
   "metadata": {},
   "source": [
    "## Question 2\n",
    "\n",
    "Which hour of the day has the highest average delay?"
   ]
  },
  {
   "cell_type": "code",
   "execution_count": 47,
   "id": "a3611165",
   "metadata": {},
   "outputs": [
    {
     "data": {
      "text/html": [
       "<div>\n",
       "<style scoped>\n",
       "    .dataframe tbody tr th:only-of-type {\n",
       "        vertical-align: middle;\n",
       "    }\n",
       "\n",
       "    .dataframe tbody tr th {\n",
       "        vertical-align: top;\n",
       "    }\n",
       "\n",
       "    .dataframe thead th {\n",
       "        text-align: right;\n",
       "    }\n",
       "</style>\n",
       "<table border=\"1\" class=\"dataframe\">\n",
       "  <thead>\n",
       "    <tr style=\"text-align: right;\">\n",
       "      <th></th>\n",
       "      <th>delay</th>\n",
       "      <th>distance</th>\n",
       "      <th>origin</th>\n",
       "      <th>destination</th>\n",
       "    </tr>\n",
       "    <tr>\n",
       "      <th>date</th>\n",
       "      <th></th>\n",
       "      <th></th>\n",
       "      <th></th>\n",
       "      <th></th>\n",
       "    </tr>\n",
       "  </thead>\n",
       "  <tbody>\n",
       "    <tr>\n",
       "      <th>2001-01-13 14:56:00</th>\n",
       "      <td>32</td>\n",
       "      <td>417</td>\n",
       "      <td>SAN</td>\n",
       "      <td>SJC</td>\n",
       "    </tr>\n",
       "    <tr>\n",
       "      <th>2001-01-31 16:40:00</th>\n",
       "      <td>0</td>\n",
       "      <td>1093</td>\n",
       "      <td>FLL</td>\n",
       "      <td>ISP</td>\n",
       "    </tr>\n",
       "    <tr>\n",
       "      <th>2001-02-11 18:39:00</th>\n",
       "      <td>3</td>\n",
       "      <td>293</td>\n",
       "      <td>LBB</td>\n",
       "      <td>DAL</td>\n",
       "    </tr>\n",
       "    <tr>\n",
       "      <th>2001-01-10 21:00:00</th>\n",
       "      <td>0</td>\n",
       "      <td>550</td>\n",
       "      <td>MSY</td>\n",
       "      <td>MCO</td>\n",
       "    </tr>\n",
       "    <tr>\n",
       "      <th>2001-03-30 21:45:00</th>\n",
       "      <td>0</td>\n",
       "      <td>229</td>\n",
       "      <td>STL</td>\n",
       "      <td>IND</td>\n",
       "    </tr>\n",
       "  </tbody>\n",
       "</table>\n",
       "</div>"
      ],
      "text/plain": [
       "                     delay  distance origin destination\n",
       "date                                                   \n",
       "2001-01-13 14:56:00     32       417    SAN         SJC\n",
       "2001-01-31 16:40:00      0      1093    FLL         ISP\n",
       "2001-02-11 18:39:00      3       293    LBB         DAL\n",
       "2001-01-10 21:00:00      0       550    MSY         MCO\n",
       "2001-03-30 21:45:00      0       229    STL         IND"
      ]
     },
     "execution_count": 47,
     "metadata": {},
     "output_type": "execute_result"
    }
   ],
   "source": [
    "#Make the date my index\n",
    "flights.set_index('date', inplace=True)\n",
    "flights.head()"
   ]
  },
  {
   "cell_type": "code",
   "execution_count": 48,
   "id": "73d0c01d",
   "metadata": {},
   "outputs": [
    {
     "data": {
      "text/html": [
       "<div>\n",
       "<style scoped>\n",
       "    .dataframe tbody tr th:only-of-type {\n",
       "        vertical-align: middle;\n",
       "    }\n",
       "\n",
       "    .dataframe tbody tr th {\n",
       "        vertical-align: top;\n",
       "    }\n",
       "\n",
       "    .dataframe thead th {\n",
       "        text-align: right;\n",
       "    }\n",
       "</style>\n",
       "<table border=\"1\" class=\"dataframe\">\n",
       "  <thead>\n",
       "    <tr style=\"text-align: right;\">\n",
       "      <th></th>\n",
       "      <th>delay</th>\n",
       "      <th>distance</th>\n",
       "      <th>origin</th>\n",
       "      <th>destination</th>\n",
       "      <th>hour</th>\n",
       "    </tr>\n",
       "    <tr>\n",
       "      <th>date</th>\n",
       "      <th></th>\n",
       "      <th></th>\n",
       "      <th></th>\n",
       "      <th></th>\n",
       "      <th></th>\n",
       "    </tr>\n",
       "  </thead>\n",
       "  <tbody>\n",
       "    <tr>\n",
       "      <th>2001-01-13 14:56:00</th>\n",
       "      <td>32</td>\n",
       "      <td>417</td>\n",
       "      <td>SAN</td>\n",
       "      <td>SJC</td>\n",
       "      <td>14</td>\n",
       "    </tr>\n",
       "    <tr>\n",
       "      <th>2001-01-31 16:40:00</th>\n",
       "      <td>0</td>\n",
       "      <td>1093</td>\n",
       "      <td>FLL</td>\n",
       "      <td>ISP</td>\n",
       "      <td>16</td>\n",
       "    </tr>\n",
       "    <tr>\n",
       "      <th>2001-02-11 18:39:00</th>\n",
       "      <td>3</td>\n",
       "      <td>293</td>\n",
       "      <td>LBB</td>\n",
       "      <td>DAL</td>\n",
       "      <td>18</td>\n",
       "    </tr>\n",
       "    <tr>\n",
       "      <th>2001-01-10 21:00:00</th>\n",
       "      <td>0</td>\n",
       "      <td>550</td>\n",
       "      <td>MSY</td>\n",
       "      <td>MCO</td>\n",
       "      <td>21</td>\n",
       "    </tr>\n",
       "    <tr>\n",
       "      <th>2001-03-30 21:45:00</th>\n",
       "      <td>0</td>\n",
       "      <td>229</td>\n",
       "      <td>STL</td>\n",
       "      <td>IND</td>\n",
       "      <td>21</td>\n",
       "    </tr>\n",
       "  </tbody>\n",
       "</table>\n",
       "</div>"
      ],
      "text/plain": [
       "                     delay  distance origin destination hour\n",
       "date                                                        \n",
       "2001-01-13 14:56:00     32       417    SAN         SJC   14\n",
       "2001-01-31 16:40:00      0      1093    FLL         ISP   16\n",
       "2001-02-11 18:39:00      3       293    LBB         DAL   18\n",
       "2001-01-10 21:00:00      0       550    MSY         MCO   21\n",
       "2001-03-30 21:45:00      0       229    STL         IND   21"
      ]
     },
     "execution_count": 48,
     "metadata": {},
     "output_type": "execute_result"
    }
   ],
   "source": [
    "#Create an hour column\n",
    "flights['hour'] = flights.index.strftime('%H')\n",
    "flights.head()"
   ]
  },
  {
   "cell_type": "code",
   "execution_count": 49,
   "id": "2fb7db71",
   "metadata": {},
   "outputs": [
    {
     "data": {
      "text/plain": [
       "hour\n",
       "00    127.916667\n",
       "01    170.000000\n",
       "03    302.500000\n",
       "05      0.513514\n",
       "06      2.494856\n",
       "07      3.071932\n",
       "08      4.030483\n",
       "09      5.002504\n",
       "10      5.850953\n",
       "11      7.361495\n",
       "12      9.214341\n",
       "13     11.453311\n",
       "14     10.747320\n",
       "15     13.137592\n",
       "16     13.881068\n",
       "17     13.199580\n",
       "18     14.514218\n",
       "19     16.256557\n",
       "20     17.889778\n",
       "21     21.626768\n",
       "22     32.704607\n",
       "23     65.353846\n",
       "Name: delay, dtype: float64"
      ]
     },
     "execution_count": 49,
     "metadata": {},
     "output_type": "execute_result"
    }
   ],
   "source": [
    "#Group by hour to find the hour with the greatest average delay\n",
    "flights.groupby('hour').delay.mean()"
   ]
  },
  {
   "cell_type": "code",
   "execution_count": 50,
   "id": "8dbd7fa0",
   "metadata": {},
   "outputs": [
    {
     "data": {
      "text/plain": [
       "'03'"
      ]
     },
     "execution_count": 50,
     "metadata": {},
     "output_type": "execute_result"
    }
   ],
   "source": [
    "#Use idxmax to return the hour\n",
    "flights.groupby('hour').delay.mean().idxmax()"
   ]
  },
  {
   "cell_type": "markdown",
   "id": "d644845a",
   "metadata": {},
   "source": [
    "## Question 3\n",
    "\n",
    "Does the day of the week make a difference in the delay amount?"
   ]
  },
  {
   "cell_type": "code",
   "execution_count": 51,
   "id": "abb786ab",
   "metadata": {},
   "outputs": [
    {
     "data": {
      "text/html": [
       "<div>\n",
       "<style scoped>\n",
       "    .dataframe tbody tr th:only-of-type {\n",
       "        vertical-align: middle;\n",
       "    }\n",
       "\n",
       "    .dataframe tbody tr th {\n",
       "        vertical-align: top;\n",
       "    }\n",
       "\n",
       "    .dataframe thead th {\n",
       "        text-align: right;\n",
       "    }\n",
       "</style>\n",
       "<table border=\"1\" class=\"dataframe\">\n",
       "  <thead>\n",
       "    <tr style=\"text-align: right;\">\n",
       "      <th></th>\n",
       "      <th>delay</th>\n",
       "      <th>distance</th>\n",
       "      <th>origin</th>\n",
       "      <th>destination</th>\n",
       "      <th>hour</th>\n",
       "      <th>day_of_week</th>\n",
       "    </tr>\n",
       "    <tr>\n",
       "      <th>date</th>\n",
       "      <th></th>\n",
       "      <th></th>\n",
       "      <th></th>\n",
       "      <th></th>\n",
       "      <th></th>\n",
       "      <th></th>\n",
       "    </tr>\n",
       "  </thead>\n",
       "  <tbody>\n",
       "    <tr>\n",
       "      <th>2001-01-13 14:56:00</th>\n",
       "      <td>32</td>\n",
       "      <td>417</td>\n",
       "      <td>SAN</td>\n",
       "      <td>SJC</td>\n",
       "      <td>14</td>\n",
       "      <td>Saturday</td>\n",
       "    </tr>\n",
       "    <tr>\n",
       "      <th>2001-01-31 16:40:00</th>\n",
       "      <td>0</td>\n",
       "      <td>1093</td>\n",
       "      <td>FLL</td>\n",
       "      <td>ISP</td>\n",
       "      <td>16</td>\n",
       "      <td>Wednesday</td>\n",
       "    </tr>\n",
       "    <tr>\n",
       "      <th>2001-02-11 18:39:00</th>\n",
       "      <td>3</td>\n",
       "      <td>293</td>\n",
       "      <td>LBB</td>\n",
       "      <td>DAL</td>\n",
       "      <td>18</td>\n",
       "      <td>Sunday</td>\n",
       "    </tr>\n",
       "    <tr>\n",
       "      <th>2001-01-10 21:00:00</th>\n",
       "      <td>0</td>\n",
       "      <td>550</td>\n",
       "      <td>MSY</td>\n",
       "      <td>MCO</td>\n",
       "      <td>21</td>\n",
       "      <td>Wednesday</td>\n",
       "    </tr>\n",
       "    <tr>\n",
       "      <th>2001-03-30 21:45:00</th>\n",
       "      <td>0</td>\n",
       "      <td>229</td>\n",
       "      <td>STL</td>\n",
       "      <td>IND</td>\n",
       "      <td>21</td>\n",
       "      <td>Friday</td>\n",
       "    </tr>\n",
       "  </tbody>\n",
       "</table>\n",
       "</div>"
      ],
      "text/plain": [
       "                     delay  distance origin destination hour day_of_week\n",
       "date                                                                    \n",
       "2001-01-13 14:56:00     32       417    SAN         SJC   14    Saturday\n",
       "2001-01-31 16:40:00      0      1093    FLL         ISP   16   Wednesday\n",
       "2001-02-11 18:39:00      3       293    LBB         DAL   18      Sunday\n",
       "2001-01-10 21:00:00      0       550    MSY         MCO   21   Wednesday\n",
       "2001-03-30 21:45:00      0       229    STL         IND   21      Friday"
      ]
     },
     "execution_count": 51,
     "metadata": {},
     "output_type": "execute_result"
    }
   ],
   "source": [
    "#Create a new column for the day of the week\n",
    "flights['day_of_week'] = flights.index.strftime('%A')\n",
    "flights.head()"
   ]
  },
  {
   "cell_type": "code",
   "execution_count": 52,
   "id": "aa55e87f",
   "metadata": {},
   "outputs": [
    {
     "data": {
      "text/plain": [
       "day_of_week\n",
       "Friday       17.757596\n",
       "Monday        7.165772\n",
       "Saturday      8.431498\n",
       "Sunday       10.413542\n",
       "Thursday     12.821322\n",
       "Tuesday       9.410866\n",
       "Wednesday    11.032478\n",
       "Name: delay, dtype: float64"
      ]
     },
     "execution_count": 52,
     "metadata": {},
     "output_type": "execute_result"
    }
   ],
   "source": [
    "#Group by day of the week and take the mean of delay\n",
    "flights.groupby('day_of_week').delay.mean()"
   ]
  },
  {
   "cell_type": "markdown",
   "id": "b6557f7f",
   "metadata": {},
   "source": [
    "## Question 4\n",
    "\n",
    "Does the month make a difference in the delay amount?"
   ]
  },
  {
   "cell_type": "code",
   "execution_count": 53,
   "id": "91fc348a",
   "metadata": {},
   "outputs": [
    {
     "data": {
      "text/html": [
       "<div>\n",
       "<style scoped>\n",
       "    .dataframe tbody tr th:only-of-type {\n",
       "        vertical-align: middle;\n",
       "    }\n",
       "\n",
       "    .dataframe tbody tr th {\n",
       "        vertical-align: top;\n",
       "    }\n",
       "\n",
       "    .dataframe thead th {\n",
       "        text-align: right;\n",
       "    }\n",
       "</style>\n",
       "<table border=\"1\" class=\"dataframe\">\n",
       "  <thead>\n",
       "    <tr style=\"text-align: right;\">\n",
       "      <th></th>\n",
       "      <th>delay</th>\n",
       "      <th>distance</th>\n",
       "      <th>origin</th>\n",
       "      <th>destination</th>\n",
       "      <th>hour</th>\n",
       "      <th>day_of_week</th>\n",
       "      <th>month</th>\n",
       "    </tr>\n",
       "    <tr>\n",
       "      <th>date</th>\n",
       "      <th></th>\n",
       "      <th></th>\n",
       "      <th></th>\n",
       "      <th></th>\n",
       "      <th></th>\n",
       "      <th></th>\n",
       "      <th></th>\n",
       "    </tr>\n",
       "  </thead>\n",
       "  <tbody>\n",
       "    <tr>\n",
       "      <th>2001-01-13 14:56:00</th>\n",
       "      <td>32</td>\n",
       "      <td>417</td>\n",
       "      <td>SAN</td>\n",
       "      <td>SJC</td>\n",
       "      <td>14</td>\n",
       "      <td>Saturday</td>\n",
       "      <td>January</td>\n",
       "    </tr>\n",
       "    <tr>\n",
       "      <th>2001-01-31 16:40:00</th>\n",
       "      <td>0</td>\n",
       "      <td>1093</td>\n",
       "      <td>FLL</td>\n",
       "      <td>ISP</td>\n",
       "      <td>16</td>\n",
       "      <td>Wednesday</td>\n",
       "      <td>January</td>\n",
       "    </tr>\n",
       "    <tr>\n",
       "      <th>2001-02-11 18:39:00</th>\n",
       "      <td>3</td>\n",
       "      <td>293</td>\n",
       "      <td>LBB</td>\n",
       "      <td>DAL</td>\n",
       "      <td>18</td>\n",
       "      <td>Sunday</td>\n",
       "      <td>February</td>\n",
       "    </tr>\n",
       "    <tr>\n",
       "      <th>2001-01-10 21:00:00</th>\n",
       "      <td>0</td>\n",
       "      <td>550</td>\n",
       "      <td>MSY</td>\n",
       "      <td>MCO</td>\n",
       "      <td>21</td>\n",
       "      <td>Wednesday</td>\n",
       "      <td>January</td>\n",
       "    </tr>\n",
       "    <tr>\n",
       "      <th>2001-03-30 21:45:00</th>\n",
       "      <td>0</td>\n",
       "      <td>229</td>\n",
       "      <td>STL</td>\n",
       "      <td>IND</td>\n",
       "      <td>21</td>\n",
       "      <td>Friday</td>\n",
       "      <td>March</td>\n",
       "    </tr>\n",
       "  </tbody>\n",
       "</table>\n",
       "</div>"
      ],
      "text/plain": [
       "                     delay  distance origin destination hour day_of_week  \\\n",
       "date                                                                       \n",
       "2001-01-13 14:56:00     32       417    SAN         SJC   14    Saturday   \n",
       "2001-01-31 16:40:00      0      1093    FLL         ISP   16   Wednesday   \n",
       "2001-02-11 18:39:00      3       293    LBB         DAL   18      Sunday   \n",
       "2001-01-10 21:00:00      0       550    MSY         MCO   21   Wednesday   \n",
       "2001-03-30 21:45:00      0       229    STL         IND   21      Friday   \n",
       "\n",
       "                        month  \n",
       "date                           \n",
       "2001-01-13 14:56:00   January  \n",
       "2001-01-31 16:40:00   January  \n",
       "2001-02-11 18:39:00  February  \n",
       "2001-01-10 21:00:00   January  \n",
       "2001-03-30 21:45:00     March  "
      ]
     },
     "execution_count": 53,
     "metadata": {},
     "output_type": "execute_result"
    }
   ],
   "source": [
    "#Create a new column of the month\n",
    "flights['month'] = flights.index.strftime('%B')\n",
    "flights.head()"
   ]
  },
  {
   "cell_type": "code",
   "execution_count": 54,
   "id": "233e85b6",
   "metadata": {},
   "outputs": [
    {
     "data": {
      "text/plain": [
       "month\n",
       "February    12.306106\n",
       "January     11.301592\n",
       "March        9.875287\n",
       "Name: delay, dtype: float64"
      ]
     },
     "execution_count": 54,
     "metadata": {},
     "output_type": "execute_result"
    }
   ],
   "source": [
    "#Group by month and take the average delay\n",
    "flights.groupby('month').delay.mean()"
   ]
  },
  {
   "cell_type": "code",
   "execution_count": null,
   "id": "c5b6ccbc",
   "metadata": {},
   "outputs": [],
   "source": []
  }
 ],
 "metadata": {
  "kernelspec": {
   "display_name": "Python 3 (ipykernel)",
   "language": "python",
   "name": "python3"
  },
  "language_info": {
   "codemirror_mode": {
    "name": "ipython",
    "version": 3
   },
   "file_extension": ".py",
   "mimetype": "text/x-python",
   "name": "python",
   "nbconvert_exporter": "python",
   "pygments_lexer": "ipython3",
   "version": "3.9.12"
  }
 },
 "nbformat": 4,
 "nbformat_minor": 5
}
